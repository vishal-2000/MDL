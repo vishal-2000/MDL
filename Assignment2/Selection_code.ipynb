{
 "cells": [
  {
   "cell_type": "code",
   "execution_count": 4,
   "metadata": {},
   "outputs": [],
   "source": [
    "# A generic genetic algorithm\n",
    "import random\n",
    "import numpy as np\n",
    "import matplotlib.pyplot as plt\n",
    "from client import get_errors, get_overfit_vector, submit\n",
    "from io import StringIO\n",
    "from config import SECRET_KEY\n",
    "from utils import POPULATION_SIZE, SPLIT_POINT, FEATURE_VECTOR_SIZE, MUTATION_COEFF\n",
    "from helpers import mkdir_p, get_train_validation_errors, get_rank_and_probabilities, fitness, select_parents, cross_over, mutate, plot_graph, initialize_params, select_the_best, return_elite, list_to_array, file_name, return_order, single_mutate\n",
    "\n",
    "from errno import EEXIST\n",
    "from os import makedirs, path"
   ]
  },
  {
   "cell_type": "code",
   "execution_count": null,
   "metadata": {},
   "outputs": [],
   "source": [
    "def get_vec(a, i): # gets ith vector\n",
    "    "
   ]
  },
  {
   "cell_type": "code",
   "execution_count": 5,
   "metadata": {},
   "outputs": [
    {
     "name": "stdout",
     "output_type": "stream",
     "text": [
      "successfully submitted\n",
      "6.091169e+10 3.093481e+11\n",
      "Difference - 2.484364e+11\n"
     ]
    }
   ],
   "source": [
    "a = [ 0.00000000e+00,\n",
    "      -7.13121383e+00,\n",
    "  -4.57220039e+00,\n",
    "  -5.23714582e+00,\n",
    "  -1.75214813e-10,\n",
    "  -1.83669770e-15,\n",
    "  8.52944060e-16,\n",
    "  2.29423303e-05,\n",
    "  -2.04721003e-06,\n",
    "  -1.59792834e-08,\n",
    "  9.98214034e-10]\n",
    "x = get_errors(SECRET_KEY, list(a))\n",
    "y = submit(SECRET_KEY, list(a))\n",
    "print(y)\n",
    "print(\"{:e}\".format(int(x[0])), \"{:e}\".format(int(x[1])))\n",
    "print(\"Difference - {:e}\".format(abs(x[0]-x[1])))\n",
    "# 40054739721927.35\n",
    "# rank 105"
   ]
  },
  {
   "cell_type": "code",
   "execution_count": 7,
   "metadata": {},
   "outputs": [
    {
     "name": "stdout",
     "output_type": "stream",
     "text": [
      "successfully submitted\n",
      "1.239411e+11 3.430050e+11\n",
      "Difference - 2.190639e+11\n"
     ]
    }
   ],
   "source": [
    "#[[-4.63266749e+00 -1.01521951e-01  3.62255145e+00 -8.09349783e+00\n",
    "  #-1.75214813e-10 -1.83669770e-15  8.52944060e-16  2.29423303e-05\n",
    "  #-2.04721003e-06 -1.59792834e-08  9.98214034e-10]\n",
    " #[-4.63266749e+00 -1.01521951e-01  3.62255145e+00 -8.09349783e+00\n",
    " # -1.75214813e-10 -1.83669770e-15  8.52944060e-16  2.29423303e-05\n",
    " # -2.04721003e-06 -1.59792834e-08  9.98214034e-10]\n",
    " #[ 1.21512337e-01 -7.55657315e+00  1.86140117e+00 -7.86082958e-01\n",
    " # -1.75214813e-10 -1.83669770e-15  8.52944060e-16  2.29423303e-05\n",
    " # -2.04721003e-06 -1.59792834e-08  9.98214034e-10]\n",
    " #[-4.63266749e+00 -1.01521951e-01  3.62255145e+00 -8.09349783e+00\n",
    " # -1.75214813e-10 -1.83669770e-15  8.52944060e-16  2.29423303e-05\n",
    " # -2.04721003e-06 -1.59792834e-08  9.98214034e-10]\n",
    "a = [-4.63266749e+00, -1.01521951e-01,  3.62255145e+00, -8.09349783e+00,\n",
    "  -1.75214813e-10, -1.83669770e-15,  8.52944060e-16,  2.29423303e-05,\n",
    "  -2.04721003e-06, -1.59792834e-08,  9.98214034e-10,]\n",
    "x = get_errors(SECRET_KEY, list(a))\n",
    "y = submit(SECRET_KEY, list(a))\n",
    "print(y)\n",
    "print(\"{:e}\".format(int(x[0])), \"{:e}\".format(int(x[1])))\n",
    "print(\"Difference - {:e}\".format(abs(x[0]-x[1])))\n",
    "# \t41443686598980.77"
   ]
  },
  {
   "cell_type": "code",
   "execution_count": 8,
   "metadata": {},
   "outputs": [
    {
     "name": "stdout",
     "output_type": "stream",
     "text": [
      "successfully submitted\n",
      "2.718210e+12 4.571930e+12\n",
      "Difference - 1.853720e+12\n"
     ]
    }
   ],
   "source": [
    "a = [7.70736128e-01,\n",
    "  -4.66877551e-14,\n",
    "  -2.28980078e-13,\n",
    "  4.62010753e-11,\n",
    "  4.22248346e-12,\n",
    "  1.45537896e-16,\n",
    "  -1.46853757e-18,\n",
    "  2.29423303e-05,\n",
    "  8.02207615e-08,\n",
    "  -1.59792834e-08,\n",
    "  8.88224269e-11]\n",
    "x = get_errors(SECRET_KEY, list(a))\n",
    "y = submit(SECRET_KEY, list(a))\n",
    "print(y)\n",
    "print(\"{:e}\".format(int(x[0])), \"{:e}\".format(int(x[1])))\n",
    "print(\"Difference - {:e}\".format(abs(x[0]-x[1])))\n",
    "# 49178873077488.5"
   ]
  },
  {
   "cell_type": "code",
   "execution_count": 10,
   "metadata": {},
   "outputs": [
    {
     "name": "stdout",
     "output_type": "stream",
     "text": [
      "successfully submitted\n",
      "3.872146e+12 7.237878e+12\n",
      "Difference - 3.365733e+12\n"
     ]
    }
   ],
   "source": [
    "a = [0.00000000e+00,\n",
    " -3.31145706e-13,\n",
    " 7.16632532e-14,\n",
    " 4.62010753e-11,\n",
    " 4.22248346e-12, \n",
    " -1.83669770e-15,\n",
    " -9.55819519e-17,\n",
    " 2.29423303e-05,\n",
    " 1.87360257e-07,\n",
    " -1.59792834e-08,\n",
    " 8.88224269e-11]\n",
    "x = get_errors(SECRET_KEY, list(a))\n",
    "y = submit(SECRET_KEY, list(a))\n",
    "print(y)\n",
    "print(\"{:e}\".format(int(x[0])), \"{:e}\".format(int(x[1])))\n",
    "print(\"Difference - {:e}\".format(abs(x[0]-x[1])))\n",
    "# 63071574217228.414 "
   ]
  },
  {
   "cell_type": "code",
   "execution_count": 12,
   "metadata": {},
   "outputs": [
    {
     "name": "stdout",
     "output_type": "stream",
     "text": [
      "Difference - 3.770560e+13\n"
     ]
    }
   ],
   "source": [
    "print(\"Difference - {:e}\".format(abs(4.160772e+13 - 7.931332e+13)))"
   ]
  },
  {
   "cell_type": "code",
   "execution_count": 13,
   "metadata": {},
   "outputs": [
    {
     "name": "stdout",
     "output_type": "stream",
     "text": [
      "successfully submitted\n",
      "1.351072e+10 3.682966e+11\n",
      "Difference - 3.547859e+11\n"
     ]
    }
   ],
   "source": [
    "a = [0.0, -1.45799022e-12, -2.28980078e-13,  4.62010753e-11, -1.75214813e-10, -1.83669770e-15,  8.52944060e-16,  2.29423303e-05, -2.04721003e-06, -1.59792834e-08,  9.98214034e-10]\n",
    "x = get_errors(SECRET_KEY, list(a))\n",
    "y = submit(SECRET_KEY, list(a))\n",
    "print(y)\n",
    "print(\"{:e}\".format(int(x[0])), \"{:e}\".format(int(x[1])))\n",
    "print(\"Difference - {:e}\".format(abs(x[0]-x[1])))\n",
    "# 37778024344010.36 - Initial overfit vector"
   ]
  },
  {
   "cell_type": "code",
   "execution_count": null,
   "metadata": {},
   "outputs": [],
   "source": []
  }
 ],
 "metadata": {
  "kernelspec": {
   "display_name": "science2_env",
   "language": "python",
   "name": "science2_env"
  },
  "language_info": {
   "codemirror_mode": {
    "name": "ipython",
    "version": 3
   },
   "file_extension": ".py",
   "mimetype": "text/x-python",
   "name": "python",
   "nbconvert_exporter": "python",
   "pygments_lexer": "ipython3",
   "version": "3.8.5"
  }
 },
 "nbformat": 4,
 "nbformat_minor": 4
}
