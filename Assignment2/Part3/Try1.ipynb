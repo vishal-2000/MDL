{
 "cells": [
  {
   "cell_type": "markdown",
   "metadata": {},
   "source": [
    "# Assignment 2 Part 3 (Linear Programming)"
   ]
  },
  {
   "cell_type": "markdown",
   "metadata": {},
   "source": [
    "## Model\n",
    "- Decision variables: $x_{ia}$ (expected number of times an action a is taken in state i)\n",
    "- Objective function: $\\sum_{i, j} x_{ij}*r_{ij} $\n",
    "- We need to find $x_{ij}$ for all i, j (this will be our decision rule or policy) with an objective to maximize the above objective function \n",
    "- Constraints: \n",
    "    1. $x_{ij} >= 0.0 \\; \\; \\;  \\forall i, j $ (As probabilities have to be positive)\n",
    "    2. $\\sum_{a} x_{ja}  -  \\sum_{i}\\sum_{a}x_{ia}p_{ij}^{a} = \\alpha_{j} \\; \\; \\; \\; \\forall j$ "
   ]
  },
  {
   "cell_type": "code",
   "execution_count": 1,
   "metadata": {},
   "outputs": [],
   "source": [
    "import numpy as np\n",
    "import cvxpy as cp\n",
    "# X matrix (decision rules)\n",
    "n_states = 5   # N, S, E, W, C\n",
    "n_actions = 9  # L, R, U, D, stay, gather, craft, shoot, hit\n",
    "X = np.zeros(n_states * n_actions)\n",
    "R = np.zeros(n_states * n_actions)"
   ]
  },
  {
   "cell_type": "code",
   "execution_count": 14,
   "metadata": {},
   "outputs": [],
   "source": [
    "class State:\n",
    "    def __init__(self):\n",
    "        self.meta_data = {\n",
    "            \"position\": ['W', 'N', 'E', 'S', 'C'],\n",
    "            \"material\": [0, 1, 2],\n",
    "            \"no_of_arrow\": [0, 1],\n",
    "            \"MM_state\": ['D', 'R'],\n",
    "            \"MM_health\": [0, 25, 50, 75, 100],\n",
    "            \"action\": ['UP', 'LEFT', 'DOWN', 'RIGHT', 'STAY', 'SHOOT', 'HIT', 'CRAFT', 'GATHER', 'NONE']\n",
    "        }\n",
    "        self.state = {}\n"
   ]
  },
  {
   "cell_type": "markdown",
   "metadata": {},
   "source": [
    "# Meta data declaration"
   ]
  },
  {
   "cell_type": "code",
   "execution_count": 15,
   "metadata": {},
   "outputs": [],
   "source": [
    "meta_data = {\n",
    "            \"position\": ['W', 'N', 'E', 'S', 'C'],\n",
    "            \"material\": [0, 1, 2],\n",
    "            \"no_of_arrow\": [0, 1],\n",
    "            \"MM_state\": ['D', 'R'],\n",
    "            \"MM_health\": [0, 25, 50, 75, 100],\n",
    "            \"action\": ['UP', 'LEFT', 'DOWN', 'RIGHT', 'STAY', 'SHOOT', 'HIT', 'CRAFT', 'GATHER', 'NONE']\n",
    "        }"
   ]
  },
  {
   "cell_type": "markdown",
   "metadata": {},
   "source": [
    "# Return valid list of states"
   ]
  },
  {
   "cell_type": "code",
   "execution_count": 16,
   "metadata": {},
   "outputs": [],
   "source": [
    "def return_valid_lists():\n",
    "    valid_states = []\n",
    "    #k = 0\n",
    "    for position in meta_data['position']:\n",
    "        for material in meta_data['material']:\n",
    "            for n_arrows in meta_data['no_of_arrow']:\n",
    "                for mm_state in meta_data['MM_state']:\n",
    "                    for mm_health in meta_data['MM_health']:\n",
    "                        for action in meta_data['action']:\n",
    "                            #k+=1\n",
    "                            # North\n",
    "                            if position==\"N\":\n",
    "                                if mm_health == 0:\n",
    "                                    continue\n",
    "                                if action==\"DOWN\" or action==\"STAY\" or action==\"NONE\":\n",
    "                                    valid_states.append([position, material, n_arrows, mm_state, mm_health, action])\n",
    "                                    continue\n",
    "                                if material>=1 and action==\"CRAFT\":\n",
    "                                    valid_states.append([position, material, n_arrows, mm_state, mm_health, action])\n",
    "                                    continue\n",
    "                            # South   \n",
    "                            if position==\"S\":\n",
    "                                if mm_health == 0:\n",
    "                                    continue\n",
    "                                if action==\"UP\" or action==\"STAY\" or action==\"NONE\" or action==\"GATHER\" :\n",
    "                                    valid_states.append([position, material, n_arrows, mm_state, mm_health, action])\n",
    "                                    continue\n",
    "                                #pass\n",
    "                            #East\n",
    "                            if position==\"E\":\n",
    "                                if action==\"LEFT\" or action==\"STAY\" or action==\"NONE\" or action==\"HIT\":\n",
    "                                    valid_states.append([position, material, n_arrows, mm_state, mm_health, action])\n",
    "                                    continue\n",
    "                                if action==\"SHOOT\" and n_arrows>0:\n",
    "                                    valid_states.append([position, material, n_arrows, mm_state, mm_health, action])\n",
    "                                    continue\n",
    "                                #pass\n",
    "                            # West\n",
    "                            if position==\"W\":\n",
    "                                if action==\"RIGHT\" or action==\"STAY\" or action==\"NONE\":\n",
    "                                    valid_states.append([position, material, n_arrows, mm_state, mm_health, action])\n",
    "                                    continue\n",
    "                                if action==\"SHOOT\" and n_arrows>0:\n",
    "                                    valid_states.append([position, material, n_arrows, mm_state, mm_health, action])\n",
    "                                    continue\n",
    "                                #pass\n",
    "                            # Centre\n",
    "                            if position==\"C\":\n",
    "                                if action==\"RIGHT\" or action==\"LEFT\" or action==\"UP\" or action==\"DOWN\" or action==\"STAY\" or action==\"NONE\":\n",
    "                                    valid_states.append([position, material, n_arrows, mm_state, mm_health, action])\n",
    "                                    continue\n",
    "                                if action==\"SHOOT\" and n_arrows>0:\n",
    "                                    valid_states.append([position, material, n_arrows, mm_state, mm_health, action])\n",
    "                                    continue               \n",
    "                                #pass\n",
    "    #print(k)\n",
    "    return valid_states"
   ]
  },
  {
   "cell_type": "markdown",
   "metadata": {},
   "source": [
    "# Initialize X and R vectors"
   ]
  },
  {
   "cell_type": "code",
   "execution_count": 17,
   "metadata": {},
   "outputs": [],
   "source": [
    "def init_X_and_R():\n",
    "    output_meta_data = []\n",
    "    X = []\n",
    "    R = []\n",
    "    valid_states = return_valid_lists()\n",
    "    #print(len(valid_states))\n",
    "    for position in meta_data['position']:\n",
    "        for material in meta_data['material']:\n",
    "            for n_arrows in meta_data['no_of_arrow']:\n",
    "                for mm_state in meta_data['MM_state']:\n",
    "                    for mm_health in meta_data['MM_health']:\n",
    "                        for action in meta_data['action']:\n",
    "                            a = [position, material, n_arrows, mm_state, mm_health, action]\n",
    "                            if a in valid_states:\n",
    "                                output_meta_data.append([ position, material, n_arrows, mm_state, mm_health, action ])\n",
    "                                X.append(0.0)\n",
    "                                R.append(0.0)\n",
    "    return X, R, output_meta_data"
   ]
  },
  {
   "cell_type": "markdown",
   "metadata": {},
   "source": [
    "# Update R vector"
   ]
  },
  {
   "cell_type": "code",
   "execution_count": 18,
   "metadata": {},
   "outputs": [],
   "source": [
    "def update_R(output_meta_data):\n",
    "    R = []\n",
    "    for record in output_meta_data:\n",
    "        # record = [position, material, n_arrows, mm_state, mm_health, action]\n",
    "        #print(record)\n",
    "        #print(record[0])\n",
    "        if record[0]=='N' or record[0]=='S':\n",
    "            R.append(-1.0)\n",
    "        if record[0]=='E' or record[0]=='W' or record[0]=='C':\n",
    "            if record[4]==0:\n",
    "                R.append(0.0)\n",
    "            elif record[3]=='D':\n",
    "                R.append(-1.0)\n",
    "            elif record[3]=='R' and record[5]!='STAY':\n",
    "                R.append(0.5*(-40) + 0.5*(-1))\n",
    "            elif record[5]=='STAY':\n",
    "                R.append(-1)\n",
    "            else:\n",
    "                print(\"WTF\")\n",
    "            #pass\n",
    "    return R"
   ]
  },
  {
   "cell_type": "markdown",
   "metadata": {},
   "source": [
    "# Create A matrix"
   ]
  },
  {
   "cell_type": "code",
   "execution_count": null,
   "metadata": {},
   "outputs": [],
   "source": [
    "def init_A_matrix():\n",
    "    "
   ]
  },
  {
   "cell_type": "markdown",
   "metadata": {},
   "source": [
    "# Test helper functions here"
   ]
  },
  {
   "cell_type": "code",
   "execution_count": 19,
   "metadata": {
    "tags": []
   },
   "outputs": [
    {
     "name": "stdout",
     "output_type": "stream",
     "text": [
      "Output meta size: 1238\n",
      "[['W', 0, 0, 'D', 0, 'RIGHT'], ['W', 0, 0, 'D', 0, 'STAY'], ['W', 0, 0, 'D', 0, 'NONE'], ['W', 0, 0, 'D', 25, 'RIGHT'], ['W', 0, 0, 'D', 25, 'STAY'], ['W', 0, 0, 'D', 25, 'NONE'], ['W', 0, 0, 'D', 50, 'RIGHT'], ['W', 0, 0, 'D', 50, 'STAY'], ['W', 0, 0, 'D', 50, 'NONE'], ['W', 0, 0, 'D', 75, 'RIGHT'], ['W', 0, 0, 'D', 75, 'STAY'], ['W', 0, 0, 'D', 75, 'NONE'], ['W', 0, 0, 'D', 100, 'RIGHT'], ['W', 0, 0, 'D', 100, 'STAY'], ['W', 0, 0, 'D', 100, 'NONE'], ['W', 0, 0, 'R', 0, 'RIGHT'], ['W', 0, 0, 'R', 0, 'STAY'], ['W', 0, 0, 'R', 0, 'NONE'], ['W', 0, 0, 'R', 25, 'RIGHT'], ['W', 0, 0, 'R', 25, 'STAY'], ['W', 0, 0, 'R', 25, 'NONE'], ['W', 0, 0, 'R', 50, 'RIGHT'], ['W', 0, 0, 'R', 50, 'STAY'], ['W', 0, 0, 'R', 50, 'NONE'], ['W', 0, 0, 'R', 75, 'RIGHT'], ['W', 0, 0, 'R', 75, 'STAY'], ['W', 0, 0, 'R', 75, 'NONE'], ['W', 0, 0, 'R', 100, 'RIGHT'], ['W', 0, 0, 'R', 100, 'STAY'], ['W', 0, 0, 'R', 100, 'NONE'], ['W', 0, 1, 'D', 0, 'RIGHT'], ['W', 0, 1, 'D', 0, 'STAY'], ['W', 0, 1, 'D', 0, 'SHOOT'], ['W', 0, 1, 'D', 0, 'NONE'], ['W', 0, 1, 'D', 25, 'RIGHT'], ['W', 0, 1, 'D', 25, 'STAY'], ['W', 0, 1, 'D', 25, 'SHOOT'], ['W', 0, 1, 'D', 25, 'NONE'], ['W', 0, 1, 'D', 50, 'RIGHT'], ['W', 0, 1, 'D', 50, 'STAY'], ['W', 0, 1, 'D', 50, 'SHOOT'], ['W', 0, 1, 'D', 50, 'NONE'], ['W', 0, 1, 'D', 75, 'RIGHT'], ['W', 0, 1, 'D', 75, 'STAY'], ['W', 0, 1, 'D', 75, 'SHOOT'], ['W', 0, 1, 'D', 75, 'NONE'], ['W', 0, 1, 'D', 100, 'RIGHT'], ['W', 0, 1, 'D', 100, 'STAY'], ['W', 0, 1, 'D', 100, 'SHOOT'], ['W', 0, 1, 'D', 100, 'NONE'], ['W', 0, 1, 'R', 0, 'RIGHT'], ['W', 0, 1, 'R', 0, 'STAY'], ['W', 0, 1, 'R', 0, 'SHOOT'], ['W', 0, 1, 'R', 0, 'NONE'], ['W', 0, 1, 'R', 25, 'RIGHT'], ['W', 0, 1, 'R', 25, 'STAY'], ['W', 0, 1, 'R', 25, 'SHOOT'], ['W', 0, 1, 'R', 25, 'NONE'], ['W', 0, 1, 'R', 50, 'RIGHT'], ['W', 0, 1, 'R', 50, 'STAY'], ['W', 0, 1, 'R', 50, 'SHOOT'], ['W', 0, 1, 'R', 50, 'NONE'], ['W', 0, 1, 'R', 75, 'RIGHT'], ['W', 0, 1, 'R', 75, 'STAY'], ['W', 0, 1, 'R', 75, 'SHOOT'], ['W', 0, 1, 'R', 75, 'NONE'], ['W', 0, 1, 'R', 100, 'RIGHT'], ['W', 0, 1, 'R', 100, 'STAY'], ['W', 0, 1, 'R', 100, 'SHOOT'], ['W', 0, 1, 'R', 100, 'NONE'], ['W', 1, 0, 'D', 0, 'RIGHT'], ['W', 1, 0, 'D', 0, 'STAY'], ['W', 1, 0, 'D', 0, 'NONE'], ['W', 1, 0, 'D', 25, 'RIGHT'], ['W', 1, 0, 'D', 25, 'STAY'], ['W', 1, 0, 'D', 25, 'NONE'], ['W', 1, 0, 'D', 50, 'RIGHT'], ['W', 1, 0, 'D', 50, 'STAY'], ['W', 1, 0, 'D', 50, 'NONE'], ['W', 1, 0, 'D', 75, 'RIGHT'], ['W', 1, 0, 'D', 75, 'STAY'], ['W', 1, 0, 'D', 75, 'NONE'], ['W', 1, 0, 'D', 100, 'RIGHT'], ['W', 1, 0, 'D', 100, 'STAY'], ['W', 1, 0, 'D', 100, 'NONE'], ['W', 1, 0, 'R', 0, 'RIGHT'], ['W', 1, 0, 'R', 0, 'STAY'], ['W', 1, 0, 'R', 0, 'NONE'], ['W', 1, 0, 'R', 25, 'RIGHT'], ['W', 1, 0, 'R', 25, 'STAY'], ['W', 1, 0, 'R', 25, 'NONE'], ['W', 1, 0, 'R', 50, 'RIGHT'], ['W', 1, 0, 'R', 50, 'STAY'], ['W', 1, 0, 'R', 50, 'NONE'], ['W', 1, 0, 'R', 75, 'RIGHT'], ['W', 1, 0, 'R', 75, 'STAY'], ['W', 1, 0, 'R', 75, 'NONE'], ['W', 1, 0, 'R', 100, 'RIGHT'], ['W', 1, 0, 'R', 100, 'STAY'], ['W', 1, 0, 'R', 100, 'NONE'], ['W', 1, 1, 'D', 0, 'RIGHT'], ['W', 1, 1, 'D', 0, 'STAY'], ['W', 1, 1, 'D', 0, 'SHOOT'], ['W', 1, 1, 'D', 0, 'NONE'], ['W', 1, 1, 'D', 25, 'RIGHT'], ['W', 1, 1, 'D', 25, 'STAY'], ['W', 1, 1, 'D', 25, 'SHOOT'], ['W', 1, 1, 'D', 25, 'NONE'], ['W', 1, 1, 'D', 50, 'RIGHT'], ['W', 1, 1, 'D', 50, 'STAY'], ['W', 1, 1, 'D', 50, 'SHOOT'], ['W', 1, 1, 'D', 50, 'NONE'], ['W', 1, 1, 'D', 75, 'RIGHT'], ['W', 1, 1, 'D', 75, 'STAY'], ['W', 1, 1, 'D', 75, 'SHOOT'], ['W', 1, 1, 'D', 75, 'NONE'], ['W', 1, 1, 'D', 100, 'RIGHT'], ['W', 1, 1, 'D', 100, 'STAY'], ['W', 1, 1, 'D', 100, 'SHOOT'], ['W', 1, 1, 'D', 100, 'NONE'], ['W', 1, 1, 'R', 0, 'RIGHT'], ['W', 1, 1, 'R', 0, 'STAY'], ['W', 1, 1, 'R', 0, 'SHOOT'], ['W', 1, 1, 'R', 0, 'NONE'], ['W', 1, 1, 'R', 25, 'RIGHT'], ['W', 1, 1, 'R', 25, 'STAY'], ['W', 1, 1, 'R', 25, 'SHOOT'], ['W', 1, 1, 'R', 25, 'NONE'], ['W', 1, 1, 'R', 50, 'RIGHT'], ['W', 1, 1, 'R', 50, 'STAY'], ['W', 1, 1, 'R', 50, 'SHOOT'], ['W', 1, 1, 'R', 50, 'NONE'], ['W', 1, 1, 'R', 75, 'RIGHT'], ['W', 1, 1, 'R', 75, 'STAY'], ['W', 1, 1, 'R', 75, 'SHOOT'], ['W', 1, 1, 'R', 75, 'NONE'], ['W', 1, 1, 'R', 100, 'RIGHT'], ['W', 1, 1, 'R', 100, 'STAY'], ['W', 1, 1, 'R', 100, 'SHOOT'], ['W', 1, 1, 'R', 100, 'NONE'], ['W', 2, 0, 'D', 0, 'RIGHT'], ['W', 2, 0, 'D', 0, 'STAY'], ['W', 2, 0, 'D', 0, 'NONE'], ['W', 2, 0, 'D', 25, 'RIGHT'], ['W', 2, 0, 'D', 25, 'STAY'], ['W', 2, 0, 'D', 25, 'NONE'], ['W', 2, 0, 'D', 50, 'RIGHT'], ['W', 2, 0, 'D', 50, 'STAY'], ['W', 2, 0, 'D', 50, 'NONE'], ['W', 2, 0, 'D', 75, 'RIGHT'], ['W', 2, 0, 'D', 75, 'STAY'], ['W', 2, 0, 'D', 75, 'NONE'], ['W', 2, 0, 'D', 100, 'RIGHT'], ['W', 2, 0, 'D', 100, 'STAY'], ['W', 2, 0, 'D', 100, 'NONE'], ['W', 2, 0, 'R', 0, 'RIGHT'], ['W', 2, 0, 'R', 0, 'STAY'], ['W', 2, 0, 'R', 0, 'NONE'], ['W', 2, 0, 'R', 25, 'RIGHT'], ['W', 2, 0, 'R', 25, 'STAY'], ['W', 2, 0, 'R', 25, 'NONE'], ['W', 2, 0, 'R', 50, 'RIGHT'], ['W', 2, 0, 'R', 50, 'STAY'], ['W', 2, 0, 'R', 50, 'NONE'], ['W', 2, 0, 'R', 75, 'RIGHT'], ['W', 2, 0, 'R', 75, 'STAY'], ['W', 2, 0, 'R', 75, 'NONE'], ['W', 2, 0, 'R', 100, 'RIGHT'], ['W', 2, 0, 'R', 100, 'STAY'], ['W', 2, 0, 'R', 100, 'NONE'], ['W', 2, 1, 'D', 0, 'RIGHT'], ['W', 2, 1, 'D', 0, 'STAY'], ['W', 2, 1, 'D', 0, 'SHOOT'], ['W', 2, 1, 'D', 0, 'NONE'], ['W', 2, 1, 'D', 25, 'RIGHT'], ['W', 2, 1, 'D', 25, 'STAY'], ['W', 2, 1, 'D', 25, 'SHOOT'], ['W', 2, 1, 'D', 25, 'NONE'], ['W', 2, 1, 'D', 50, 'RIGHT'], ['W', 2, 1, 'D', 50, 'STAY'], ['W', 2, 1, 'D', 50, 'SHOOT'], ['W', 2, 1, 'D', 50, 'NONE'], ['W', 2, 1, 'D', 75, 'RIGHT'], ['W', 2, 1, 'D', 75, 'STAY'], ['W', 2, 1, 'D', 75, 'SHOOT'], ['W', 2, 1, 'D', 75, 'NONE'], ['W', 2, 1, 'D', 100, 'RIGHT'], ['W', 2, 1, 'D', 100, 'STAY'], ['W', 2, 1, 'D', 100, 'SHOOT'], ['W', 2, 1, 'D', 100, 'NONE'], ['W', 2, 1, 'R', 0, 'RIGHT'], ['W', 2, 1, 'R', 0, 'STAY'], ['W', 2, 1, 'R', 0, 'SHOOT'], ['W', 2, 1, 'R', 0, 'NONE'], ['W', 2, 1, 'R', 25, 'RIGHT'], ['W', 2, 1, 'R', 25, 'STAY'], ['W', 2, 1, 'R', 25, 'SHOOT'], ['W', 2, 1, 'R', 25, 'NONE'], ['W', 2, 1, 'R', 50, 'RIGHT'], ['W', 2, 1, 'R', 50, 'STAY'], ['W', 2, 1, 'R', 50, 'SHOOT'], ['W', 2, 1, 'R', 50, 'NONE'], ['W', 2, 1, 'R', 75, 'RIGHT'], ['W', 2, 1, 'R', 75, 'STAY'], ['W', 2, 1, 'R', 75, 'SHOOT'], ['W', 2, 1, 'R', 75, 'NONE'], ['W', 2, 1, 'R', 100, 'RIGHT'], ['W', 2, 1, 'R', 100, 'STAY'], ['W', 2, 1, 'R', 100, 'SHOOT'], ['W', 2, 1, 'R', 100, 'NONE'], ['N', 0, 0, 'D', 25, 'DOWN'], ['N', 0, 0, 'D', 25, 'STAY'], ['N', 0, 0, 'D', 25, 'NONE'], ['N', 0, 0, 'D', 50, 'DOWN'], ['N', 0, 0, 'D', 50, 'STAY'], ['N', 0, 0, 'D', 50, 'NONE'], ['N', 0, 0, 'D', 75, 'DOWN'], ['N', 0, 0, 'D', 75, 'STAY'], ['N', 0, 0, 'D', 75, 'NONE'], ['N', 0, 0, 'D', 100, 'DOWN'], ['N', 0, 0, 'D', 100, 'STAY'], ['N', 0, 0, 'D', 100, 'NONE'], ['N', 0, 0, 'R', 25, 'DOWN'], ['N', 0, 0, 'R', 25, 'STAY'], ['N', 0, 0, 'R', 25, 'NONE'], ['N', 0, 0, 'R', 50, 'DOWN'], ['N', 0, 0, 'R', 50, 'STAY'], ['N', 0, 0, 'R', 50, 'NONE'], ['N', 0, 0, 'R', 75, 'DOWN'], ['N', 0, 0, 'R', 75, 'STAY'], ['N', 0, 0, 'R', 75, 'NONE'], ['N', 0, 0, 'R', 100, 'DOWN'], ['N', 0, 0, 'R', 100, 'STAY'], ['N', 0, 0, 'R', 100, 'NONE'], ['N', 0, 1, 'D', 25, 'DOWN'], ['N', 0, 1, 'D', 25, 'STAY'], ['N', 0, 1, 'D', 25, 'NONE'], ['N', 0, 1, 'D', 50, 'DOWN'], ['N', 0, 1, 'D', 50, 'STAY'], ['N', 0, 1, 'D', 50, 'NONE'], ['N', 0, 1, 'D', 75, 'DOWN'], ['N', 0, 1, 'D', 75, 'STAY'], ['N', 0, 1, 'D', 75, 'NONE'], ['N', 0, 1, 'D', 100, 'DOWN'], ['N', 0, 1, 'D', 100, 'STAY'], ['N', 0, 1, 'D', 100, 'NONE'], ['N', 0, 1, 'R', 25, 'DOWN'], ['N', 0, 1, 'R', 25, 'STAY'], ['N', 0, 1, 'R', 25, 'NONE'], ['N', 0, 1, 'R', 50, 'DOWN'], ['N', 0, 1, 'R', 50, 'STAY'], ['N', 0, 1, 'R', 50, 'NONE'], ['N', 0, 1, 'R', 75, 'DOWN'], ['N', 0, 1, 'R', 75, 'STAY'], ['N', 0, 1, 'R', 75, 'NONE'], ['N', 0, 1, 'R', 100, 'DOWN'], ['N', 0, 1, 'R', 100, 'STAY'], ['N', 0, 1, 'R', 100, 'NONE'], ['N', 1, 0, 'D', 25, 'DOWN'], ['N', 1, 0, 'D', 25, 'STAY'], ['N', 1, 0, 'D', 25, 'CRAFT'], ['N', 1, 0, 'D', 25, 'NONE'], ['N', 1, 0, 'D', 50, 'DOWN'], ['N', 1, 0, 'D', 50, 'STAY'], ['N', 1, 0, 'D', 50, 'CRAFT'], ['N', 1, 0, 'D', 50, 'NONE'], ['N', 1, 0, 'D', 75, 'DOWN'], ['N', 1, 0, 'D', 75, 'STAY'], ['N', 1, 0, 'D', 75, 'CRAFT'], ['N', 1, 0, 'D', 75, 'NONE'], ['N', 1, 0, 'D', 100, 'DOWN'], ['N', 1, 0, 'D', 100, 'STAY'], ['N', 1, 0, 'D', 100, 'CRAFT'], ['N', 1, 0, 'D', 100, 'NONE'], ['N', 1, 0, 'R', 25, 'DOWN'], ['N', 1, 0, 'R', 25, 'STAY'], ['N', 1, 0, 'R', 25, 'CRAFT'], ['N', 1, 0, 'R', 25, 'NONE'], ['N', 1, 0, 'R', 50, 'DOWN'], ['N', 1, 0, 'R', 50, 'STAY'], ['N', 1, 0, 'R', 50, 'CRAFT'], ['N', 1, 0, 'R', 50, 'NONE'], ['N', 1, 0, 'R', 75, 'DOWN'], ['N', 1, 0, 'R', 75, 'STAY'], ['N', 1, 0, 'R', 75, 'CRAFT'], ['N', 1, 0, 'R', 75, 'NONE'], ['N', 1, 0, 'R', 100, 'DOWN'], ['N', 1, 0, 'R', 100, 'STAY'], ['N', 1, 0, 'R', 100, 'CRAFT'], ['N', 1, 0, 'R', 100, 'NONE'], ['N', 1, 1, 'D', 25, 'DOWN'], ['N', 1, 1, 'D', 25, 'STAY'], ['N', 1, 1, 'D', 25, 'CRAFT'], ['N', 1, 1, 'D', 25, 'NONE'], ['N', 1, 1, 'D', 50, 'DOWN'], ['N', 1, 1, 'D', 50, 'STAY'], ['N', 1, 1, 'D', 50, 'CRAFT'], ['N', 1, 1, 'D', 50, 'NONE'], ['N', 1, 1, 'D', 75, 'DOWN'], ['N', 1, 1, 'D', 75, 'STAY'], ['N', 1, 1, 'D', 75, 'CRAFT'], ['N', 1, 1, 'D', 75, 'NONE'], ['N', 1, 1, 'D', 100, 'DOWN'], ['N', 1, 1, 'D', 100, 'STAY'], ['N', 1, 1, 'D', 100, 'CRAFT'], ['N', 1, 1, 'D', 100, 'NONE'], ['N', 1, 1, 'R', 25, 'DOWN'], ['N', 1, 1, 'R', 25, 'STAY'], ['N', 1, 1, 'R', 25, 'CRAFT'], ['N', 1, 1, 'R', 25, 'NONE'], ['N', 1, 1, 'R', 50, 'DOWN'], ['N', 1, 1, 'R', 50, 'STAY'], ['N', 1, 1, 'R', 50, 'CRAFT'], ['N', 1, 1, 'R', 50, 'NONE'], ['N', 1, 1, 'R', 75, 'DOWN'], ['N', 1, 1, 'R', 75, 'STAY'], ['N', 1, 1, 'R', 75, 'CRAFT'], ['N', 1, 1, 'R', 75, 'NONE'], ['N', 1, 1, 'R', 100, 'DOWN'], ['N', 1, 1, 'R', 100, 'STAY'], ['N', 1, 1, 'R', 100, 'CRAFT'], ['N', 1, 1, 'R', 100, 'NONE'], ['N', 2, 0, 'D', 25, 'DOWN'], ['N', 2, 0, 'D', 25, 'STAY'], ['N', 2, 0, 'D', 25, 'CRAFT'], ['N', 2, 0, 'D', 25, 'NONE'], ['N', 2, 0, 'D', 50, 'DOWN'], ['N', 2, 0, 'D', 50, 'STAY'], ['N', 2, 0, 'D', 50, 'CRAFT'], ['N', 2, 0, 'D', 50, 'NONE'], ['N', 2, 0, 'D', 75, 'DOWN'], ['N', 2, 0, 'D', 75, 'STAY'], ['N', 2, 0, 'D', 75, 'CRAFT'], ['N', 2, 0, 'D', 75, 'NONE'], ['N', 2, 0, 'D', 100, 'DOWN'], ['N', 2, 0, 'D', 100, 'STAY'], ['N', 2, 0, 'D', 100, 'CRAFT'], ['N', 2, 0, 'D', 100, 'NONE'], ['N', 2, 0, 'R', 25, 'DOWN'], ['N', 2, 0, 'R', 25, 'STAY'], ['N', 2, 0, 'R', 25, 'CRAFT'], ['N', 2, 0, 'R', 25, 'NONE'], ['N', 2, 0, 'R', 50, 'DOWN'], ['N', 2, 0, 'R', 50, 'STAY'], ['N', 2, 0, 'R', 50, 'CRAFT'], ['N', 2, 0, 'R', 50, 'NONE'], ['N', 2, 0, 'R', 75, 'DOWN'], ['N', 2, 0, 'R', 75, 'STAY'], ['N', 2, 0, 'R', 75, 'CRAFT'], ['N', 2, 0, 'R', 75, 'NONE'], ['N', 2, 0, 'R', 100, 'DOWN'], ['N', 2, 0, 'R', 100, 'STAY'], ['N', 2, 0, 'R', 100, 'CRAFT'], ['N', 2, 0, 'R', 100, 'NONE'], ['N', 2, 1, 'D', 25, 'DOWN'], ['N', 2, 1, 'D', 25, 'STAY'], ['N', 2, 1, 'D', 25, 'CRAFT'], ['N', 2, 1, 'D', 25, 'NONE'], ['N', 2, 1, 'D', 50, 'DOWN'], ['N', 2, 1, 'D', 50, 'STAY'], ['N', 2, 1, 'D', 50, 'CRAFT'], ['N', 2, 1, 'D', 50, 'NONE'], ['N', 2, 1, 'D', 75, 'DOWN'], ['N', 2, 1, 'D', 75, 'STAY'], ['N', 2, 1, 'D', 75, 'CRAFT'], ['N', 2, 1, 'D', 75, 'NONE'], ['N', 2, 1, 'D', 100, 'DOWN'], ['N', 2, 1, 'D', 100, 'STAY'], ['N', 2, 1, 'D', 100, 'CRAFT'], ['N', 2, 1, 'D', 100, 'NONE'], ['N', 2, 1, 'R', 25, 'DOWN'], ['N', 2, 1, 'R', 25, 'STAY'], ['N', 2, 1, 'R', 25, 'CRAFT'], ['N', 2, 1, 'R', 25, 'NONE'], ['N', 2, 1, 'R', 50, 'DOWN'], ['N', 2, 1, 'R', 50, 'STAY'], ['N', 2, 1, 'R', 50, 'CRAFT'], ['N', 2, 1, 'R', 50, 'NONE'], ['N', 2, 1, 'R', 75, 'DOWN'], ['N', 2, 1, 'R', 75, 'STAY'], ['N', 2, 1, 'R', 75, 'CRAFT'], ['N', 2, 1, 'R', 75, 'NONE'], ['N', 2, 1, 'R', 100, 'DOWN'], ['N', 2, 1, 'R', 100, 'STAY'], ['N', 2, 1, 'R', 100, 'CRAFT'], ['N', 2, 1, 'R', 100, 'NONE'], ['E', 0, 0, 'D', 0, 'LEFT'], ['E', 0, 0, 'D', 0, 'STAY'], ['E', 0, 0, 'D', 0, 'HIT'], ['E', 0, 0, 'D', 0, 'NONE'], ['E', 0, 0, 'D', 25, 'LEFT'], ['E', 0, 0, 'D', 25, 'STAY'], ['E', 0, 0, 'D', 25, 'HIT'], ['E', 0, 0, 'D', 25, 'NONE'], ['E', 0, 0, 'D', 50, 'LEFT'], ['E', 0, 0, 'D', 50, 'STAY'], ['E', 0, 0, 'D', 50, 'HIT'], ['E', 0, 0, 'D', 50, 'NONE'], ['E', 0, 0, 'D', 75, 'LEFT'], ['E', 0, 0, 'D', 75, 'STAY'], ['E', 0, 0, 'D', 75, 'HIT'], ['E', 0, 0, 'D', 75, 'NONE'], ['E', 0, 0, 'D', 100, 'LEFT'], ['E', 0, 0, 'D', 100, 'STAY'], ['E', 0, 0, 'D', 100, 'HIT'], ['E', 0, 0, 'D', 100, 'NONE'], ['E', 0, 0, 'R', 0, 'LEFT'], ['E', 0, 0, 'R', 0, 'STAY'], ['E', 0, 0, 'R', 0, 'HIT'], ['E', 0, 0, 'R', 0, 'NONE'], ['E', 0, 0, 'R', 25, 'LEFT'], ['E', 0, 0, 'R', 25, 'STAY'], ['E', 0, 0, 'R', 25, 'HIT'], ['E', 0, 0, 'R', 25, 'NONE'], ['E', 0, 0, 'R', 50, 'LEFT'], ['E', 0, 0, 'R', 50, 'STAY'], ['E', 0, 0, 'R', 50, 'HIT'], ['E', 0, 0, 'R', 50, 'NONE'], ['E', 0, 0, 'R', 75, 'LEFT'], ['E', 0, 0, 'R', 75, 'STAY'], ['E', 0, 0, 'R', 75, 'HIT'], ['E', 0, 0, 'R', 75, 'NONE'], ['E', 0, 0, 'R', 100, 'LEFT'], ['E', 0, 0, 'R', 100, 'STAY'], ['E', 0, 0, 'R', 100, 'HIT'], ['E', 0, 0, 'R', 100, 'NONE'], ['E', 0, 1, 'D', 0, 'LEFT'], ['E', 0, 1, 'D', 0, 'STAY'], ['E', 0, 1, 'D', 0, 'SHOOT'], ['E', 0, 1, 'D', 0, 'HIT'], ['E', 0, 1, 'D', 0, 'NONE'], ['E', 0, 1, 'D', 25, 'LEFT'], ['E', 0, 1, 'D', 25, 'STAY'], ['E', 0, 1, 'D', 25, 'SHOOT'], ['E', 0, 1, 'D', 25, 'HIT'], ['E', 0, 1, 'D', 25, 'NONE'], ['E', 0, 1, 'D', 50, 'LEFT'], ['E', 0, 1, 'D', 50, 'STAY'], ['E', 0, 1, 'D', 50, 'SHOOT'], ['E', 0, 1, 'D', 50, 'HIT'], ['E', 0, 1, 'D', 50, 'NONE'], ['E', 0, 1, 'D', 75, 'LEFT'], ['E', 0, 1, 'D', 75, 'STAY'], ['E', 0, 1, 'D', 75, 'SHOOT'], ['E', 0, 1, 'D', 75, 'HIT'], ['E', 0, 1, 'D', 75, 'NONE'], ['E', 0, 1, 'D', 100, 'LEFT'], ['E', 0, 1, 'D', 100, 'STAY'], ['E', 0, 1, 'D', 100, 'SHOOT'], ['E', 0, 1, 'D', 100, 'HIT'], ['E', 0, 1, 'D', 100, 'NONE'], ['E', 0, 1, 'R', 0, 'LEFT'], ['E', 0, 1, 'R', 0, 'STAY'], ['E', 0, 1, 'R', 0, 'SHOOT'], ['E', 0, 1, 'R', 0, 'HIT'], ['E', 0, 1, 'R', 0, 'NONE'], ['E', 0, 1, 'R', 25, 'LEFT'], ['E', 0, 1, 'R', 25, 'STAY'], ['E', 0, 1, 'R', 25, 'SHOOT'], ['E', 0, 1, 'R', 25, 'HIT'], ['E', 0, 1, 'R', 25, 'NONE'], ['E', 0, 1, 'R', 50, 'LEFT'], ['E', 0, 1, 'R', 50, 'STAY'], ['E', 0, 1, 'R', 50, 'SHOOT'], ['E', 0, 1, 'R', 50, 'HIT'], ['E', 0, 1, 'R', 50, 'NONE'], ['E', 0, 1, 'R', 75, 'LEFT'], ['E', 0, 1, 'R', 75, 'STAY'], ['E', 0, 1, 'R', 75, 'SHOOT'], ['E', 0, 1, 'R', 75, 'HIT'], ['E', 0, 1, 'R', 75, 'NONE'], ['E', 0, 1, 'R', 100, 'LEFT'], ['E', 0, 1, 'R', 100, 'STAY'], ['E', 0, 1, 'R', 100, 'SHOOT'], ['E', 0, 1, 'R', 100, 'HIT'], ['E', 0, 1, 'R', 100, 'NONE'], ['E', 1, 0, 'D', 0, 'LEFT'], ['E', 1, 0, 'D', 0, 'STAY'], ['E', 1, 0, 'D', 0, 'HIT'], ['E', 1, 0, 'D', 0, 'NONE'], ['E', 1, 0, 'D', 25, 'LEFT'], ['E', 1, 0, 'D', 25, 'STAY'], ['E', 1, 0, 'D', 25, 'HIT'], ['E', 1, 0, 'D', 25, 'NONE'], ['E', 1, 0, 'D', 50, 'LEFT'], ['E', 1, 0, 'D', 50, 'STAY'], ['E', 1, 0, 'D', 50, 'HIT'], ['E', 1, 0, 'D', 50, 'NONE'], ['E', 1, 0, 'D', 75, 'LEFT'], ['E', 1, 0, 'D', 75, 'STAY'], ['E', 1, 0, 'D', 75, 'HIT'], ['E', 1, 0, 'D', 75, 'NONE'], ['E', 1, 0, 'D', 100, 'LEFT'], ['E', 1, 0, 'D', 100, 'STAY'], ['E', 1, 0, 'D', 100, 'HIT'], ['E', 1, 0, 'D', 100, 'NONE'], ['E', 1, 0, 'R', 0, 'LEFT'], ['E', 1, 0, 'R', 0, 'STAY'], ['E', 1, 0, 'R', 0, 'HIT'], ['E', 1, 0, 'R', 0, 'NONE'], ['E', 1, 0, 'R', 25, 'LEFT'], ['E', 1, 0, 'R', 25, 'STAY'], ['E', 1, 0, 'R', 25, 'HIT'], ['E', 1, 0, 'R', 25, 'NONE'], ['E', 1, 0, 'R', 50, 'LEFT'], ['E', 1, 0, 'R', 50, 'STAY'], ['E', 1, 0, 'R', 50, 'HIT'], ['E', 1, 0, 'R', 50, 'NONE'], ['E', 1, 0, 'R', 75, 'LEFT'], ['E', 1, 0, 'R', 75, 'STAY'], ['E', 1, 0, 'R', 75, 'HIT'], ['E', 1, 0, 'R', 75, 'NONE'], ['E', 1, 0, 'R', 100, 'LEFT'], ['E', 1, 0, 'R', 100, 'STAY'], ['E', 1, 0, 'R', 100, 'HIT'], ['E', 1, 0, 'R', 100, 'NONE'], ['E', 1, 1, 'D', 0, 'LEFT'], ['E', 1, 1, 'D', 0, 'STAY'], ['E', 1, 1, 'D', 0, 'SHOOT'], ['E', 1, 1, 'D', 0, 'HIT'], ['E', 1, 1, 'D', 0, 'NONE'], ['E', 1, 1, 'D', 25, 'LEFT'], ['E', 1, 1, 'D', 25, 'STAY'], ['E', 1, 1, 'D', 25, 'SHOOT'], ['E', 1, 1, 'D', 25, 'HIT'], ['E', 1, 1, 'D', 25, 'NONE'], ['E', 1, 1, 'D', 50, 'LEFT'], ['E', 1, 1, 'D', 50, 'STAY'], ['E', 1, 1, 'D', 50, 'SHOOT'], ['E', 1, 1, 'D', 50, 'HIT'], ['E', 1, 1, 'D', 50, 'NONE'], ['E', 1, 1, 'D', 75, 'LEFT'], ['E', 1, 1, 'D', 75, 'STAY'], ['E', 1, 1, 'D', 75, 'SHOOT'], ['E', 1, 1, 'D', 75, 'HIT'], ['E', 1, 1, 'D', 75, 'NONE'], ['E', 1, 1, 'D', 100, 'LEFT'], ['E', 1, 1, 'D', 100, 'STAY'], ['E', 1, 1, 'D', 100, 'SHOOT'], ['E', 1, 1, 'D', 100, 'HIT'], ['E', 1, 1, 'D', 100, 'NONE'], ['E', 1, 1, 'R', 0, 'LEFT'], ['E', 1, 1, 'R', 0, 'STAY'], ['E', 1, 1, 'R', 0, 'SHOOT'], ['E', 1, 1, 'R', 0, 'HIT'], ['E', 1, 1, 'R', 0, 'NONE'], ['E', 1, 1, 'R', 25, 'LEFT'], ['E', 1, 1, 'R', 25, 'STAY'], ['E', 1, 1, 'R', 25, 'SHOOT'], ['E', 1, 1, 'R', 25, 'HIT'], ['E', 1, 1, 'R', 25, 'NONE'], ['E', 1, 1, 'R', 50, 'LEFT'], ['E', 1, 1, 'R', 50, 'STAY'], ['E', 1, 1, 'R', 50, 'SHOOT'], ['E', 1, 1, 'R', 50, 'HIT'], ['E', 1, 1, 'R', 50, 'NONE'], ['E', 1, 1, 'R', 75, 'LEFT'], ['E', 1, 1, 'R', 75, 'STAY'], ['E', 1, 1, 'R', 75, 'SHOOT'], ['E', 1, 1, 'R', 75, 'HIT'], ['E', 1, 1, 'R', 75, 'NONE'], ['E', 1, 1, 'R', 100, 'LEFT'], ['E', 1, 1, 'R', 100, 'STAY'], ['E', 1, 1, 'R', 100, 'SHOOT'], ['E', 1, 1, 'R', 100, 'HIT'], ['E', 1, 1, 'R', 100, 'NONE'], ['E', 2, 0, 'D', 0, 'LEFT'], ['E', 2, 0, 'D', 0, 'STAY'], ['E', 2, 0, 'D', 0, 'HIT'], ['E', 2, 0, 'D', 0, 'NONE'], ['E', 2, 0, 'D', 25, 'LEFT'], ['E', 2, 0, 'D', 25, 'STAY'], ['E', 2, 0, 'D', 25, 'HIT'], ['E', 2, 0, 'D', 25, 'NONE'], ['E', 2, 0, 'D', 50, 'LEFT'], ['E', 2, 0, 'D', 50, 'STAY'], ['E', 2, 0, 'D', 50, 'HIT'], ['E', 2, 0, 'D', 50, 'NONE'], ['E', 2, 0, 'D', 75, 'LEFT'], ['E', 2, 0, 'D', 75, 'STAY'], ['E', 2, 0, 'D', 75, 'HIT'], ['E', 2, 0, 'D', 75, 'NONE'], ['E', 2, 0, 'D', 100, 'LEFT'], ['E', 2, 0, 'D', 100, 'STAY'], ['E', 2, 0, 'D', 100, 'HIT'], ['E', 2, 0, 'D', 100, 'NONE'], ['E', 2, 0, 'R', 0, 'LEFT'], ['E', 2, 0, 'R', 0, 'STAY'], ['E', 2, 0, 'R', 0, 'HIT'], ['E', 2, 0, 'R', 0, 'NONE'], ['E', 2, 0, 'R', 25, 'LEFT'], ['E', 2, 0, 'R', 25, 'STAY'], ['E', 2, 0, 'R', 25, 'HIT'], ['E', 2, 0, 'R', 25, 'NONE'], ['E', 2, 0, 'R', 50, 'LEFT'], ['E', 2, 0, 'R', 50, 'STAY'], ['E', 2, 0, 'R', 50, 'HIT'], ['E', 2, 0, 'R', 50, 'NONE'], ['E', 2, 0, 'R', 75, 'LEFT'], ['E', 2, 0, 'R', 75, 'STAY'], ['E', 2, 0, 'R', 75, 'HIT'], ['E', 2, 0, 'R', 75, 'NONE'], ['E', 2, 0, 'R', 100, 'LEFT'], ['E', 2, 0, 'R', 100, 'STAY'], ['E', 2, 0, 'R', 100, 'HIT'], ['E', 2, 0, 'R', 100, 'NONE'], ['E', 2, 1, 'D', 0, 'LEFT'], ['E', 2, 1, 'D', 0, 'STAY'], ['E', 2, 1, 'D', 0, 'SHOOT'], ['E', 2, 1, 'D', 0, 'HIT'], ['E', 2, 1, 'D', 0, 'NONE'], ['E', 2, 1, 'D', 25, 'LEFT'], ['E', 2, 1, 'D', 25, 'STAY'], ['E', 2, 1, 'D', 25, 'SHOOT'], ['E', 2, 1, 'D', 25, 'HIT'], ['E', 2, 1, 'D', 25, 'NONE'], ['E', 2, 1, 'D', 50, 'LEFT'], ['E', 2, 1, 'D', 50, 'STAY'], ['E', 2, 1, 'D', 50, 'SHOOT'], ['E', 2, 1, 'D', 50, 'HIT'], ['E', 2, 1, 'D', 50, 'NONE'], ['E', 2, 1, 'D', 75, 'LEFT'], ['E', 2, 1, 'D', 75, 'STAY'], ['E', 2, 1, 'D', 75, 'SHOOT'], ['E', 2, 1, 'D', 75, 'HIT'], ['E', 2, 1, 'D', 75, 'NONE'], ['E', 2, 1, 'D', 100, 'LEFT'], ['E', 2, 1, 'D', 100, 'STAY'], ['E', 2, 1, 'D', 100, 'SHOOT'], ['E', 2, 1, 'D', 100, 'HIT'], ['E', 2, 1, 'D', 100, 'NONE'], ['E', 2, 1, 'R', 0, 'LEFT'], ['E', 2, 1, 'R', 0, 'STAY'], ['E', 2, 1, 'R', 0, 'SHOOT'], ['E', 2, 1, 'R', 0, 'HIT'], ['E', 2, 1, 'R', 0, 'NONE'], ['E', 2, 1, 'R', 25, 'LEFT'], ['E', 2, 1, 'R', 25, 'STAY'], ['E', 2, 1, 'R', 25, 'SHOOT'], ['E', 2, 1, 'R', 25, 'HIT'], ['E', 2, 1, 'R', 25, 'NONE'], ['E', 2, 1, 'R', 50, 'LEFT'], ['E', 2, 1, 'R', 50, 'STAY'], ['E', 2, 1, 'R', 50, 'SHOOT'], ['E', 2, 1, 'R', 50, 'HIT'], ['E', 2, 1, 'R', 50, 'NONE'], ['E', 2, 1, 'R', 75, 'LEFT'], ['E', 2, 1, 'R', 75, 'STAY'], ['E', 2, 1, 'R', 75, 'SHOOT'], ['E', 2, 1, 'R', 75, 'HIT'], ['E', 2, 1, 'R', 75, 'NONE'], ['E', 2, 1, 'R', 100, 'LEFT'], ['E', 2, 1, 'R', 100, 'STAY'], ['E', 2, 1, 'R', 100, 'SHOOT'], ['E', 2, 1, 'R', 100, 'HIT'], ['E', 2, 1, 'R', 100, 'NONE'], ['S', 0, 0, 'D', 25, 'UP'], ['S', 0, 0, 'D', 25, 'STAY'], ['S', 0, 0, 'D', 25, 'GATHER'], ['S', 0, 0, 'D', 25, 'NONE'], ['S', 0, 0, 'D', 50, 'UP'], ['S', 0, 0, 'D', 50, 'STAY'], ['S', 0, 0, 'D', 50, 'GATHER'], ['S', 0, 0, 'D', 50, 'NONE'], ['S', 0, 0, 'D', 75, 'UP'], ['S', 0, 0, 'D', 75, 'STAY'], ['S', 0, 0, 'D', 75, 'GATHER'], ['S', 0, 0, 'D', 75, 'NONE'], ['S', 0, 0, 'D', 100, 'UP'], ['S', 0, 0, 'D', 100, 'STAY'], ['S', 0, 0, 'D', 100, 'GATHER'], ['S', 0, 0, 'D', 100, 'NONE'], ['S', 0, 0, 'R', 25, 'UP'], ['S', 0, 0, 'R', 25, 'STAY'], ['S', 0, 0, 'R', 25, 'GATHER'], ['S', 0, 0, 'R', 25, 'NONE'], ['S', 0, 0, 'R', 50, 'UP'], ['S', 0, 0, 'R', 50, 'STAY'], ['S', 0, 0, 'R', 50, 'GATHER'], ['S', 0, 0, 'R', 50, 'NONE'], ['S', 0, 0, 'R', 75, 'UP'], ['S', 0, 0, 'R', 75, 'STAY'], ['S', 0, 0, 'R', 75, 'GATHER'], ['S', 0, 0, 'R', 75, 'NONE'], ['S', 0, 0, 'R', 100, 'UP'], ['S', 0, 0, 'R', 100, 'STAY'], ['S', 0, 0, 'R', 100, 'GATHER'], ['S', 0, 0, 'R', 100, 'NONE'], ['S', 0, 1, 'D', 25, 'UP'], ['S', 0, 1, 'D', 25, 'STAY'], ['S', 0, 1, 'D', 25, 'GATHER'], ['S', 0, 1, 'D', 25, 'NONE'], ['S', 0, 1, 'D', 50, 'UP'], ['S', 0, 1, 'D', 50, 'STAY'], ['S', 0, 1, 'D', 50, 'GATHER'], ['S', 0, 1, 'D', 50, 'NONE'], ['S', 0, 1, 'D', 75, 'UP'], ['S', 0, 1, 'D', 75, 'STAY'], ['S', 0, 1, 'D', 75, 'GATHER'], ['S', 0, 1, 'D', 75, 'NONE'], ['S', 0, 1, 'D', 100, 'UP'], ['S', 0, 1, 'D', 100, 'STAY'], ['S', 0, 1, 'D', 100, 'GATHER'], ['S', 0, 1, 'D', 100, 'NONE'], ['S', 0, 1, 'R', 25, 'UP'], ['S', 0, 1, 'R', 25, 'STAY'], ['S', 0, 1, 'R', 25, 'GATHER'], ['S', 0, 1, 'R', 25, 'NONE'], ['S', 0, 1, 'R', 50, 'UP'], ['S', 0, 1, 'R', 50, 'STAY'], ['S', 0, 1, 'R', 50, 'GATHER'], ['S', 0, 1, 'R', 50, 'NONE'], ['S', 0, 1, 'R', 75, 'UP'], ['S', 0, 1, 'R', 75, 'STAY'], ['S', 0, 1, 'R', 75, 'GATHER'], ['S', 0, 1, 'R', 75, 'NONE'], ['S', 0, 1, 'R', 100, 'UP'], ['S', 0, 1, 'R', 100, 'STAY'], ['S', 0, 1, 'R', 100, 'GATHER'], ['S', 0, 1, 'R', 100, 'NONE'], ['S', 1, 0, 'D', 25, 'UP'], ['S', 1, 0, 'D', 25, 'STAY'], ['S', 1, 0, 'D', 25, 'GATHER'], ['S', 1, 0, 'D', 25, 'NONE'], ['S', 1, 0, 'D', 50, 'UP'], ['S', 1, 0, 'D', 50, 'STAY'], ['S', 1, 0, 'D', 50, 'GATHER'], ['S', 1, 0, 'D', 50, 'NONE'], ['S', 1, 0, 'D', 75, 'UP'], ['S', 1, 0, 'D', 75, 'STAY'], ['S', 1, 0, 'D', 75, 'GATHER'], ['S', 1, 0, 'D', 75, 'NONE'], ['S', 1, 0, 'D', 100, 'UP'], ['S', 1, 0, 'D', 100, 'STAY'], ['S', 1, 0, 'D', 100, 'GATHER'], ['S', 1, 0, 'D', 100, 'NONE'], ['S', 1, 0, 'R', 25, 'UP'], ['S', 1, 0, 'R', 25, 'STAY'], ['S', 1, 0, 'R', 25, 'GATHER'], ['S', 1, 0, 'R', 25, 'NONE'], ['S', 1, 0, 'R', 50, 'UP'], ['S', 1, 0, 'R', 50, 'STAY'], ['S', 1, 0, 'R', 50, 'GATHER'], ['S', 1, 0, 'R', 50, 'NONE'], ['S', 1, 0, 'R', 75, 'UP'], ['S', 1, 0, 'R', 75, 'STAY'], ['S', 1, 0, 'R', 75, 'GATHER'], ['S', 1, 0, 'R', 75, 'NONE'], ['S', 1, 0, 'R', 100, 'UP'], ['S', 1, 0, 'R', 100, 'STAY'], ['S', 1, 0, 'R', 100, 'GATHER'], ['S', 1, 0, 'R', 100, 'NONE'], ['S', 1, 1, 'D', 25, 'UP'], ['S', 1, 1, 'D', 25, 'STAY'], ['S', 1, 1, 'D', 25, 'GATHER'], ['S', 1, 1, 'D', 25, 'NONE'], ['S', 1, 1, 'D', 50, 'UP'], ['S', 1, 1, 'D', 50, 'STAY'], ['S', 1, 1, 'D', 50, 'GATHER'], ['S', 1, 1, 'D', 50, 'NONE'], ['S', 1, 1, 'D', 75, 'UP'], ['S', 1, 1, 'D', 75, 'STAY'], ['S', 1, 1, 'D', 75, 'GATHER'], ['S', 1, 1, 'D', 75, 'NONE'], ['S', 1, 1, 'D', 100, 'UP'], ['S', 1, 1, 'D', 100, 'STAY'], ['S', 1, 1, 'D', 100, 'GATHER'], ['S', 1, 1, 'D', 100, 'NONE'], ['S', 1, 1, 'R', 25, 'UP'], ['S', 1, 1, 'R', 25, 'STAY'], ['S', 1, 1, 'R', 25, 'GATHER'], ['S', 1, 1, 'R', 25, 'NONE'], ['S', 1, 1, 'R', 50, 'UP'], ['S', 1, 1, 'R', 50, 'STAY'], ['S', 1, 1, 'R', 50, 'GATHER'], ['S', 1, 1, 'R', 50, 'NONE'], ['S', 1, 1, 'R', 75, 'UP'], ['S', 1, 1, 'R', 75, 'STAY'], ['S', 1, 1, 'R', 75, 'GATHER'], ['S', 1, 1, 'R', 75, 'NONE'], ['S', 1, 1, 'R', 100, 'UP'], ['S', 1, 1, 'R', 100, 'STAY'], ['S', 1, 1, 'R', 100, 'GATHER'], ['S', 1, 1, 'R', 100, 'NONE'], ['S', 2, 0, 'D', 25, 'UP'], ['S', 2, 0, 'D', 25, 'STAY'], ['S', 2, 0, 'D', 25, 'GATHER'], ['S', 2, 0, 'D', 25, 'NONE'], ['S', 2, 0, 'D', 50, 'UP'], ['S', 2, 0, 'D', 50, 'STAY'], ['S', 2, 0, 'D', 50, 'GATHER'], ['S', 2, 0, 'D', 50, 'NONE'], ['S', 2, 0, 'D', 75, 'UP'], ['S', 2, 0, 'D', 75, 'STAY'], ['S', 2, 0, 'D', 75, 'GATHER'], ['S', 2, 0, 'D', 75, 'NONE'], ['S', 2, 0, 'D', 100, 'UP'], ['S', 2, 0, 'D', 100, 'STAY'], ['S', 2, 0, 'D', 100, 'GATHER'], ['S', 2, 0, 'D', 100, 'NONE'], ['S', 2, 0, 'R', 25, 'UP'], ['S', 2, 0, 'R', 25, 'STAY'], ['S', 2, 0, 'R', 25, 'GATHER'], ['S', 2, 0, 'R', 25, 'NONE'], ['S', 2, 0, 'R', 50, 'UP'], ['S', 2, 0, 'R', 50, 'STAY'], ['S', 2, 0, 'R', 50, 'GATHER'], ['S', 2, 0, 'R', 50, 'NONE'], ['S', 2, 0, 'R', 75, 'UP'], ['S', 2, 0, 'R', 75, 'STAY'], ['S', 2, 0, 'R', 75, 'GATHER'], ['S', 2, 0, 'R', 75, 'NONE'], ['S', 2, 0, 'R', 100, 'UP'], ['S', 2, 0, 'R', 100, 'STAY'], ['S', 2, 0, 'R', 100, 'GATHER'], ['S', 2, 0, 'R', 100, 'NONE'], ['S', 2, 1, 'D', 25, 'UP'], ['S', 2, 1, 'D', 25, 'STAY'], ['S', 2, 1, 'D', 25, 'GATHER'], ['S', 2, 1, 'D', 25, 'NONE'], ['S', 2, 1, 'D', 50, 'UP'], ['S', 2, 1, 'D', 50, 'STAY'], ['S', 2, 1, 'D', 50, 'GATHER'], ['S', 2, 1, 'D', 50, 'NONE'], ['S', 2, 1, 'D', 75, 'UP'], ['S', 2, 1, 'D', 75, 'STAY'], ['S', 2, 1, 'D', 75, 'GATHER'], ['S', 2, 1, 'D', 75, 'NONE'], ['S', 2, 1, 'D', 100, 'UP'], ['S', 2, 1, 'D', 100, 'STAY'], ['S', 2, 1, 'D', 100, 'GATHER'], ['S', 2, 1, 'D', 100, 'NONE'], ['S', 2, 1, 'R', 25, 'UP'], ['S', 2, 1, 'R', 25, 'STAY'], ['S', 2, 1, 'R', 25, 'GATHER'], ['S', 2, 1, 'R', 25, 'NONE'], ['S', 2, 1, 'R', 50, 'UP'], ['S', 2, 1, 'R', 50, 'STAY'], ['S', 2, 1, 'R', 50, 'GATHER'], ['S', 2, 1, 'R', 50, 'NONE'], ['S', 2, 1, 'R', 75, 'UP'], ['S', 2, 1, 'R', 75, 'STAY'], ['S', 2, 1, 'R', 75, 'GATHER'], ['S', 2, 1, 'R', 75, 'NONE'], ['S', 2, 1, 'R', 100, 'UP'], ['S', 2, 1, 'R', 100, 'STAY'], ['S', 2, 1, 'R', 100, 'GATHER'], ['S', 2, 1, 'R', 100, 'NONE'], ['C', 0, 0, 'D', 0, 'UP'], ['C', 0, 0, 'D', 0, 'LEFT'], ['C', 0, 0, 'D', 0, 'DOWN'], ['C', 0, 0, 'D', 0, 'RIGHT'], ['C', 0, 0, 'D', 0, 'STAY'], ['C', 0, 0, 'D', 0, 'NONE'], ['C', 0, 0, 'D', 25, 'UP'], ['C', 0, 0, 'D', 25, 'LEFT'], ['C', 0, 0, 'D', 25, 'DOWN'], ['C', 0, 0, 'D', 25, 'RIGHT'], ['C', 0, 0, 'D', 25, 'STAY'], ['C', 0, 0, 'D', 25, 'NONE'], ['C', 0, 0, 'D', 50, 'UP'], ['C', 0, 0, 'D', 50, 'LEFT'], ['C', 0, 0, 'D', 50, 'DOWN'], ['C', 0, 0, 'D', 50, 'RIGHT'], ['C', 0, 0, 'D', 50, 'STAY'], ['C', 0, 0, 'D', 50, 'NONE'], ['C', 0, 0, 'D', 75, 'UP'], ['C', 0, 0, 'D', 75, 'LEFT'], ['C', 0, 0, 'D', 75, 'DOWN'], ['C', 0, 0, 'D', 75, 'RIGHT'], ['C', 0, 0, 'D', 75, 'STAY'], ['C', 0, 0, 'D', 75, 'NONE'], ['C', 0, 0, 'D', 100, 'UP'], ['C', 0, 0, 'D', 100, 'LEFT'], ['C', 0, 0, 'D', 100, 'DOWN'], ['C', 0, 0, 'D', 100, 'RIGHT'], ['C', 0, 0, 'D', 100, 'STAY'], ['C', 0, 0, 'D', 100, 'NONE'], ['C', 0, 0, 'R', 0, 'UP'], ['C', 0, 0, 'R', 0, 'LEFT'], ['C', 0, 0, 'R', 0, 'DOWN'], ['C', 0, 0, 'R', 0, 'RIGHT'], ['C', 0, 0, 'R', 0, 'STAY'], ['C', 0, 0, 'R', 0, 'NONE'], ['C', 0, 0, 'R', 25, 'UP'], ['C', 0, 0, 'R', 25, 'LEFT'], ['C', 0, 0, 'R', 25, 'DOWN'], ['C', 0, 0, 'R', 25, 'RIGHT'], ['C', 0, 0, 'R', 25, 'STAY'], ['C', 0, 0, 'R', 25, 'NONE'], ['C', 0, 0, 'R', 50, 'UP'], ['C', 0, 0, 'R', 50, 'LEFT'], ['C', 0, 0, 'R', 50, 'DOWN'], ['C', 0, 0, 'R', 50, 'RIGHT'], ['C', 0, 0, 'R', 50, 'STAY'], ['C', 0, 0, 'R', 50, 'NONE'], ['C', 0, 0, 'R', 75, 'UP'], ['C', 0, 0, 'R', 75, 'LEFT'], ['C', 0, 0, 'R', 75, 'DOWN'], ['C', 0, 0, 'R', 75, 'RIGHT'], ['C', 0, 0, 'R', 75, 'STAY'], ['C', 0, 0, 'R', 75, 'NONE'], ['C', 0, 0, 'R', 100, 'UP'], ['C', 0, 0, 'R', 100, 'LEFT'], ['C', 0, 0, 'R', 100, 'DOWN'], ['C', 0, 0, 'R', 100, 'RIGHT'], ['C', 0, 0, 'R', 100, 'STAY'], ['C', 0, 0, 'R', 100, 'NONE'], ['C', 0, 1, 'D', 0, 'UP'], ['C', 0, 1, 'D', 0, 'LEFT'], ['C', 0, 1, 'D', 0, 'DOWN'], ['C', 0, 1, 'D', 0, 'RIGHT'], ['C', 0, 1, 'D', 0, 'STAY'], ['C', 0, 1, 'D', 0, 'SHOOT'], ['C', 0, 1, 'D', 0, 'NONE'], ['C', 0, 1, 'D', 25, 'UP'], ['C', 0, 1, 'D', 25, 'LEFT'], ['C', 0, 1, 'D', 25, 'DOWN'], ['C', 0, 1, 'D', 25, 'RIGHT'], ['C', 0, 1, 'D', 25, 'STAY'], ['C', 0, 1, 'D', 25, 'SHOOT'], ['C', 0, 1, 'D', 25, 'NONE'], ['C', 0, 1, 'D', 50, 'UP'], ['C', 0, 1, 'D', 50, 'LEFT'], ['C', 0, 1, 'D', 50, 'DOWN'], ['C', 0, 1, 'D', 50, 'RIGHT'], ['C', 0, 1, 'D', 50, 'STAY'], ['C', 0, 1, 'D', 50, 'SHOOT'], ['C', 0, 1, 'D', 50, 'NONE'], ['C', 0, 1, 'D', 75, 'UP'], ['C', 0, 1, 'D', 75, 'LEFT'], ['C', 0, 1, 'D', 75, 'DOWN'], ['C', 0, 1, 'D', 75, 'RIGHT'], ['C', 0, 1, 'D', 75, 'STAY'], ['C', 0, 1, 'D', 75, 'SHOOT'], ['C', 0, 1, 'D', 75, 'NONE'], ['C', 0, 1, 'D', 100, 'UP'], ['C', 0, 1, 'D', 100, 'LEFT'], ['C', 0, 1, 'D', 100, 'DOWN'], ['C', 0, 1, 'D', 100, 'RIGHT'], ['C', 0, 1, 'D', 100, 'STAY'], ['C', 0, 1, 'D', 100, 'SHOOT'], ['C', 0, 1, 'D', 100, 'NONE'], ['C', 0, 1, 'R', 0, 'UP'], ['C', 0, 1, 'R', 0, 'LEFT'], ['C', 0, 1, 'R', 0, 'DOWN'], ['C', 0, 1, 'R', 0, 'RIGHT'], ['C', 0, 1, 'R', 0, 'STAY'], ['C', 0, 1, 'R', 0, 'SHOOT'], ['C', 0, 1, 'R', 0, 'NONE'], ['C', 0, 1, 'R', 25, 'UP'], ['C', 0, 1, 'R', 25, 'LEFT'], ['C', 0, 1, 'R', 25, 'DOWN'], ['C', 0, 1, 'R', 25, 'RIGHT'], ['C', 0, 1, 'R', 25, 'STAY'], ['C', 0, 1, 'R', 25, 'SHOOT'], ['C', 0, 1, 'R', 25, 'NONE'], ['C', 0, 1, 'R', 50, 'UP'], ['C', 0, 1, 'R', 50, 'LEFT'], ['C', 0, 1, 'R', 50, 'DOWN'], ['C', 0, 1, 'R', 50, 'RIGHT'], ['C', 0, 1, 'R', 50, 'STAY'], ['C', 0, 1, 'R', 50, 'SHOOT'], ['C', 0, 1, 'R', 50, 'NONE'], ['C', 0, 1, 'R', 75, 'UP'], ['C', 0, 1, 'R', 75, 'LEFT'], ['C', 0, 1, 'R', 75, 'DOWN'], ['C', 0, 1, 'R', 75, 'RIGHT'], ['C', 0, 1, 'R', 75, 'STAY'], ['C', 0, 1, 'R', 75, 'SHOOT'], ['C', 0, 1, 'R', 75, 'NONE'], ['C', 0, 1, 'R', 100, 'UP'], ['C', 0, 1, 'R', 100, 'LEFT'], ['C', 0, 1, 'R', 100, 'DOWN'], ['C', 0, 1, 'R', 100, 'RIGHT'], ['C', 0, 1, 'R', 100, 'STAY'], ['C', 0, 1, 'R', 100, 'SHOOT'], ['C', 0, 1, 'R', 100, 'NONE'], ['C', 1, 0, 'D', 0, 'UP'], ['C', 1, 0, 'D', 0, 'LEFT'], ['C', 1, 0, 'D', 0, 'DOWN'], ['C', 1, 0, 'D', 0, 'RIGHT'], ['C', 1, 0, 'D', 0, 'STAY'], ['C', 1, 0, 'D', 0, 'NONE'], ['C', 1, 0, 'D', 25, 'UP'], ['C', 1, 0, 'D', 25, 'LEFT'], ['C', 1, 0, 'D', 25, 'DOWN'], ['C', 1, 0, 'D', 25, 'RIGHT'], ['C', 1, 0, 'D', 25, 'STAY'], ['C', 1, 0, 'D', 25, 'NONE'], ['C', 1, 0, 'D', 50, 'UP'], ['C', 1, 0, 'D', 50, 'LEFT'], ['C', 1, 0, 'D', 50, 'DOWN'], ['C', 1, 0, 'D', 50, 'RIGHT'], ['C', 1, 0, 'D', 50, 'STAY'], ['C', 1, 0, 'D', 50, 'NONE'], ['C', 1, 0, 'D', 75, 'UP'], ['C', 1, 0, 'D', 75, 'LEFT'], ['C', 1, 0, 'D', 75, 'DOWN'], ['C', 1, 0, 'D', 75, 'RIGHT'], ['C', 1, 0, 'D', 75, 'STAY'], ['C', 1, 0, 'D', 75, 'NONE'], ['C', 1, 0, 'D', 100, 'UP'], ['C', 1, 0, 'D', 100, 'LEFT'], ['C', 1, 0, 'D', 100, 'DOWN'], ['C', 1, 0, 'D', 100, 'RIGHT'], ['C', 1, 0, 'D', 100, 'STAY'], ['C', 1, 0, 'D', 100, 'NONE'], ['C', 1, 0, 'R', 0, 'UP'], ['C', 1, 0, 'R', 0, 'LEFT'], ['C', 1, 0, 'R', 0, 'DOWN'], ['C', 1, 0, 'R', 0, 'RIGHT'], ['C', 1, 0, 'R', 0, 'STAY'], ['C', 1, 0, 'R', 0, 'NONE'], ['C', 1, 0, 'R', 25, 'UP'], ['C', 1, 0, 'R', 25, 'LEFT'], ['C', 1, 0, 'R', 25, 'DOWN'], ['C', 1, 0, 'R', 25, 'RIGHT'], ['C', 1, 0, 'R', 25, 'STAY'], ['C', 1, 0, 'R', 25, 'NONE'], ['C', 1, 0, 'R', 50, 'UP'], ['C', 1, 0, 'R', 50, 'LEFT'], ['C', 1, 0, 'R', 50, 'DOWN'], ['C', 1, 0, 'R', 50, 'RIGHT'], ['C', 1, 0, 'R', 50, 'STAY'], ['C', 1, 0, 'R', 50, 'NONE'], ['C', 1, 0, 'R', 75, 'UP'], ['C', 1, 0, 'R', 75, 'LEFT'], ['C', 1, 0, 'R', 75, 'DOWN'], ['C', 1, 0, 'R', 75, 'RIGHT'], ['C', 1, 0, 'R', 75, 'STAY'], ['C', 1, 0, 'R', 75, 'NONE'], ['C', 1, 0, 'R', 100, 'UP'], ['C', 1, 0, 'R', 100, 'LEFT'], ['C', 1, 0, 'R', 100, 'DOWN'], ['C', 1, 0, 'R', 100, 'RIGHT'], ['C', 1, 0, 'R', 100, 'STAY'], ['C', 1, 0, 'R', 100, 'NONE'], ['C', 1, 1, 'D', 0, 'UP'], ['C', 1, 1, 'D', 0, 'LEFT'], ['C', 1, 1, 'D', 0, 'DOWN'], ['C', 1, 1, 'D', 0, 'RIGHT'], ['C', 1, 1, 'D', 0, 'STAY'], ['C', 1, 1, 'D', 0, 'SHOOT'], ['C', 1, 1, 'D', 0, 'NONE'], ['C', 1, 1, 'D', 25, 'UP'], ['C', 1, 1, 'D', 25, 'LEFT'], ['C', 1, 1, 'D', 25, 'DOWN'], ['C', 1, 1, 'D', 25, 'RIGHT'], ['C', 1, 1, 'D', 25, 'STAY'], ['C', 1, 1, 'D', 25, 'SHOOT'], ['C', 1, 1, 'D', 25, 'NONE'], ['C', 1, 1, 'D', 50, 'UP'], ['C', 1, 1, 'D', 50, 'LEFT'], ['C', 1, 1, 'D', 50, 'DOWN'], ['C', 1, 1, 'D', 50, 'RIGHT'], ['C', 1, 1, 'D', 50, 'STAY'], ['C', 1, 1, 'D', 50, 'SHOOT'], ['C', 1, 1, 'D', 50, 'NONE'], ['C', 1, 1, 'D', 75, 'UP'], ['C', 1, 1, 'D', 75, 'LEFT'], ['C', 1, 1, 'D', 75, 'DOWN'], ['C', 1, 1, 'D', 75, 'RIGHT'], ['C', 1, 1, 'D', 75, 'STAY'], ['C', 1, 1, 'D', 75, 'SHOOT'], ['C', 1, 1, 'D', 75, 'NONE'], ['C', 1, 1, 'D', 100, 'UP'], ['C', 1, 1, 'D', 100, 'LEFT'], ['C', 1, 1, 'D', 100, 'DOWN'], ['C', 1, 1, 'D', 100, 'RIGHT'], ['C', 1, 1, 'D', 100, 'STAY'], ['C', 1, 1, 'D', 100, 'SHOOT'], ['C', 1, 1, 'D', 100, 'NONE'], ['C', 1, 1, 'R', 0, 'UP'], ['C', 1, 1, 'R', 0, 'LEFT'], ['C', 1, 1, 'R', 0, 'DOWN'], ['C', 1, 1, 'R', 0, 'RIGHT'], ['C', 1, 1, 'R', 0, 'STAY'], ['C', 1, 1, 'R', 0, 'SHOOT'], ['C', 1, 1, 'R', 0, 'NONE'], ['C', 1, 1, 'R', 25, 'UP'], ['C', 1, 1, 'R', 25, 'LEFT'], ['C', 1, 1, 'R', 25, 'DOWN'], ['C', 1, 1, 'R', 25, 'RIGHT'], ['C', 1, 1, 'R', 25, 'STAY'], ['C', 1, 1, 'R', 25, 'SHOOT'], ['C', 1, 1, 'R', 25, 'NONE'], ['C', 1, 1, 'R', 50, 'UP'], ['C', 1, 1, 'R', 50, 'LEFT'], ['C', 1, 1, 'R', 50, 'DOWN'], ['C', 1, 1, 'R', 50, 'RIGHT'], ['C', 1, 1, 'R', 50, 'STAY'], ['C', 1, 1, 'R', 50, 'SHOOT'], ['C', 1, 1, 'R', 50, 'NONE'], ['C', 1, 1, 'R', 75, 'UP'], ['C', 1, 1, 'R', 75, 'LEFT'], ['C', 1, 1, 'R', 75, 'DOWN'], ['C', 1, 1, 'R', 75, 'RIGHT'], ['C', 1, 1, 'R', 75, 'STAY'], ['C', 1, 1, 'R', 75, 'SHOOT'], ['C', 1, 1, 'R', 75, 'NONE'], ['C', 1, 1, 'R', 100, 'UP'], ['C', 1, 1, 'R', 100, 'LEFT'], ['C', 1, 1, 'R', 100, 'DOWN'], ['C', 1, 1, 'R', 100, 'RIGHT'], ['C', 1, 1, 'R', 100, 'STAY'], ['C', 1, 1, 'R', 100, 'SHOOT'], ['C', 1, 1, 'R', 100, 'NONE'], ['C', 2, 0, 'D', 0, 'UP'], ['C', 2, 0, 'D', 0, 'LEFT'], ['C', 2, 0, 'D', 0, 'DOWN'], ['C', 2, 0, 'D', 0, 'RIGHT'], ['C', 2, 0, 'D', 0, 'STAY'], ['C', 2, 0, 'D', 0, 'NONE'], ['C', 2, 0, 'D', 25, 'UP'], ['C', 2, 0, 'D', 25, 'LEFT'], ['C', 2, 0, 'D', 25, 'DOWN'], ['C', 2, 0, 'D', 25, 'RIGHT'], ['C', 2, 0, 'D', 25, 'STAY'], ['C', 2, 0, 'D', 25, 'NONE'], ['C', 2, 0, 'D', 50, 'UP'], ['C', 2, 0, 'D', 50, 'LEFT'], ['C', 2, 0, 'D', 50, 'DOWN'], ['C', 2, 0, 'D', 50, 'RIGHT'], ['C', 2, 0, 'D', 50, 'STAY'], ['C', 2, 0, 'D', 50, 'NONE'], ['C', 2, 0, 'D', 75, 'UP'], ['C', 2, 0, 'D', 75, 'LEFT'], ['C', 2, 0, 'D', 75, 'DOWN'], ['C', 2, 0, 'D', 75, 'RIGHT'], ['C', 2, 0, 'D', 75, 'STAY'], ['C', 2, 0, 'D', 75, 'NONE'], ['C', 2, 0, 'D', 100, 'UP'], ['C', 2, 0, 'D', 100, 'LEFT'], ['C', 2, 0, 'D', 100, 'DOWN'], ['C', 2, 0, 'D', 100, 'RIGHT'], ['C', 2, 0, 'D', 100, 'STAY'], ['C', 2, 0, 'D', 100, 'NONE'], ['C', 2, 0, 'R', 0, 'UP'], ['C', 2, 0, 'R', 0, 'LEFT'], ['C', 2, 0, 'R', 0, 'DOWN'], ['C', 2, 0, 'R', 0, 'RIGHT'], ['C', 2, 0, 'R', 0, 'STAY'], ['C', 2, 0, 'R', 0, 'NONE'], ['C', 2, 0, 'R', 25, 'UP'], ['C', 2, 0, 'R', 25, 'LEFT'], ['C', 2, 0, 'R', 25, 'DOWN'], ['C', 2, 0, 'R', 25, 'RIGHT'], ['C', 2, 0, 'R', 25, 'STAY'], ['C', 2, 0, 'R', 25, 'NONE'], ['C', 2, 0, 'R', 50, 'UP'], ['C', 2, 0, 'R', 50, 'LEFT'], ['C', 2, 0, 'R', 50, 'DOWN'], ['C', 2, 0, 'R', 50, 'RIGHT'], ['C', 2, 0, 'R', 50, 'STAY'], ['C', 2, 0, 'R', 50, 'NONE'], ['C', 2, 0, 'R', 75, 'UP'], ['C', 2, 0, 'R', 75, 'LEFT'], ['C', 2, 0, 'R', 75, 'DOWN'], ['C', 2, 0, 'R', 75, 'RIGHT'], ['C', 2, 0, 'R', 75, 'STAY'], ['C', 2, 0, 'R', 75, 'NONE'], ['C', 2, 0, 'R', 100, 'UP'], ['C', 2, 0, 'R', 100, 'LEFT'], ['C', 2, 0, 'R', 100, 'DOWN'], ['C', 2, 0, 'R', 100, 'RIGHT'], ['C', 2, 0, 'R', 100, 'STAY'], ['C', 2, 0, 'R', 100, 'NONE'], ['C', 2, 1, 'D', 0, 'UP'], ['C', 2, 1, 'D', 0, 'LEFT'], ['C', 2, 1, 'D', 0, 'DOWN'], ['C', 2, 1, 'D', 0, 'RIGHT'], ['C', 2, 1, 'D', 0, 'STAY'], ['C', 2, 1, 'D', 0, 'SHOOT'], ['C', 2, 1, 'D', 0, 'NONE'], ['C', 2, 1, 'D', 25, 'UP'], ['C', 2, 1, 'D', 25, 'LEFT'], ['C', 2, 1, 'D', 25, 'DOWN'], ['C', 2, 1, 'D', 25, 'RIGHT'], ['C', 2, 1, 'D', 25, 'STAY'], ['C', 2, 1, 'D', 25, 'SHOOT'], ['C', 2, 1, 'D', 25, 'NONE'], ['C', 2, 1, 'D', 50, 'UP'], ['C', 2, 1, 'D', 50, 'LEFT'], ['C', 2, 1, 'D', 50, 'DOWN'], ['C', 2, 1, 'D', 50, 'RIGHT'], ['C', 2, 1, 'D', 50, 'STAY'], ['C', 2, 1, 'D', 50, 'SHOOT'], ['C', 2, 1, 'D', 50, 'NONE'], ['C', 2, 1, 'D', 75, 'UP'], ['C', 2, 1, 'D', 75, 'LEFT'], ['C', 2, 1, 'D', 75, 'DOWN'], ['C', 2, 1, 'D', 75, 'RIGHT'], ['C', 2, 1, 'D', 75, 'STAY'], ['C', 2, 1, 'D', 75, 'SHOOT'], ['C', 2, 1, 'D', 75, 'NONE'], ['C', 2, 1, 'D', 100, 'UP'], ['C', 2, 1, 'D', 100, 'LEFT'], ['C', 2, 1, 'D', 100, 'DOWN'], ['C', 2, 1, 'D', 100, 'RIGHT'], ['C', 2, 1, 'D', 100, 'STAY'], ['C', 2, 1, 'D', 100, 'SHOOT'], ['C', 2, 1, 'D', 100, 'NONE'], ['C', 2, 1, 'R', 0, 'UP'], ['C', 2, 1, 'R', 0, 'LEFT'], ['C', 2, 1, 'R', 0, 'DOWN'], ['C', 2, 1, 'R', 0, 'RIGHT'], ['C', 2, 1, 'R', 0, 'STAY'], ['C', 2, 1, 'R', 0, 'SHOOT'], ['C', 2, 1, 'R', 0, 'NONE'], ['C', 2, 1, 'R', 25, 'UP'], ['C', 2, 1, 'R', 25, 'LEFT'], ['C', 2, 1, 'R', 25, 'DOWN'], ['C', 2, 1, 'R', 25, 'RIGHT'], ['C', 2, 1, 'R', 25, 'STAY'], ['C', 2, 1, 'R', 25, 'SHOOT'], ['C', 2, 1, 'R', 25, 'NONE'], ['C', 2, 1, 'R', 50, 'UP'], ['C', 2, 1, 'R', 50, 'LEFT'], ['C', 2, 1, 'R', 50, 'DOWN'], ['C', 2, 1, 'R', 50, 'RIGHT'], ['C', 2, 1, 'R', 50, 'STAY'], ['C', 2, 1, 'R', 50, 'SHOOT'], ['C', 2, 1, 'R', 50, 'NONE'], ['C', 2, 1, 'R', 75, 'UP'], ['C', 2, 1, 'R', 75, 'LEFT'], ['C', 2, 1, 'R', 75, 'DOWN'], ['C', 2, 1, 'R', 75, 'RIGHT'], ['C', 2, 1, 'R', 75, 'STAY'], ['C', 2, 1, 'R', 75, 'SHOOT'], ['C', 2, 1, 'R', 75, 'NONE'], ['C', 2, 1, 'R', 100, 'UP'], ['C', 2, 1, 'R', 100, 'LEFT'], ['C', 2, 1, 'R', 100, 'DOWN'], ['C', 2, 1, 'R', 100, 'RIGHT'], ['C', 2, 1, 'R', 100, 'STAY'], ['C', 2, 1, 'R', 100, 'SHOOT'], ['C', 2, 1, 'R', 100, 'NONE']]\n",
      "1238\n",
      "[0.0, 0.0, 0.0, -1.0, -1.0, -1.0, -1.0, -1.0, -1.0, -1.0, -1.0, -1.0, -1.0, -1.0, -1.0, 0.0, 0.0, 0.0, -20.5, -1, -20.5, -20.5, -1, -20.5, -20.5, -1, -20.5, -20.5, -1, -20.5, 0.0, 0.0, 0.0, 0.0, -1.0, -1.0, -1.0, -1.0, -1.0, -1.0, -1.0, -1.0, -1.0, -1.0, -1.0, -1.0, -1.0, -1.0, -1.0, -1.0, 0.0, 0.0, 0.0, 0.0, -20.5, -1, -20.5, -20.5, -20.5, -1, -20.5, -20.5, -20.5, -1, -20.5, -20.5, -20.5, -1, -20.5, -20.5, 0.0, 0.0, 0.0, -1.0, -1.0, -1.0, -1.0, -1.0, -1.0, -1.0, -1.0, -1.0, -1.0, -1.0, -1.0, 0.0, 0.0, 0.0, -20.5, -1, -20.5, -20.5, -1, -20.5, -20.5, -1, -20.5, -20.5, -1, -20.5, 0.0, 0.0, 0.0, 0.0, -1.0, -1.0, -1.0, -1.0, -1.0, -1.0, -1.0, -1.0, -1.0, -1.0, -1.0, -1.0, -1.0, -1.0, -1.0, -1.0, 0.0, 0.0, 0.0, 0.0, -20.5, -1, -20.5, -20.5, -20.5, -1, -20.5, -20.5, -20.5, -1, -20.5, -20.5, -20.5, -1, -20.5, -20.5, 0.0, 0.0, 0.0, -1.0, -1.0, -1.0, -1.0, -1.0, -1.0, -1.0, -1.0, -1.0, -1.0, -1.0, -1.0, 0.0, 0.0, 0.0, -20.5, -1, -20.5, -20.5, -1, -20.5, -20.5, -1, -20.5, -20.5, -1, -20.5, 0.0, 0.0, 0.0, 0.0, -1.0, -1.0, -1.0, -1.0, -1.0, -1.0, -1.0, -1.0, -1.0, -1.0, -1.0, -1.0, -1.0, -1.0, -1.0, -1.0, 0.0, 0.0, 0.0, 0.0, -20.5, -1, -20.5, -20.5, -20.5, -1, -20.5, -20.5, -20.5, -1, -20.5, -20.5, -20.5, -1, -20.5, -20.5, -1.0, -1.0, -1.0, -1.0, -1.0, -1.0, -1.0, -1.0, -1.0, -1.0, -1.0, -1.0, -1.0, -1.0, -1.0, -1.0, -1.0, -1.0, -1.0, -1.0, -1.0, -1.0, -1.0, -1.0, -1.0, -1.0, -1.0, -1.0, -1.0, -1.0, -1.0, -1.0, -1.0, -1.0, -1.0, -1.0, -1.0, -1.0, -1.0, -1.0, -1.0, -1.0, -1.0, -1.0, -1.0, -1.0, -1.0, -1.0, -1.0, -1.0, -1.0, -1.0, -1.0, -1.0, -1.0, -1.0, -1.0, -1.0, -1.0, -1.0, -1.0, -1.0, -1.0, -1.0, -1.0, -1.0, -1.0, -1.0, -1.0, -1.0, -1.0, -1.0, -1.0, -1.0, -1.0, -1.0, -1.0, -1.0, -1.0, -1.0, -1.0, -1.0, -1.0, -1.0, -1.0, -1.0, -1.0, -1.0, -1.0, -1.0, -1.0, -1.0, -1.0, -1.0, -1.0, -1.0, -1.0, -1.0, -1.0, -1.0, -1.0, -1.0, -1.0, -1.0, -1.0, -1.0, -1.0, -1.0, -1.0, -1.0, -1.0, -1.0, -1.0, -1.0, -1.0, -1.0, -1.0, -1.0, -1.0, -1.0, -1.0, -1.0, -1.0, -1.0, -1.0, -1.0, -1.0, -1.0, -1.0, -1.0, -1.0, -1.0, -1.0, -1.0, -1.0, -1.0, -1.0, -1.0, -1.0, -1.0, -1.0, -1.0, -1.0, -1.0, -1.0, -1.0, -1.0, -1.0, -1.0, -1.0, -1.0, -1.0, -1.0, -1.0, -1.0, -1.0, -1.0, -1.0, -1.0, -1.0, -1.0, -1.0, -1.0, -1.0, -1.0, -1.0, -1.0, -1.0, -1.0, -1.0, -1.0, -1.0, -1.0, -1.0, -1.0, -1.0, 0.0, 0.0, 0.0, 0.0, -1.0, -1.0, -1.0, -1.0, -1.0, -1.0, -1.0, -1.0, -1.0, -1.0, -1.0, -1.0, -1.0, -1.0, -1.0, -1.0, 0.0, 0.0, 0.0, 0.0, -20.5, -1, -20.5, -20.5, -20.5, -1, -20.5, -20.5, -20.5, -1, -20.5, -20.5, -20.5, -1, -20.5, -20.5, 0.0, 0.0, 0.0, 0.0, 0.0, -1.0, -1.0, -1.0, -1.0, -1.0, -1.0, -1.0, -1.0, -1.0, -1.0, -1.0, -1.0, -1.0, -1.0, -1.0, -1.0, -1.0, -1.0, -1.0, -1.0, 0.0, 0.0, 0.0, 0.0, 0.0, -20.5, -1, -20.5, -20.5, -20.5, -20.5, -1, -20.5, -20.5, -20.5, -20.5, -1, -20.5, -20.5, -20.5, -20.5, -1, -20.5, -20.5, -20.5, 0.0, 0.0, 0.0, 0.0, -1.0, -1.0, -1.0, -1.0, -1.0, -1.0, -1.0, -1.0, -1.0, -1.0, -1.0, -1.0, -1.0, -1.0, -1.0, -1.0, 0.0, 0.0, 0.0, 0.0, -20.5, -1, -20.5, -20.5, -20.5, -1, -20.5, -20.5, -20.5, -1, -20.5, -20.5, -20.5, -1, -20.5, -20.5, 0.0, 0.0, 0.0, 0.0, 0.0, -1.0, -1.0, -1.0, -1.0, -1.0, -1.0, -1.0, -1.0, -1.0, -1.0, -1.0, -1.0, -1.0, -1.0, -1.0, -1.0, -1.0, -1.0, -1.0, -1.0, 0.0, 0.0, 0.0, 0.0, 0.0, -20.5, -1, -20.5, -20.5, -20.5, -20.5, -1, -20.5, -20.5, -20.5, -20.5, -1, -20.5, -20.5, -20.5, -20.5, -1, -20.5, -20.5, -20.5, 0.0, 0.0, 0.0, 0.0, -1.0, -1.0, -1.0, -1.0, -1.0, -1.0, -1.0, -1.0, -1.0, -1.0, -1.0, -1.0, -1.0, -1.0, -1.0, -1.0, 0.0, 0.0, 0.0, 0.0, -20.5, -1, -20.5, -20.5, -20.5, -1, -20.5, -20.5, -20.5, -1, -20.5, -20.5, -20.5, -1, -20.5, -20.5, 0.0, 0.0, 0.0, 0.0, 0.0, -1.0, -1.0, -1.0, -1.0, -1.0, -1.0, -1.0, -1.0, -1.0, -1.0, -1.0, -1.0, -1.0, -1.0, -1.0, -1.0, -1.0, -1.0, -1.0, -1.0, 0.0, 0.0, 0.0, 0.0, 0.0, -20.5, -1, -20.5, -20.5, -20.5, -20.5, -1, -20.5, -20.5, -20.5, -20.5, -1, -20.5, -20.5, -20.5, -20.5, -1, -20.5, -20.5, -20.5, -1.0, -1.0, -1.0, -1.0, -1.0, -1.0, -1.0, -1.0, -1.0, -1.0, -1.0, -1.0, -1.0, -1.0, -1.0, -1.0, -1.0, -1.0, -1.0, -1.0, -1.0, -1.0, -1.0, -1.0, -1.0, -1.0, -1.0, -1.0, -1.0, -1.0, -1.0, -1.0, -1.0, -1.0, -1.0, -1.0, -1.0, -1.0, -1.0, -1.0, -1.0, -1.0, -1.0, -1.0, -1.0, -1.0, -1.0, -1.0, -1.0, -1.0, -1.0, -1.0, -1.0, -1.0, -1.0, -1.0, -1.0, -1.0, -1.0, -1.0, -1.0, -1.0, -1.0, -1.0, -1.0, -1.0, -1.0, -1.0, -1.0, -1.0, -1.0, -1.0, -1.0, -1.0, -1.0, -1.0, -1.0, -1.0, -1.0, -1.0, -1.0, -1.0, -1.0, -1.0, -1.0, -1.0, -1.0, -1.0, -1.0, -1.0, -1.0, -1.0, -1.0, -1.0, -1.0, -1.0, -1.0, -1.0, -1.0, -1.0, -1.0, -1.0, -1.0, -1.0, -1.0, -1.0, -1.0, -1.0, -1.0, -1.0, -1.0, -1.0, -1.0, -1.0, -1.0, -1.0, -1.0, -1.0, -1.0, -1.0, -1.0, -1.0, -1.0, -1.0, -1.0, -1.0, -1.0, -1.0, -1.0, -1.0, -1.0, -1.0, -1.0, -1.0, -1.0, -1.0, -1.0, -1.0, -1.0, -1.0, -1.0, -1.0, -1.0, -1.0, -1.0, -1.0, -1.0, -1.0, -1.0, -1.0, -1.0, -1.0, -1.0, -1.0, -1.0, -1.0, -1.0, -1.0, -1.0, -1.0, -1.0, -1.0, -1.0, -1.0, -1.0, -1.0, -1.0, -1.0, -1.0, -1.0, -1.0, -1.0, -1.0, -1.0, -1.0, -1.0, -1.0, -1.0, -1.0, -1.0, -1.0, -1.0, -1.0, -1.0, -1.0, -1.0, -1.0, -1.0, -1.0, -1.0, -1.0, -1.0, 0.0, 0.0, 0.0, 0.0, 0.0, 0.0, -1.0, -1.0, -1.0, -1.0, -1.0, -1.0, -1.0, -1.0, -1.0, -1.0, -1.0, -1.0, -1.0, -1.0, -1.0, -1.0, -1.0, -1.0, -1.0, -1.0, -1.0, -1.0, -1.0, -1.0, 0.0, 0.0, 0.0, 0.0, 0.0, 0.0, -20.5, -20.5, -20.5, -20.5, -1, -20.5, -20.5, -20.5, -20.5, -20.5, -1, -20.5, -20.5, -20.5, -20.5, -20.5, -1, -20.5, -20.5, -20.5, -20.5, -20.5, -1, -20.5, 0.0, 0.0, 0.0, 0.0, 0.0, 0.0, 0.0, -1.0, -1.0, -1.0, -1.0, -1.0, -1.0, -1.0, -1.0, -1.0, -1.0, -1.0, -1.0, -1.0, -1.0, -1.0, -1.0, -1.0, -1.0, -1.0, -1.0, -1.0, -1.0, -1.0, -1.0, -1.0, -1.0, -1.0, -1.0, 0.0, 0.0, 0.0, 0.0, 0.0, 0.0, 0.0, -20.5, -20.5, -20.5, -20.5, -1, -20.5, -20.5, -20.5, -20.5, -20.5, -20.5, -1, -20.5, -20.5, -20.5, -20.5, -20.5, -20.5, -1, -20.5, -20.5, -20.5, -20.5, -20.5, -20.5, -1, -20.5, -20.5, 0.0, 0.0, 0.0, 0.0, 0.0, 0.0, -1.0, -1.0, -1.0, -1.0, -1.0, -1.0, -1.0, -1.0, -1.0, -1.0, -1.0, -1.0, -1.0, -1.0, -1.0, -1.0, -1.0, -1.0, -1.0, -1.0, -1.0, -1.0, -1.0, -1.0, 0.0, 0.0, 0.0, 0.0, 0.0, 0.0, -20.5, -20.5, -20.5, -20.5, -1, -20.5, -20.5, -20.5, -20.5, -20.5, -1, -20.5, -20.5, -20.5, -20.5, -20.5, -1, -20.5, -20.5, -20.5, -20.5, -20.5, -1, -20.5, 0.0, 0.0, 0.0, 0.0, 0.0, 0.0, 0.0, -1.0, -1.0, -1.0, -1.0, -1.0, -1.0, -1.0, -1.0, -1.0, -1.0, -1.0, -1.0, -1.0, -1.0, -1.0, -1.0, -1.0, -1.0, -1.0, -1.0, -1.0, -1.0, -1.0, -1.0, -1.0, -1.0, -1.0, -1.0, 0.0, 0.0, 0.0, 0.0, 0.0, 0.0, 0.0, -20.5, -20.5, -20.5, -20.5, -1, -20.5, -20.5, -20.5, -20.5, -20.5, -20.5, -1, -20.5, -20.5, -20.5, -20.5, -20.5, -20.5, -1, -20.5, -20.5, -20.5, -20.5, -20.5, -20.5, -1, -20.5, -20.5, 0.0, 0.0, 0.0, 0.0, 0.0, 0.0, -1.0, -1.0, -1.0, -1.0, -1.0, -1.0, -1.0, -1.0, -1.0, -1.0, -1.0, -1.0, -1.0, -1.0, -1.0, -1.0, -1.0, -1.0, -1.0, -1.0, -1.0, -1.0, -1.0, -1.0, 0.0, 0.0, 0.0, 0.0, 0.0, 0.0, -20.5, -20.5, -20.5, -20.5, -1, -20.5, -20.5, -20.5, -20.5, -20.5, -1, -20.5, -20.5, -20.5, -20.5, -20.5, -1, -20.5, -20.5, -20.5, -20.5, -20.5, -1, -20.5, 0.0, 0.0, 0.0, 0.0, 0.0, 0.0, 0.0, -1.0, -1.0, -1.0, -1.0, -1.0, -1.0, -1.0, -1.0, -1.0, -1.0, -1.0, -1.0, -1.0, -1.0, -1.0, -1.0, -1.0, -1.0, -1.0, -1.0, -1.0, -1.0, -1.0, -1.0, -1.0, -1.0, -1.0, -1.0, 0.0, 0.0, 0.0, 0.0, 0.0, 0.0, 0.0, -20.5, -20.5, -20.5, -20.5, -1, -20.5, -20.5, -20.5, -20.5, -20.5, -20.5, -1, -20.5, -20.5, -20.5, -20.5, -20.5, -20.5, -1, -20.5, -20.5, -20.5, -20.5, -20.5, -20.5, -1, -20.5, -20.5]\n",
      "1238\n"
     ]
    }
   ],
   "source": [
    "\n",
    "    #pass\n",
    "X, R, output_meta_data = init_X_and_R()\n",
    "print(\"Output meta size: \"+str(len(output_meta_data)))\n",
    "print(output_meta_data)\n",
    "R = update_R(output_meta_data)\n",
    "print(len(R))\n",
    "print(R)\n",
    "print(len(X))\n",
    "#print(len(output_meta_data))\n",
    "#print(X)\n",
    "#print(R)"
   ]
  },
  {
   "cell_type": "code",
   "execution_count": null,
   "metadata": {},
   "outputs": [],
   "source": []
  }
 ],
 "metadata": {
  "kernelspec": {
   "display_name": "science2_env",
   "language": "python",
   "name": "science2_env"
  },
  "language_info": {
   "codemirror_mode": {
    "name": "ipython",
    "version": 3
   },
   "file_extension": ".py",
   "mimetype": "text/x-python",
   "name": "python",
   "nbconvert_exporter": "python",
   "pygments_lexer": "ipython3",
   "version": "3.8.5"
  }
 },
 "nbformat": 4,
 "nbformat_minor": 4
}
