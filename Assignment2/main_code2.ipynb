{
 "cells": [
  {
   "cell_type": "code",
   "execution_count": 1,
   "metadata": {},
   "outputs": [],
   "source": [
    "# A generic genetic algorithm\n",
    "import random\n",
    "import numpy as np\n",
    "import matplotlib.pyplot as plt\n",
    "from client import get_errors\n",
    "from io import StringIO\n",
    "from config import SECRET_KEY\n",
    "from utils import POPULATION_SIZE, SPLIT_POINT, FEATURE_VECTOR_SIZE, MUTATION_COEFF\n",
    "from helpers import mkdir_p, get_train_validation_errors, get_rank_and_probabilities, fitness, select_parents, cross_over, mutate, plot_graph, initialize_params\n",
    "\n",
    "from errno import EEXIST\n",
    "from os import makedirs, path"
   ]
  },
  {
   "cell_type": "code",
   "execution_count": 2,
   "metadata": {},
   "outputs": [
    {
     "name": "stdout",
     "output_type": "stream",
     "text": [
      "[[ 0.00000000e+00  0.00000000e+00]\n",
      " [ 6.27937040e+00 -1.45799022e-12]\n",
      " [-2.28980078e-13 -2.28980078e-13]\n",
      " [ 4.62010753e-11  4.62010753e-11]\n",
      " [-1.75214813e-10 -1.75214813e-10]\n",
      " [-1.83669770e-15 -1.83669770e-15]\n",
      " [ 8.52944060e-16  8.52944060e-16]\n",
      " [ 2.29423303e-05  2.29423303e-05]\n",
      " [-2.04721003e-06 -2.04721003e-06]\n",
      " [-1.59792834e-08 -1.59792834e-08]\n",
      " [ 9.98214034e-10 -6.41889788e+00]]\n",
      "Initial params:\n",
      "\n",
      "[[ 0.00000000e+00  0.00000000e+00]\n",
      " [ 6.27937040e+00 -1.45799022e-12]\n",
      " [-2.28980078e-13 -2.28980078e-13]\n",
      " [ 4.62010753e-11  4.62010753e-11]\n",
      " [-1.75214813e-10 -1.75214813e-10]\n",
      " [-1.83669770e-15 -1.83669770e-15]\n",
      " [ 8.52944060e-16  8.52944060e-16]\n",
      " [ 2.29423303e-05  2.29423303e-05]\n",
      " [-2.04721003e-06 -2.04721003e-06]\n",
      " [-1.59792834e-08 -1.59792834e-08]\n",
      " [ 9.98214034e-10 -6.41889788e+00]]\n",
      "Rank array\n",
      "[1 2]\n",
      "All errors\n",
      "[[13504842102.92983, 368344514440.6409], [1.8699220255774645e+34, 3.537659418191892e+34]]\n",
      "Best offspring Gen errors\n",
      "[[1.35048421e+10 3.68344514e+11]\n",
      " [0.00000000e+00 0.00000000e+00]\n",
      " [0.00000000e+00 0.00000000e+00]]\n",
      "Rank array\n",
      "[1 2]\n",
      "All errors\n",
      "[[5.857177121134265e+27, 1.135570381971813e+28], [1.7844758424772784e+34, 3.3719851275596257e+34]]\n",
      "Best offspring Gen errors\n",
      "[[1.35048421e+10 3.68344514e+11]\n",
      " [5.85717712e+27 1.13557038e+28]\n",
      " [0.00000000e+00 0.00000000e+00]]\n",
      "Rank array\n",
      "[2 1]\n",
      "All errors\n",
      "[[1.798068210366651e+34, 3.398342519937228e+34], [5.749035593942006e+27, 1.1146042393405324e+28]]\n",
      "Best offspring Gen errors\n",
      "[[1.35048421e+10 3.68344514e+11]\n",
      " [5.85717712e+27 1.13557038e+28]\n",
      " [5.74903559e+27 1.11460424e+28]]\n"
     ]
    },
    {
     "name": "stderr",
     "output_type": "stream",
     "text": [
      "/home/vishal/Volume_D/sem_4/Courses/Machine, Data and Learning/Assignments/Assignment2/Vishal/MDL-Project/helpers.py:147: UserWarning: Matplotlib is currently using module://ipykernel.pylab.backend_inline, which is a non-GUI backend, so cannot show the figure.\n",
      "  fig.show()\n"
     ]
    },
    {
     "data": {
      "image/png": "[encoded data removed]",
      "text/plain": [
       "<Figure size 432x288 with 1 Axes>"
      ]
     },
     "metadata": {
      "needs_background": "light"
     },
     "output_type": "display_data"
    }
   ],
   "source": [
    "init_overfit_params, init_params = initialize_params()\n",
    "NO_OF_GENERATIONS = 3\n",
    "generation_errors = np.zeros(shape=(NO_OF_GENERATIONS, 2), dtype=float)\n",
    "params = np.zeros(shape=(11, POPULATION_SIZE), dtype=float)\n",
    "np.copyto(params, init_params)\n",
    "print(\"Initial params:\\n\")\n",
    "print(init_params)\n",
    "target_directory = \"Results/3-01/run9\"\n",
    "mkdir_p(target_directory)\n",
    "f = open(\"{}/params.txt\".format(target_directory), \"w\")\n",
    "#f.write(\"Run 1 of 27th feb is continued, we started with the final parameters of previous run i.e. run4 and simulated x more generations where x =\\n\" + str(NO_OF_GENERATIONS) + \"\\n\")\n",
    "f.write(\"Starting all over again with new root population\\n\")\n",
    "f.write(\"No of generations: \" + str(NO_OF_GENERATIONS) + \"\\n\")\n",
    "f.write(\"Population size: \" + str(POPULATION_SIZE) + \"\\n\")\n",
    "f.write(\"Mutation coefficient: \" + str(MUTATION_COEFF) + \"\\n\")\n",
    "f.write(\"Split point: \" + str(SPLIT_POINT) + \"\\n\")\n",
    "f.write(\"One offspring per pair\\n\")\n",
    "\n",
    "for i in range(NO_OF_GENERATIONS):\n",
    "    train_validation_errors = None\n",
    "    fitness_score_array = None\n",
    "    rank_array = None\n",
    "    # fitness\n",
    "    train_validation_errors = get_train_validation_errors(SECRET_KEY, POPULATION_SIZE, params)\n",
    "    fitness_score_array = fitness(np.array(train_validation_errors))\n",
    "    rank_array, selection_prob = get_rank_and_probabilities(fitness_score_array)\n",
    "    f.write(\"Population:\\n\")\n",
    "    f.write(str(params))\n",
    "    f.write(\"\\nTrain validation errors\\n\")\n",
    "    f.write(str(train_validation_errors))\n",
    "    f.write('\\n')\n",
    "    for j in range(POPULATION_SIZE):\n",
    "        if rank_array[j]==1:\n",
    "            generation_errors[i, :] += train_validation_errors[j]\n",
    "    print(\"Rank array\")\n",
    "    print(rank_array)\n",
    "    print(\"All errors\")\n",
    "    print(train_validation_errors)\n",
    "    print(\"Best offspring Gen errors\")\n",
    "    print(generation_errors)\n",
    "    # crossover and mutation\n",
    "    temp_count = 0\n",
    "    offspring_params = np.zeros(shape=(11, POPULATION_SIZE), dtype=float)\n",
    "    while temp_count < POPULATION_SIZE:\n",
    "        k, l = select_parents(selection_prob)\n",
    "        #print(k, l)\n",
    "        offspring1, offspring2 = cross_over(params[:, k], params[:, l], SPLIT_POINT)\n",
    "        #print(offspring)\n",
    "        offspring1 = mutate(offspring1)\n",
    "        offspring2 = mutate(offspring2)\n",
    "        #print(offspring)\n",
    "        offspring_params[:, temp_count] += offspring1[:]\n",
    "        offspring_params[:, temp_count+1] += offspring2[:]\n",
    "        #print(offspring_params)\n",
    "        temp_count += 2\n",
    "    #print(\"Errors\")\n",
    "    #print(generation_errors)\n",
    "    #print(\"params\")\n",
    "    #print(offspring_params)\n",
    "    np.copyto(params, offspring_params)\n",
    "\n",
    "f.close()\n",
    "plot_graph(NO_OF_GENERATIONS, generation_errors, target_directory)"
   ]
  },
  {
   "cell_type": "code",
   "execution_count": null,
   "metadata": {},
   "outputs": [],
   "source": [
    "init_overfit_params, init_params = initialize_params()\n",
    "NO_OF_GENERATIONS = 10\n",
    "generation_errors = np.zeros(shape=(NO_OF_GENERATIONS, 2), dtype=float)\n",
    "params = np.zeros(shape=(11, POPULATION_SIZE), dtype=float)\n",
    "np.copyto(params, init_params)\n",
    "print(\"Initial params:\\n\")\n",
    "print(init_params)"
   ]
  },
  {
   "cell_type": "code",
   "execution_count": null,
   "metadata": {},
   "outputs": [],
   "source": []
  }
 ],
 "metadata": {
  "kernelspec": {
   "display_name": "science2_env",
   "language": "python",
   "name": "science2_env"
  },
  "language_info": {
   "codemirror_mode": {
    "name": "ipython",
    "version": 3
   },
   "file_extension": ".py",
   "mimetype": "text/x-python",
   "name": "python",
   "nbconvert_exporter": "python",
   "pygments_lexer": "ipython3",
   "version": "3.8.5"
  }
 },
 "nbformat": 4,
 "nbformat_minor": 4
}
