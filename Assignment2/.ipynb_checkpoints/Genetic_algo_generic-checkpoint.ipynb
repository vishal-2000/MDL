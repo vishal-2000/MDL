{
 "cells": [
  {
   "cell_type": "markdown",
   "metadata": {},
   "source": [
    "# Imports"
   ]
  },
  {
   "cell_type": "code",
   "execution_count": 7,
   "metadata": {},
   "outputs": [],
   "source": [
    "# A generic genetic algorithm\n",
    "import random\n",
    "import numpy as np\n",
    "import matplotlib.pyplot as plt\n",
    "from client import get_errors\n",
    "from io import StringIO\n",
    "from config import SECRET_KEY\n",
    "from utils import POPULATION_SIZE, SPLIT_POINT, FEATURE_VECTOR_SIZE, MUTATION_COEFF\n",
    "\n",
    "from errno import EEXIST\n",
    "from os import makedirs, path"
   ]
  },
  {
   "cell_type": "markdown",
   "metadata": {},
   "source": [
    "-------------------------------------------------------------------------------------------------------------------\n",
    "# Create Target directories"
   ]
  },
  {
   "cell_type": "code",
   "execution_count": 8,
   "metadata": {},
   "outputs": [],
   "source": [
    "def mkdir_p(mypath):\n",
    "    '''Creates a directory. equivalent to using mkdir -p on the command line'''\n",
    "    try:\n",
    "        makedirs(mypath)\n",
    "    except OSError as exc: # Python >2.5\n",
    "        if exc.errno == EEXIST and path.isdir(mypath):\n",
    "            pass\n",
    "        else: raise"
   ]
  },
  {
   "cell_type": "markdown",
   "metadata": {},
   "source": [
    "----------------------------------------------------------------------\n",
    "# Extracting the overfit parameters "
   ]
  },
  {
   "cell_type": "code",
   "execution_count": 9,
   "metadata": {},
   "outputs": [
    {
     "name": "stdout",
     "output_type": "stream",
     "text": [
      "The initial overfit parameters given to us in overfit.txt\n",
      "\n",
      "[0.0, -1.45799022e-12, -2.28980078e-13, 4.62010753e-11, -1.75214813e-10, -1.8366977e-15, 8.5294406e-16, 2.29423303e-05, -2.04721003e-06, -1.59792834e-08, 9.98214034e-10]\n"
     ]
    }
   ],
   "source": [
    "file = open(\"overfit.txt\", \"r\")\n",
    "line = file.read()\n",
    "# Create a string which does not contain '[' and ']'\n",
    "str1 = ''\n",
    "for i in line:\n",
    "    if i=='[' or i==']':\n",
    "        continue\n",
    "    str1 += i\n",
    "str1 = StringIO(str1)\n",
    "# Extracting the parameters from the string and putting them in a list\n",
    "init_overfit_params = list(np.loadtxt(str1, dtype=float, delimiter=','))\n",
    "print(\"The initial overfit parameters given to us in overfit.txt\\n\")\n",
    "print(init_overfit_params)"
   ]
  },
  {
   "cell_type": "markdown",
   "metadata": {},
   "source": [
    "----------------------------------------------------------------------\n",
    "# Initialization\n",
    "- We will initialize the initial population of population size POPULATION_SIZE here\n",
    "- Currently we are initializing the population with random vectors\n",
    "- The matriz params has size = (no of features)*(POPULATION_SIZE)\n",
    "- Numpy seed set to 40 (currently) (Seed is set to provide result reproducibility)"
   ]
  },
  {
   "cell_type": "code",
   "execution_count": 38,
   "metadata": {},
   "outputs": [],
   "source": [
    "np.random.seed(40)\n",
    "params = np.random.uniform(-9, 10, size=(11, POPULATION_SIZE))\n",
    "for i in range(5):\n",
    "    np.copyto(params[:, i], init_overfit_params)\n",
    "init_params = np.zeros(shape= (11, POPULATION_SIZE))\n",
    "np.copyto(init_params, params)\n",
    "print(params)"
   ]
  },
  {
   "cell_type": "markdown",
   "metadata": {},
   "source": [
    "-----------------------------------------------------------------------\n",
    "# Fitness function and Ranking\n",
    "- Fitness function will be calculated using the train and validation errors of each entity of population\n",
    "- The current fitness function = -1 * (validation error) (we are basically tring to minimize the validation error as much as possible (next try - -1*(training_error) - 10*(validation_error)))\n",
    "-  Rank the entities (Higher the fitness coefficient, better the rank)"
   ]
  },
  {
   "cell_type": "markdown",
   "metadata": {},
   "source": [
    "## Create train_validation_errors\n",
    "- Get the train and validation errors for each entity of population and store them in an array"
   ]
  },
  {
   "cell_type": "code",
   "execution_count": 28,
   "metadata": {},
   "outputs": [],
   "source": [
    "#k = list(params[:, 1])\n",
    "#print(get_errors(SECRET_KEY, k))\n",
    "def get_train_validation_errors(SECRET_KEY, POPULATION_SIZE, params):\n",
    "    return [get_errors(SECRET_KEY, list(params[:, i])) for i in range(params.shape[1])]\n",
    "#train_validation_errors = get_train_validation_errors(SECRET_KEY, POPULATION_SIZE, params)\n",
    "#print(train_validation_errors)"
   ]
  },
  {
   "cell_type": "code",
   "execution_count": 6,
   "metadata": {},
   "outputs": [],
   "source": [
    "#params.shape\n",
    "#train_validation_errors[3] "
   ]
  },
  {
   "cell_type": "markdown",
   "metadata": {},
   "source": [
    "## Fitness function"
   ]
  },
  {
   "cell_type": "code",
   "execution_count": 29,
   "metadata": {},
   "outputs": [],
   "source": [
    "def fitness(train_validation_error):\n",
    "    fitness_score = -1 * train_validation_error[:, 1] \n",
    "    return fitness_score\n",
    "\n",
    "#fitness_score_array = fitness(np.array(train_validation_errors))\n",
    "#print(fitness_score_array)"
   ]
  },
  {
   "cell_type": "markdown",
   "metadata": {},
   "source": [
    "## Rank the entities\n",
    "- Get the ranks and probabilities \n",
    "- Probability of selecting a parent\n",
    "    - Probability = (POPULATION_SIZE - rank + 1) / [ (POPULATION_SIZE*(POPULATION_SIZE - 1))/2 ]"
   ]
  },
  {
   "cell_type": "code",
   "execution_count": 30,
   "metadata": {},
   "outputs": [],
   "source": [
    "def get_rank_and_probabilities(fitness_score_array):\n",
    "    rank_indices = np.zeros(shape = (fitness_score_array.size, ), dtype=int)\n",
    "    # assign ranks to index positions\n",
    "    min_index = 0 # index with max fitness score\n",
    "    visited = [False for i in range(fitness_score_array.size)]\n",
    "    for i in range(fitness_score_array.size):\n",
    "        for j in range(fitness_score_array.size):\n",
    "            if visited[j]==False:\n",
    "                min_index = j\n",
    "        for j in range(fitness_score_array.size):\n",
    "            if j==min_index:\n",
    "                continue\n",
    "            elif fitness_score_array[j] > fitness_score_array[min_index] and visited[j]==False:\n",
    "                min_index = j\n",
    "        visited[min_index] = True\n",
    "        rank_indices[min_index] = i+1\n",
    "        # selection probability array\n",
    "        selection_probabilities = ((POPULATION_SIZE - rank_indices[:] + 1)*2)/float(POPULATION_SIZE*(POPULATION_SIZE + 1))\n",
    "    return rank_indices, selection_probabilities\n",
    "#rank_array, selection_prob = get_rank_and_probabilities(fitness_score_array)\n",
    "#print(rank_array)\n",
    "#print(selection_prob)\n",
    "#print(fitness_score_array)"
   ]
  },
  {
   "cell_type": "markdown",
   "metadata": {},
   "source": [
    "# Selection and Cross over\n",
    "1. Select a pair of entities for cross over\n",
    "2. Split the offspring at a particular index, past one parent to the left of split point and other to the right\n",
    "3. Repeat steps 1 and 2 until you produce the no of offsprings equals the no of parents (initial population)\n",
    "## Probability of selecting a parent\n",
    "- Probability = (POPULATION_SIZE - rank + 1) / [ (POPULATION_SIZE*(POPULATION_SIZE - 1))/2 ]\n",
    "## Function - select_parents()\n",
    "- returns the indices of two parents per each call\n",
    "## Function - cross_over()\n",
    "- returns the offspring\n",
    "## Function - mutate()\n",
    "- returns the mutated offspring\n",
    "- MUTATION_COEFF: it is the probability of a feature to get mutated"
   ]
  },
  {
   "cell_type": "code",
   "execution_count": 5,
   "metadata": {},
   "outputs": [],
   "source": [
    "def select_parents(selection_prob):\n",
    "    parent1 = parent2 = -1\n",
    "    k = 0\n",
    "    parent = -1\n",
    "    while True:\n",
    "        p = np.random.uniform(0, 1)\n",
    "        k = 0\n",
    "        parent = -1\n",
    "        for i in range(selection_prob.size):\n",
    "            k += selection_prob[i]\n",
    "            if i!=parent1 and p <= k:\n",
    "                parent = i\n",
    "                break\n",
    "        if parent == -1:\n",
    "            continue\n",
    "        elif parent1 == -1:\n",
    "            parent1 = parent\n",
    "        elif parent2 == -1:\n",
    "            parent2 = parent\n",
    "            break\n",
    "    return parent1, parent2\n",
    "\n",
    "def cross_over(parent1, parent2, SPLIT_POINT):\n",
    "    offspring1 = np.zeros(shape=(11))\n",
    "    offspring2 = np.zeros(shape=(11))\n",
    "    \n",
    "    offspring1[0:SPLIT_POINT] += parent1[0:SPLIT_POINT]\n",
    "    offspring1[SPLIT_POINT:] += parent2[SPLIT_POINT:]\n",
    "    \n",
    "    offspring2[0:SPLIT_POINT] += parent2[0:SPLIT_POINT]\n",
    "    offspring2[SPLIT_POINT:] += parent1[SPLIT_POINT:]\n",
    "    #for i in range(SPLIT_POINT):\n",
    "    #    offspring1[i] = parent1[i]\n",
    "    #    offspring2[i] = parent2[i]\n",
    "    #for i in range(SPLIT_POINT, 11):\n",
    "    #    offspring1[i] = parent2[i]\n",
    "    #    offspring2[i] = parent1[i]\n",
    "    return offspring1, offspring2\n",
    "\n",
    "def mutate(offspring, mutation_coeff = 0.1): # default 0.1\n",
    "    \n",
    "    p = np.random.uniform(0, 1, size=(11))\n",
    "    a = np.abs(np.floor(np.add(p, -1*mutation_coeff))) # one where p < 0.1 and zero where p > 0.1\n",
    "    b = np.abs(np.ceil(np.add(p, -1*mutation_coeff))) # zero where p < 0.1 and one where p > 0.1\n",
    "    c = np.random.uniform(-10, 10, size=(11))\n",
    "    offspring = offspring*b + a*c\n",
    "    \n",
    "    #for i in range(offspring.size):\n",
    "    #    p = np.random.uniform(0, 1)\n",
    "    #    if p < mutation_coeff:\n",
    "    #        offspring[i] = np.random.uniform(-10, 10)\n",
    "    return offspring\n",
    "\n",
    "#temp_count = 0\n",
    "#offspring_params = np.zeros(shape=(11, POPULATION_SIZE), dtype=float)\n",
    "#while temp_count < POPULATION_SIZE:\n",
    "#    k, l = select_parents(selection_prob)\n",
    "#    print(k, l)\n",
    "#    offspring = cross_over(params[:, k], params[:, l], SPLIT_POINT)\n",
    "#    #print(offspring)\n",
    "#    offspring = mutate(offspring)\n",
    "#    #print(offspring)\n",
    "#    offspring_params[:, temp_count] += offspring[:]\n",
    "#    print(offspring_params)\n",
    "#    temp_count += 1\n",
    "\n"
   ]
  },
  {
   "cell_type": "markdown",
   "metadata": {},
   "source": [
    "-------------------------------------------------------------------------------------------------------------------\n",
    "# Main Loop \n",
    "- Runs 15 generations"
   ]
  },
  {
   "cell_type": "code",
   "execution_count": 39,
   "metadata": {},
   "outputs": [
    {
     "name": "stdout",
     "output_type": "stream",
     "text": [
      "Rank array\n",
      "[ 1  2  3  4  5 11 15  6 16 13  9 14  8 10  7 12]\n",
      "All errors\n",
      "[[13510723304.19212, 368296592820.6967], [13510723304.19212, 368296592820.6967], [13510723304.19212, 368296592820.6967], [13510723304.19212, 368296592820.6967], [13510723304.19212, 368296592820.6967], [9.683553472488518e+30, 1.7567426803114374e+31], [6.055823351322255e+42, 6.1624204077426e+42], [1.460164189979788e+30, 1.2792348071800683e+30], [9.731434114481541e+42, 9.902772114921016e+42], [6.664733461173005e+33, 1.2622227836966264e+34], [1.5104460599890165e+30, 1.3608563359841303e+30], [6.697472070151108e+33, 1.2685678034977673e+34], [1.510446059810453e+30, 1.3608563352222513e+30], [1.5149848848213777e+30, 1.3712350622905875e+30], [1.5104460583900574e+30, 1.3608563327747267e+30], [1.1062642722168612e+32, 2.055967907419501e+32]]\n",
      "Best offspring Gen errors\n",
      "[[1.35107233e+10 3.68296593e+11]\n",
      " [0.00000000e+00 0.00000000e+00]\n",
      " [0.00000000e+00 0.00000000e+00]\n",
      " [0.00000000e+00 0.00000000e+00]]\n",
      "Rank array\n",
      "[ 1  6  9  7  5 12 10 16  4 11  2  3 14 15  8 13]\n",
      "All errors\n",
      "[[13510723304.19212, 368296592820.6967], [3.4024475680852446e+27, 6.596554175373369e+27], [1.4644195157265364e+30, 1.2890034889466253e+30], [4.437603978693259e+27, 8.603481811409436e+27], [3.1252643346650713e+27, 6.059160482118041e+27], [1.5105127120744666e+30, 1.3610087712377606e+30], [1.5104460749905398e+30, 1.3608563557750792e+30], [1.0715971622189125e+41, 1.0904642299639534e+41], [3.1497899750272143e+24, 6.15552876921234e+24], [1.51044608932862e+30, 1.3608563750556974e+30], [13510723304.19212, 368296592820.6967], [13502202777.918976, 368367618930.5187], [1.5173680813223082e+31, 2.908918898481647e+31], [6.341731099073897e+33, 1.1997764849737704e+34], [1.4601641402120245e+30, 1.2792347402715518e+30], [1.5149848740830924e+30, 1.3712350485579275e+30]]\n",
      "Best offspring Gen errors\n",
      "[[1.35107233e+10 3.68296593e+11]\n",
      " [1.35107233e+10 3.68296593e+11]\n",
      " [0.00000000e+00 0.00000000e+00]\n",
      " [0.00000000e+00 0.00000000e+00]]\n",
      "Rank array\n",
      "[ 8 15 14  6  7  4  2 16 13  5 11 12  9  3 10  1]\n",
      "All errors\n",
      "[[1.5104460599890146e+30, 1.3608563359839698e+30], [1.0736089921276877e+42, 1.0925114799414315e+42], [4.013345200811782e+34, 7.592748924276283e+34], [1.4601641531803113e+30, 1.2792347576567434e+30], [1.4644195157265364e+30, 1.2890034889466253e+30], [4.5472807166744684e+27, 8.829903309650183e+27], [3.1497496148868413e+24, 6.155437145344546e+24], [2.96441609759645e+42, 3.0166090683412516e+42], [2.724947080134512e+34, 5.155260256997387e+34], [1.345645929148472e+30, 1.0951027485821681e+30], [4.202963993155716e+31, 8.028765844557996e+31], [6.000974902792259e+32, 1.1352170655269661e+33], [1.5104460599890165e+30, 1.3608563359841303e+30], [3.149749615470375e+24, 6.155437146447631e+24], [1.51044608932862e+30, 1.3608563750556974e+30], [13510723304.19212, 368296592820.6967]]\n",
      "Best offspring Gen errors\n",
      "[[1.35107233e+10 3.68296593e+11]\n",
      " [1.35107233e+10 3.68296593e+11]\n",
      " [1.35107233e+10 3.68296593e+11]\n",
      " [0.00000000e+00 0.00000000e+00]]\n",
      "Rank array\n",
      "[ 7  3 13 11 10  9  1 14  6 15 16 12  2  5  8  4]\n",
      "All errors\n",
      "[[1.510446089314812e+30, 1.3608563750406956e+30], [1.460164117903369e+30, 1.279234711115692e+30], [2.4993780701116762e+41, 2.5433059393179864e+41], [2.724947080120742e+34, 5.155260256970847e+34], [2.528574222050125e+34, 4.783752448424841e+34], [1.5104460893286322e+30, 1.3608563750561233e+30], [2.862166763949496e+24, 5.593428257788513e+24], [3.682378762503634e+42, 3.747213506943551e+42], [1.4644195157265364e+30, 1.2890034889466253e+30], [1.1243973342249098e+43, 1.1441940278194214e+43], [2.462865400274258e+43, 2.5062280640975713e+43], [3.6053898656210433e+34, 6.820929914744213e+34], [3.1497496336622173e+24, 6.155437191375968e+24], [1.4640531981606585e+30, 1.288162837521506e+30], [1.5104460893286294e+30, 1.360856375056121e+30], [1.4601641245247063e+30, 1.2792347199215386e+30]]\n",
      "Best offspring Gen errors\n",
      "[[1.35107233e+10 3.68296593e+11]\n",
      " [1.35107233e+10 3.68296593e+11]\n",
      " [1.35107233e+10 3.68296593e+11]\n",
      " [2.86216676e+24 5.59342826e+24]]\n"
     ]
    }
   ],
   "source": [
    "NO_OF_GENERATIONS = 4\n",
    "generation_errors = np.zeros(shape=(NO_OF_GENERATIONS, 2), dtype=float)\n",
    "#np.copyto(params, init_params)\n",
    "\n",
    "target_directory = \"Results/2-27/run4\"\n",
    "mkdir_p(target_directory)\n",
    "f = open(\"{}/params.txt\".format(target_directory), \"w\")\n",
    "f.write(\"Run 3 of 27th feb is continued, we started with the final parameters of previous run i.e. run4 and simulated x more generations where x =\\n\" + str(NO_OF_GENERATIONS) + \"\\n\")\n",
    "f.write(\"5 of the entities of previus run are replaced by overfit params to guide it towards lower error values\\n\")\n",
    "f.write(\"No of generations: \" + str(NO_OF_GENERATIONS) + \"\\n\")\n",
    "f.write(\"Population size: \" + str(POPULATION_SIZE) + \"\\n\")\n",
    "f.write(\"Mutation coefficient: \" + str(MUTATION_COEFF) + \"\\n\")\n",
    "f.write(\"Split point: \" + str(SPLIT_POINT) + \"\\n\")\n",
    "f.write(\"One offspring per pair\\n\")\n",
    "\n",
    "for i in range(NO_OF_GENERATIONS):\n",
    "    train_validation_errors = None\n",
    "    fitness_score_array = None\n",
    "    rank_array = None\n",
    "    # fitness\n",
    "    train_validation_errors = get_train_validation_errors(SECRET_KEY, POPULATION_SIZE, params)\n",
    "    fitness_score_array = fitness(np.array(train_validation_errors))\n",
    "    rank_array, selection_prob = get_rank_and_probabilities(fitness_score_array)\n",
    "    f.write(\"Population:\\n\")\n",
    "    f.write(str(params))\n",
    "    f.write(\"\\nTrain validation errors\\n\")\n",
    "    f.write(str(train_validation_errors))\n",
    "    f.write('\\n')\n",
    "    for j in range(POPULATION_SIZE):\n",
    "        if rank_array[j]==1:\n",
    "            generation_errors[i, :] += train_validation_errors[j]\n",
    "    print(\"Rank array\")\n",
    "    print(rank_array)\n",
    "    print(\"All errors\")\n",
    "    print(train_validation_errors)\n",
    "    print(\"Best offspring Gen errors\")\n",
    "    print(generation_errors)\n",
    "    # crossover and mutation\n",
    "    temp_count = 0\n",
    "    offspring_params = np.zeros(shape=(11, POPULATION_SIZE), dtype=float)\n",
    "    while temp_count < POPULATION_SIZE:\n",
    "        k, l = select_parents(selection_prob)\n",
    "        #print(k, l)\n",
    "        offspring1, offspring2 = cross_over(params[:, k], params[:, l], SPLIT_POINT)\n",
    "        #print(offspring)\n",
    "        offspring1 = mutate(offspring1)\n",
    "        offspring2 = mutate(offspring2)\n",
    "        #print(offspring)\n",
    "        offspring_params[:, temp_count] += offspring1[:]\n",
    "        offspring_params[:, temp_count+1] += offspring2[:]\n",
    "        #print(offspring_params)\n",
    "        temp_count += 2\n",
    "    #print(\"Errors\")\n",
    "    #print(generation_errors)\n",
    "    #print(\"params\")\n",
    "    #print(offspring_params)\n",
    "    np.copyto(params, offspring_params)\n",
    "\n",
    "f.close()\n",
    "    "
   ]
  },
  {
   "cell_type": "code",
   "execution_count": 40,
   "metadata": {},
   "outputs": [
    {
     "name": "stderr",
     "output_type": "stream",
     "text": [
      "<ipython-input-40-cd0875001894>:11: UserWarning: Matplotlib is currently using module://ipykernel.pylab.backend_inline, which is a non-GUI backend, so cannot show the figure.\n",
      "  fig.show()\n"
     ]
    },
    {
     "data": {
      "image/png": "[encoded data removed]",
      "text/plain": [
       "<Figure size 432x288 with 1 Axes>"
      ]
     },
     "metadata": {
      "needs_background": "light"
     },
     "output_type": "display_data"
    }
   ],
   "source": [
    "fig, ax = plt.subplots() # Create a figure and an axis\n",
    "generation = [i+1 for i in range(NO_OF_GENERATIONS)]\n",
    "ax.plot(generation, generation_errors[:, 0], label='Train Error vs generation')\n",
    "ax.plot(generation, generation_errors[:, 1], label='Validation Error vs generation')\n",
    "#ax.plot(x_ax, y_ax, label='Simulated Data')\n",
    "ax.set_xlabel('Generation')\n",
    "ax.set_ylabel('Error')\n",
    "ax.set_title('First two initial parents are init_overfit_params')\n",
    "ax.legend()  # Add a legend\n",
    "fig.savefig(\"{}/plot.png\".format(target_directory))\n",
    "fig.show()\n"
   ]
  },
  {
   "cell_type": "markdown",
   "metadata": {},
   "source": [
    "# Trial stuff"
   ]
  },
  {
   "cell_type": "code",
   "execution_count": 12,
   "metadata": {},
   "outputs": [
    {
     "data": {
      "text/plain": [
       "array([[1.35107233e+10, 3.68296593e+11],\n",
       "       [3.37182736e+34, 6.37414206e+34],\n",
       "       [3.10780756e+32, 5.81879303e+32],\n",
       "       [3.10780756e+32, 5.81879303e+32],\n",
       "       [3.10124168e+32, 5.80629000e+32],\n",
       "       [3.04613166e+32, 5.70133631e+32],\n",
       "       [2.04862624e+30, 2.74664952e+30],\n",
       "       [1.00727457e+31, 1.83541598e+31],\n",
       "       [1.00727457e+31, 1.83541599e+31],\n",
       "       [1.00727458e+31, 1.83541601e+31],\n",
       "       [1.00727457e+31, 1.83541599e+31],\n",
       "       [1.00727458e+31, 1.83541601e+31],\n",
       "       [1.00842328e+31, 1.83772915e+31],\n",
       "       [2.13366646e+30, 2.75843713e+30],\n",
       "       [2.13366646e+30, 2.75843713e+30]])"
      ]
     },
     "execution_count": 12,
     "metadata": {},
     "output_type": "execute_result"
    }
   ],
   "source": [
    "generation_errors"
   ]
  },
  {
   "cell_type": "code",
   "execution_count": 13,
   "metadata": {},
   "outputs": [
    {
     "name": "stdout",
     "output_type": "stream",
     "text": [
      "[13510723304.19212, 368296592820.6967]\n"
     ]
    }
   ],
   "source": [
    "print(get_errors(SECRET_KEY, list(init_overfit_params)))"
   ]
  },
  {
   "cell_type": "code",
   "execution_count": 14,
   "metadata": {},
   "outputs": [
    {
     "data": {
      "text/plain": [
       "array([ 4, 11, 12, 10, 16,  6,  2,  7,  8,  5, 14,  1,  9, 13,  3, 15])"
      ]
     },
     "execution_count": 14,
     "metadata": {},
     "output_type": "execute_result"
    }
   ],
   "source": [
    "rank_array"
   ]
  },
  {
   "cell_type": "code",
   "execution_count": 15,
   "metadata": {},
   "outputs": [
    {
     "data": {
      "text/plain": [
       "array([0.09558824, 0.04411765, 0.03676471, 0.05147059, 0.00735294,\n",
       "       0.08088235, 0.11029412, 0.07352941, 0.06617647, 0.08823529,\n",
       "       0.02205882, 0.11764706, 0.05882353, 0.02941176, 0.10294118,\n",
       "       0.01470588])"
      ]
     },
     "execution_count": 15,
     "metadata": {},
     "output_type": "execute_result"
    }
   ],
   "source": [
    "selection_prob"
   ]
  },
  {
   "cell_type": "code",
   "execution_count": 16,
   "metadata": {},
   "outputs": [
    {
     "name": "stdout",
     "output_type": "stream",
     "text": [
      "[1. 2. 3. 4. 5. 6. 7. 3. 2. 1.]\n"
     ]
    }
   ],
   "source": [
    "import numpy as np\n",
    "a1 = np.zeros(shape = 10)\n",
    "SPLIT_POINT = 7\n",
    "a2 = np.array([1, 2, 3, 4, 5, 6, 7, 8, 9, 10])\n",
    "a3 = np.array([10, 9, 8, 7, 6, 5, 4, 3, 2, 1])\n",
    "a1[0:SPLIT_POINT] += a2[0:SPLIT_POINT]\n",
    "a1[SPLIT_POINT:] += a3[SPLIT_POINT:]\n",
    "print(a1)"
   ]
  },
  {
   "cell_type": "code",
   "execution_count": 17,
   "metadata": {},
   "outputs": [
    {
     "name": "stdout",
     "output_type": "stream",
     "text": [
      "e =  [0. 0. 0. 0. 1. 0. 0. 0. 0. 1. 0.]\n",
      "\n",
      "d =  [0 0 0 0 1 0 0 0 0 1 0]\n",
      "\n",
      "a =  [0.5242902  0.73552025 0.88957605 0.60947523 0.04809657 0.43750904\n",
      " 0.19592095 0.4108131  0.66091439 0.08258129 0.47055131]\n",
      "\n",
      "b =  [1, 1, 1, 1, 0, 1, 1, 1, 1, 0, 1]\n",
      "\n",
      "c =  [ 7.97295934 -1.91293708  4.06935603  9.45718827 -3.34071781  0.52996116\n",
      "  0.66255001  1.11538707  6.45088374 -6.49380424 -4.78740909]\n"
     ]
    }
   ],
   "source": [
    "a = np.random.uniform(0, 1, size=(11))\n",
    "b = [ 0 if a[i] < 0.1 else 1 for i in range(a.size)]\n",
    "c = np.random.uniform(-10, 10, size=(11))\n",
    "d = abs(np.add(b, -1))\n",
    "e = abs(np.floor(np.add(a, -0.1)))\n",
    "print(\"e = \", e)\n",
    "print(\"\\nd = \",d)\n",
    "print(\"\\na = \",a)\n",
    "print(\"\\nb = \",b)\n",
    "print(\"\\nc = \",c)"
   ]
  },
  {
   "cell_type": "code",
   "execution_count": 18,
   "metadata": {},
   "outputs": [
    {
     "data": {
      "text/plain": [
       "11"
      ]
     },
     "execution_count": 18,
     "metadata": {},
     "output_type": "execute_result"
    }
   ],
   "source": [
    "a = np.random.uniform(0, 1, size=(11))\n",
    "a.size"
   ]
  },
  {
   "cell_type": "code",
   "execution_count": 19,
   "metadata": {},
   "outputs": [
    {
     "name": "stdout",
     "output_type": "stream",
     "text": [
      "Offspring =  [ 1.         -7.5849801   3.          4.          1.8278154   6.\n",
      " -9.25369459  8.         -5.21561757 10.         11.        ]\n",
      "\n",
      "a =  [0. 1. 0. 0. 1. 0. 1. 0. 1. 0. 0.]\n",
      "\n",
      "b =  [1. 0. 1. 1. 0. 1. 0. 1. 0. 1. 1.]\n",
      "\n",
      "c =  [ 8.25118556 -7.5849801   1.69441102  0.05506021  1.8278154  -0.79780201\n",
      " -9.25369459  4.83009976 -5.21561757 -8.64713204  6.71551117]\n",
      "\n",
      "p =  [0.27340854 0.08329743 0.84736368 0.60394884 0.01700599 0.95517894\n",
      " 0.04820006 0.81837796 0.04375436 0.88324151 0.73006303]\n",
      "[ 0.12340854 -0.06670257  0.69736368  0.45394884 -0.13299401  0.80517894\n",
      " -0.10179994  0.66837796 -0.10624564  0.73324151  0.58006303]\n",
      "[ 0. -1.  0.  0. -1.  0. -1.  0. -1.  0.  0.]\n"
     ]
    }
   ],
   "source": [
    "mutation_coeff = 0.15\n",
    "offspring = np.array([1, 2, 3, 4, 5, 6, 7, 8, 9, 10, 11])\n",
    "p = np.random.uniform(0, 1, size=(11))\n",
    "a = np.abs(np.floor(np.add(p, -1*mutation_coeff))) # one where p < 0.1 and zero where p > 0.1\n",
    "b = np.abs(np.ceil(np.add(p, -1*mutation_coeff))) # zero where p < 0.1 and one where p > 0.1\n",
    "c = np.random.uniform(-10, 10, size=(11))\n",
    "offspring = offspring*b + a*c\n",
    "print(\"Offspring = \", offspring)\n",
    "print(\"\\na = \", a)\n",
    "print(\"\\nb = \", b)\n",
    "print(\"\\nc = \", c)\n",
    "print(\"\\np = \", p)\n",
    "print(np.add(p, -1*mutation_coeff))\n",
    "print(np.floor(np.add(p, -1*mutation_coeff)))"
   ]
  },
  {
   "cell_type": "code",
   "execution_count": 25,
   "metadata": {},
   "outputs": [
    {
     "name": "stdout",
     "output_type": "stream",
     "text": [
      "[[2.1345479604607682e+30, 2.760331028931383e+30]]\n"
     ]
    }
   ],
   "source": [
    "a = [get_errors(SECRET_KEY, list(params[:, i])) for i in range(1)]\n",
    "print(a)"
   ]
  },
  {
   "cell_type": "code",
   "execution_count": null,
   "metadata": {},
   "outputs": [],
   "source": []
  },
  {
   "cell_type": "code",
   "execution_count": null,
   "metadata": {},
   "outputs": [],
   "source": [
    "fig, ax = plt.subplots() # Create a figure and an axis\n",
    "generation = [i+1 for i in range(NO_OF_GENERATIONS)]\n",
    "ax.plot(generation, generation_errors[:, 0], label='Train Error vs generation')\n",
    "ax.plot(generation, generation_errors[:, 1], label='Validation Error vs generation')\n",
    "#ax.plot(x_ax, y_ax, label='Simulated Data')\n",
    "ax.set_xlabel('Generation')\n",
    "ax.set_ylabel('Error')\n",
    "ax.set_title('First two initial parents are init_overfit_params')\n",
    "ax.legend()  # Add a legend\n",
    "fig.savefig(\"{}/plot.png\".format(target_directory))\n",
    "fig.show()"
   ]
  },
  {
   "cell_type": "code",
   "execution_count": null,
   "metadata": {},
   "outputs": [],
   "source": []
  },
  {
   "cell_type": "code",
   "execution_count": 24,
   "metadata": {},
   "outputs": [],
   "source": [
    "import numpy as np\n",
    "params = [[-8.74485669e+00, -8.74485669e+00,  3.46038957e+00, -8.74485669e+00,\n",
    "  -8.74485669e+00, -8.74485669e+00, -8.74485669e+00,  3.46038957e+00,\n",
    "   2.64597373e+00, -8.74485669e+00, -8.74485669e+00, -5.80001796e+00,\n",
    "   0.00000000e+00, -8.74485669e+00, -8.74485669e+00, -8.74485669e+00],\n",
    " [-4.15640563e+00,  1.31295706e+00,  1.31295706e+00,  1.31295706e+00,\n",
    "   1.31295706e+00,  1.31295706e+00, -3.59864267e+00,  1.31295706e+00,\n",
    "   5.19044719e-01,  1.31295706e+00,  1.31295706e+00,  1.31295706e+00,\n",
    "   5.56594346e+00,  6.26560671e+00,  1.31295706e+00,  1.31295706e+00],\n",
    " [-3.60174890e+00, -2.28980078e-13, -5.55743653e-01, -2.28980078e-13,\n",
    "  -4.17747591e+00, -3.60174890e+00, -2.28980078e-13, -5.55743653e-01,\n",
    "   4.64650455e+00, -9.31067115e+00, -4.17747591e+00, -2.28980078e-13,\n",
    "  -1.20066499e+00,  8.71572476e+00, -3.60174890e+00, -3.60174890e+00],\n",
    " [ 1.38148450e+00,  4.62010753e-11,  4.62010753e-11,  4.62010753e-11,\n",
    "  -7.90766168e+00,  1.38148450e+00,  4.62010753e-11,  4.62010753e-11,\n",
    "   5.03431610e+00,  4.62010753e-11, -7.90766168e+00,  4.62010753e-11,\n",
    "   4.39337049e-01,  5.05709547e+00,  1.38148450e+00, -8.79295153e+00],\n",
    " [-1.88546788e+00, -8.00473915e+00, -1.91158459e+00, -4.31290135e+00,\n",
    "  -8.00473915e+00,  9.78825473e+00, -7.42246836e+00, -1.91158459e+00,\n",
    "   7.35199847e-01, -8.00473915e+00, -8.00473915e+00, -4.31290135e+00,\n",
    "  -4.52779373e+00, -3.21893316e+00, -1.88546788e+00, -1.88546788e+00],\n",
    " [-3.64414913e+00, -5.70986042e-01, -1.83669770e-15, -1.83669770e-15,\n",
    "  -1.83669770e-15, -1.83669770e-15, -1.83669770e-15, -1.83669770e-15,\n",
    "  -1.83669770e-15, -1.83669770e-15, -1.83669770e-15, -1.83669770e-15,\n",
    "  -1.83669770e-15, -1.83669770e-15, -1.83669770e-15,  9.70093900e+00],\n",
    " [ 2.53774343e+00, -4.74660004e-01, -7.63700468e+00, -4.74660004e-01,\n",
    "  -4.74660004e-01,  3.98864643e+00,  1.22647537e+00, -1.27893349e+00,\n",
    "   2.43517766e+00, -4.74660004e-01, -7.90185971e+00, -4.74660004e-01,\n",
    "   8.52944060e-16,  2.46045238e-01,  4.07946554e+00,  3.98864643e+00],\n",
    " [ 1.04351481e+00, -6.60139427e+00, -9.13226576e+00,  1.04351481e+00,\n",
    "  -4.44403468e+00, -2.38232136e+00,  1.04351481e+00, -9.13226576e+00,\n",
    "   1.04351481e+00,  8.40433643e-01, -9.13226576e+00,  1.04351481e+00,\n",
    "  -9.13226576e+00, -9.13226576e+00, -9.13226576e+00, -9.13226576e+00],\n",
    " [-2.72563201e+00,  9.58159542e+00, -8.88877955e+00,  7.05325044e+00,\n",
    "   1.03670286e+00, -8.88877955e+00, -8.88877955e+00,  6.21293629e+00,\n",
    "  -8.88877955e+00,  6.75272245e+00, -8.88877955e+00, -8.88877955e+00,\n",
    "  -8.88877955e+00, -8.88877955e+00, -3.36635965e+00, -8.88877955e+00],\n",
    " [-8.26738089e+00, -8.26738089e+00, -8.26738089e+00, -8.26738089e+00,\n",
    "  -8.26738089e+00, -6.08722812e+00, -8.26738089e+00, -8.26738089e+00,\n",
    "  -8.26738089e+00, -8.26738089e+00, -8.26738089e+00, -8.26738089e+00,\n",
    "  -8.26738089e+00,  7.93598041e+00, -8.26738089e+00, -8.26738089e+00],\n",
    " [-4.64762473e+00,  2.31606693e-01,  2.31606693e-01,  2.31606693e-01,\n",
    "   2.31606693e-01, -1.34859912e-02,  2.31606693e-01,  2.31606693e-01,\n",
    "   2.31606693e-01,  2.31606693e-01, 2.31606693e-01, -1.34859912e-02,\n",
    "   2.31606693e-01,  2.31606693e-01,  2.31606693e-01,  3.33848194e+00]]"
   ]
  },
  {
   "cell_type": "code",
   "execution_count": 25,
   "metadata": {},
   "outputs": [
    {
     "data": {
      "text/plain": [
       "[[-8.74485669,\n",
       "  -8.74485669,\n",
       "  3.46038957,\n",
       "  -8.74485669,\n",
       "  -8.74485669,\n",
       "  -8.74485669,\n",
       "  -8.74485669,\n",
       "  3.46038957,\n",
       "  2.64597373,\n",
       "  -8.74485669,\n",
       "  -8.74485669,\n",
       "  -5.80001796,\n",
       "  0.0,\n",
       "  -8.74485669,\n",
       "  -8.74485669,\n",
       "  -8.74485669],\n",
       " [-4.15640563,\n",
       "  1.31295706,\n",
       "  1.31295706,\n",
       "  1.31295706,\n",
       "  1.31295706,\n",
       "  1.31295706,\n",
       "  -3.59864267,\n",
       "  1.31295706,\n",
       "  0.519044719,\n",
       "  1.31295706,\n",
       "  1.31295706,\n",
       "  1.31295706,\n",
       "  5.56594346,\n",
       "  6.26560671,\n",
       "  1.31295706,\n",
       "  1.31295706],\n",
       " [-3.6017489,\n",
       "  -2.28980078e-13,\n",
       "  -0.555743653,\n",
       "  -2.28980078e-13,\n",
       "  -4.17747591,\n",
       "  -3.6017489,\n",
       "  -2.28980078e-13,\n",
       "  -0.555743653,\n",
       "  4.64650455,\n",
       "  -9.31067115,\n",
       "  -4.17747591,\n",
       "  -2.28980078e-13,\n",
       "  -1.20066499,\n",
       "  8.71572476,\n",
       "  -3.6017489,\n",
       "  -3.6017489],\n",
       " [1.3814845,\n",
       "  4.62010753e-11,\n",
       "  4.62010753e-11,\n",
       "  4.62010753e-11,\n",
       "  -7.90766168,\n",
       "  1.3814845,\n",
       "  4.62010753e-11,\n",
       "  4.62010753e-11,\n",
       "  5.0343161,\n",
       "  4.62010753e-11,\n",
       "  -7.90766168,\n",
       "  4.62010753e-11,\n",
       "  0.439337049,\n",
       "  5.05709547,\n",
       "  1.3814845,\n",
       "  -8.79295153],\n",
       " [-1.88546788,\n",
       "  -8.00473915,\n",
       "  -1.91158459,\n",
       "  -4.31290135,\n",
       "  -8.00473915,\n",
       "  9.78825473,\n",
       "  -7.42246836,\n",
       "  -1.91158459,\n",
       "  0.735199847,\n",
       "  -8.00473915,\n",
       "  -8.00473915,\n",
       "  -4.31290135,\n",
       "  -4.52779373,\n",
       "  -3.21893316,\n",
       "  -1.88546788,\n",
       "  -1.88546788],\n",
       " [-3.64414913,\n",
       "  -0.570986042,\n",
       "  -1.8366977e-15,\n",
       "  -1.8366977e-15,\n",
       "  -1.8366977e-15,\n",
       "  -1.8366977e-15,\n",
       "  -1.8366977e-15,\n",
       "  -1.8366977e-15,\n",
       "  -1.8366977e-15,\n",
       "  -1.8366977e-15,\n",
       "  -1.8366977e-15,\n",
       "  -1.8366977e-15,\n",
       "  -1.8366977e-15,\n",
       "  -1.8366977e-15,\n",
       "  -1.8366977e-15,\n",
       "  9.700939],\n",
       " [2.53774343,\n",
       "  -0.474660004,\n",
       "  -7.63700468,\n",
       "  -0.474660004,\n",
       "  -0.474660004,\n",
       "  3.98864643,\n",
       "  1.22647537,\n",
       "  -1.27893349,\n",
       "  2.43517766,\n",
       "  -0.474660004,\n",
       "  -7.90185971,\n",
       "  -0.474660004,\n",
       "  8.5294406e-16,\n",
       "  0.246045238,\n",
       "  4.07946554,\n",
       "  3.98864643],\n",
       " [1.04351481,\n",
       "  -6.60139427,\n",
       "  -9.13226576,\n",
       "  1.04351481,\n",
       "  -4.44403468,\n",
       "  -2.38232136,\n",
       "  1.04351481,\n",
       "  -9.13226576,\n",
       "  1.04351481,\n",
       "  0.840433643,\n",
       "  -9.13226576,\n",
       "  1.04351481,\n",
       "  -9.13226576,\n",
       "  -9.13226576,\n",
       "  -9.13226576,\n",
       "  -9.13226576],\n",
       " [-2.72563201,\n",
       "  9.58159542,\n",
       "  -8.88877955,\n",
       "  7.05325044,\n",
       "  1.03670286,\n",
       "  -8.88877955,\n",
       "  -8.88877955,\n",
       "  6.21293629,\n",
       "  -8.88877955,\n",
       "  6.75272245,\n",
       "  -8.88877955,\n",
       "  -8.88877955,\n",
       "  -8.88877955,\n",
       "  -8.88877955,\n",
       "  -3.36635965,\n",
       "  -8.88877955],\n",
       " [-8.26738089,\n",
       "  -8.26738089,\n",
       "  -8.26738089,\n",
       "  -8.26738089,\n",
       "  -8.26738089,\n",
       "  -6.08722812,\n",
       "  -8.26738089,\n",
       "  -8.26738089,\n",
       "  -8.26738089,\n",
       "  -8.26738089,\n",
       "  -8.26738089,\n",
       "  -8.26738089,\n",
       "  -8.26738089,\n",
       "  7.93598041,\n",
       "  -8.26738089,\n",
       "  -8.26738089],\n",
       " [-4.64762473,\n",
       "  0.231606693,\n",
       "  0.231606693,\n",
       "  0.231606693,\n",
       "  0.231606693,\n",
       "  -0.0134859912,\n",
       "  0.231606693,\n",
       "  0.231606693,\n",
       "  0.231606693,\n",
       "  0.231606693,\n",
       "  0.231606693,\n",
       "  -0.0134859912,\n",
       "  0.231606693,\n",
       "  0.231606693,\n",
       "  0.231606693,\n",
       "  3.33848194]]"
      ]
     },
     "execution_count": 25,
     "metadata": {},
     "output_type": "execute_result"
    }
   ],
   "source": [
    "list(params)"
   ]
  },
  {
   "cell_type": "code",
   "execution_count": 26,
   "metadata": {},
   "outputs": [],
   "source": [
    "params = np.array(params)"
   ]
  },
  {
   "cell_type": "code",
   "execution_count": 27,
   "metadata": {},
   "outputs": [
    {
     "data": {
      "text/plain": [
       "array([[-8.74485669e+00, -8.74485669e+00,  3.46038957e+00,\n",
       "        -8.74485669e+00, -8.74485669e+00, -8.74485669e+00,\n",
       "        -8.74485669e+00,  3.46038957e+00,  2.64597373e+00,\n",
       "        -8.74485669e+00, -8.74485669e+00, -5.80001796e+00,\n",
       "         0.00000000e+00, -8.74485669e+00, -8.74485669e+00,\n",
       "        -8.74485669e+00],\n",
       "       [-4.15640563e+00,  1.31295706e+00,  1.31295706e+00,\n",
       "         1.31295706e+00,  1.31295706e+00,  1.31295706e+00,\n",
       "        -3.59864267e+00,  1.31295706e+00,  5.19044719e-01,\n",
       "         1.31295706e+00,  1.31295706e+00,  1.31295706e+00,\n",
       "         5.56594346e+00,  6.26560671e+00,  1.31295706e+00,\n",
       "         1.31295706e+00],\n",
       "       [-3.60174890e+00, -2.28980078e-13, -5.55743653e-01,\n",
       "        -2.28980078e-13, -4.17747591e+00, -3.60174890e+00,\n",
       "        -2.28980078e-13, -5.55743653e-01,  4.64650455e+00,\n",
       "        -9.31067115e+00, -4.17747591e+00, -2.28980078e-13,\n",
       "        -1.20066499e+00,  8.71572476e+00, -3.60174890e+00,\n",
       "        -3.60174890e+00],\n",
       "       [ 1.38148450e+00,  4.62010753e-11,  4.62010753e-11,\n",
       "         4.62010753e-11, -7.90766168e+00,  1.38148450e+00,\n",
       "         4.62010753e-11,  4.62010753e-11,  5.03431610e+00,\n",
       "         4.62010753e-11, -7.90766168e+00,  4.62010753e-11,\n",
       "         4.39337049e-01,  5.05709547e+00,  1.38148450e+00,\n",
       "        -8.79295153e+00],\n",
       "       [-1.88546788e+00, -8.00473915e+00, -1.91158459e+00,\n",
       "        -4.31290135e+00, -8.00473915e+00,  9.78825473e+00,\n",
       "        -7.42246836e+00, -1.91158459e+00,  7.35199847e-01,\n",
       "        -8.00473915e+00, -8.00473915e+00, -4.31290135e+00,\n",
       "        -4.52779373e+00, -3.21893316e+00, -1.88546788e+00,\n",
       "        -1.88546788e+00],\n",
       "       [-3.64414913e+00, -5.70986042e-01, -1.83669770e-15,\n",
       "        -1.83669770e-15, -1.83669770e-15, -1.83669770e-15,\n",
       "        -1.83669770e-15, -1.83669770e-15, -1.83669770e-15,\n",
       "        -1.83669770e-15, -1.83669770e-15, -1.83669770e-15,\n",
       "        -1.83669770e-15, -1.83669770e-15, -1.83669770e-15,\n",
       "         9.70093900e+00],\n",
       "       [ 2.53774343e+00, -4.74660004e-01, -7.63700468e+00,\n",
       "        -4.74660004e-01, -4.74660004e-01,  3.98864643e+00,\n",
       "         1.22647537e+00, -1.27893349e+00,  2.43517766e+00,\n",
       "        -4.74660004e-01, -7.90185971e+00, -4.74660004e-01,\n",
       "         8.52944060e-16,  2.46045238e-01,  4.07946554e+00,\n",
       "         3.98864643e+00],\n",
       "       [ 1.04351481e+00, -6.60139427e+00, -9.13226576e+00,\n",
       "         1.04351481e+00, -4.44403468e+00, -2.38232136e+00,\n",
       "         1.04351481e+00, -9.13226576e+00,  1.04351481e+00,\n",
       "         8.40433643e-01, -9.13226576e+00,  1.04351481e+00,\n",
       "        -9.13226576e+00, -9.13226576e+00, -9.13226576e+00,\n",
       "        -9.13226576e+00],\n",
       "       [-2.72563201e+00,  9.58159542e+00, -8.88877955e+00,\n",
       "         7.05325044e+00,  1.03670286e+00, -8.88877955e+00,\n",
       "        -8.88877955e+00,  6.21293629e+00, -8.88877955e+00,\n",
       "         6.75272245e+00, -8.88877955e+00, -8.88877955e+00,\n",
       "        -8.88877955e+00, -8.88877955e+00, -3.36635965e+00,\n",
       "        -8.88877955e+00],\n",
       "       [-8.26738089e+00, -8.26738089e+00, -8.26738089e+00,\n",
       "        -8.26738089e+00, -8.26738089e+00, -6.08722812e+00,\n",
       "        -8.26738089e+00, -8.26738089e+00, -8.26738089e+00,\n",
       "        -8.26738089e+00, -8.26738089e+00, -8.26738089e+00,\n",
       "        -8.26738089e+00,  7.93598041e+00, -8.26738089e+00,\n",
       "        -8.26738089e+00],\n",
       "       [-4.64762473e+00,  2.31606693e-01,  2.31606693e-01,\n",
       "         2.31606693e-01,  2.31606693e-01, -1.34859912e-02,\n",
       "         2.31606693e-01,  2.31606693e-01,  2.31606693e-01,\n",
       "         2.31606693e-01,  2.31606693e-01, -1.34859912e-02,\n",
       "         2.31606693e-01,  2.31606693e-01,  2.31606693e-01,\n",
       "         3.33848194e+00]])"
      ]
     },
     "execution_count": 27,
     "metadata": {},
     "output_type": "execute_result"
    }
   ],
   "source": [
    "params"
   ]
  },
  {
   "cell_type": "code",
   "execution_count": 4,
   "metadata": {},
   "outputs": [
    {
     "name": "stdout",
     "output_type": "stream",
     "text": [
      "[0.0, -1.45799022e-12, -2.28980078e-13, 4.62010753e-11, -1.75214813e-10, -1.8366977e-15, 8.5294406e-16, 2.29423303e-05, -2.04721003e-06, -1.59792834e-08, 9.98214034e-10]\n"
     ]
    }
   ],
   "source": [
    "from io import StringIO\n",
    "import numpy as np\n",
    "file = open(\"overfit.txt\", \"r\")\n",
    "line = file.read()\n",
    "# Create a string which does not contain '[' and ']'\n",
    "str1 = ''\n",
    "for i in line:\n",
    "    if i=='[' or i==']':\n",
    "        continue\n",
    "    str1 += i\n",
    "str1 = StringIO(str1)\n",
    "# Extracting the parameters from the string and putting them in a list\n",
    "init_overfit_params = list(np.loadtxt(str1, dtype=float, delimiter=',')) \n",
    "print(init_overfit_params)"
   ]
  },
  {
   "cell_type": "code",
   "execution_count": 30,
   "metadata": {},
   "outputs": [
    {
     "name": "stdout",
     "output_type": "stream",
     "text": [
      "Params -------------------------------------\n",
      "\n",
      "[[ 0.00000000e+00  0.00000000e+00  0.00000000e+00  0.00000000e+00]\n",
      " [-1.45799022e-12 -1.45799022e-12 -1.45799022e-12 -1.45799022e-12]\n",
      " [-2.28980078e-13 -2.28980078e-13 -2.28980078e-13 -2.28980078e-13]\n",
      " [ 4.62010753e-11  4.62010753e-11  4.62010753e-11  4.62010753e-11]\n",
      " [-1.75214813e-10 -1.75214813e-10 -1.75214813e-10 -1.75214813e-10]\n",
      " [-1.83669770e-15 -1.83669770e-15 -1.83669770e-15 -1.83669770e-15]\n",
      " [ 8.52944060e-16  8.52944060e-16  8.52944060e-16  8.52944060e-16]\n",
      " [ 2.29423303e-05  2.29423303e-05  2.29423303e-05  2.29423303e-05]\n",
      " [-2.04721003e-06 -2.04721003e-06 -2.04721003e-06 -2.04721003e-06]\n",
      " [-1.59792834e-08 -1.59792834e-08 -1.59792834e-08 -1.59792834e-08]\n",
      " [ 9.98214034e-10  9.98214034e-10  9.98214034e-10  9.98214034e-10]]\n",
      "[[ 0.00000000e+00  0.00000000e+00  0.00000000e+00  0.00000000e+00]\n",
      " [ 6.27937040e+00 -1.45799022e-12 -1.45799022e-12 -9.75835723e+00]\n",
      " [-2.28980078e-13 -2.28980078e-13 -2.17347038e+00 -2.28980078e-13]\n",
      " [ 4.62010753e-11  4.62010753e-11  4.62010753e-11  4.62010753e-11]\n",
      " [-1.75214813e-10 -1.75214813e-10 -1.75214813e-10 -1.75214813e-10]\n",
      " [-1.83669770e-15 -1.83669770e-15 -1.83669770e-15 -1.83669770e-15]\n",
      " [ 8.52944060e-16  8.52944060e-16  8.52944060e-16  8.52944060e-16]\n",
      " [ 2.29423303e-05  2.29423303e-05  2.29423303e-05  2.29423303e-05]\n",
      " [-2.04721003e-06 -2.04721003e-06 -2.04721003e-06 -2.04721003e-06]\n",
      " [-1.59792834e-08 -1.59792834e-08 -1.59792834e-08 -1.59792834e-08]\n",
      " [ 9.98214034e-10 -6.41889788e+00  9.98214034e-10  8.64520413e+00]]\n"
     ]
    }
   ],
   "source": [
    "np.random.seed(40)\n",
    "#params = np.random.uniform(-9, 10, size=(11, POPULATION_SIZE))\n",
    "params = np.zeros(shape=(11, 4), dtype=float)\n",
    "#for i in range(5):\n",
    "#    np.copyto(params[:, i], init_overfit_params)\n",
    "#init_params = np.zeros(shape= (11, POPULATION_SIZE))\n",
    "#np.copyto(init_params, params)\n",
    "#print(params)\n",
    "params += (np.array(init_overfit_params[:])).reshape(11, 1)\n",
    "print(\"Params -------------------------------------\\n\")\n",
    "print(params)\n",
    "params_2 = np.zeros(shape=(11, 4), dtype=float)\n",
    "for i in range(4):\n",
    "    params_2[:, i] += mutate(params[:, 0])\n",
    "    \n",
    "#params_2 = np.array([ list(mutate(params[:, 0])), list(mutate(params[:, 1])), list(mutate(params[:, 2])), list(mutate(params[:, 3])) ])\n",
    "print(params_2)\n",
    "#params_2.shape\n"
   ]
  },
  {
   "cell_type": "code",
   "execution_count": 28,
   "metadata": {},
   "outputs": [
    {
     "data": {
      "text/plain": [
       "(4, 11)"
      ]
     },
     "execution_count": 28,
     "metadata": {},
     "output_type": "execute_result"
    }
   ],
   "source": [
    "params_2.shape\n"
   ]
  },
  {
   "cell_type": "code",
   "execution_count": 29,
   "metadata": {},
   "outputs": [
    {
     "data": {
      "text/plain": [
       "(11, 4)"
      ]
     },
     "execution_count": 29,
     "metadata": {},
     "output_type": "execute_result"
    }
   ],
   "source": [
    "params.shape"
   ]
  },
  {
   "cell_type": "code",
   "execution_count": null,
   "metadata": {},
   "outputs": [],
   "source": []
  }
 ],
 "metadata": {
  "kernelspec": {
   "display_name": "Python 3",
   "language": "python",
   "name": "python3"
  },
  "language_info": {
   "codemirror_mode": {
    "name": "ipython",
    "version": 3
   },
   "file_extension": ".py",
   "mimetype": "text/x-python",
   "name": "python",
   "nbconvert_exporter": "python",
   "pygments_lexer": "ipython3",
   "version": "3.8.5"
  }
 },
 "nbformat": 4,
 "nbformat_minor": 4
}
