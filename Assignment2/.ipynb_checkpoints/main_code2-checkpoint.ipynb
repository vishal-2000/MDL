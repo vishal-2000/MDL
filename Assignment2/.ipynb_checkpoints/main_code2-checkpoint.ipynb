{
 "cells": [
  {
   "cell_type": "code",
   "execution_count": 2,
   "metadata": {},
   "outputs": [],
   "source": [
    "# A generic genetic algorithm\n",
    "import random\n",
    "import numpy as np\n",
    "import matplotlib.pyplot as plt\n",
    "from client import get_errors, get_overfit_vector, submit\n",
    "from io import StringIO\n",
    "from config import SECRET_KEY\n",
    "from utils import POPULATION_SIZE, SPLIT_POINT, FEATURE_VECTOR_SIZE, MUTATION_COEFF\n",
    "from helpers import mkdir_p, get_train_validation_errors, get_rank_and_probabilities, fitness, select_parents, cross_over, mutate, plot_graph, initialize_params, select_the_best, return_elite, list_to_array\n",
    "\n",
    "from errno import EEXIST\n",
    "from os import makedirs, path"
   ]
  },
  {
   "cell_type": "code",
   "execution_count": 10,
   "metadata": {},
   "outputs": [
    {
     "name": "stdout",
     "output_type": "stream",
     "text": [
      "successfully submitted\n"
     ]
    }
   ],
   "source": [
    "a = [ 2.69969038e+00, -8.98587638e+00, -5.91113586e+00, -6.63182532e+00,\n",
    "  -1.75214813e-10, -1.83669770e-15,  8.52944060e-16,  2.29423303e-05,\n",
    "  -2.04721003e-06, -1.59792834e-08,  9.98214034e-10,]\n",
    "#x = get_errors(SECRET_KEY, list(a))\n",
    "y = submit(SECRET_KEY, list(a))\n",
    "print(y)\n",
    "#print(x)\n",
    "#89"
   ]
  },
  {
   "cell_type": "code",
   "execution_count": 9,
   "metadata": {},
   "outputs": [
    {
     "name": "stdout",
     "output_type": "stream",
     "text": [
      "successfully submitted\n"
     ]
    }
   ],
   "source": [
    "a = [ 0.00000000e+00,  6.27937040e+00,  3.19484293e+00, -3.72370557e+00,\n",
    "  -1.75214813e-10, -1.83669770e-15, -7.58848480e+00,  2.29423303e-05,\n",
    "  -2.04721003e-06, -1.59792834e-08,  9.98214034e-10,]\n",
    "#x = get_errors(SECRET_KEY, list(a))\n",
    "y = submit(SECRET_KEY, list(a))\n",
    "print(y)\n",
    "#print(x)\n",
    "#89"
   ]
  },
  {
   "cell_type": "code",
   "execution_count": 8,
   "metadata": {},
   "outputs": [
    {
     "name": "stdout",
     "output_type": "stream",
     "text": [
      "successfully submitted\n"
     ]
    }
   ],
   "source": [
    "a = [-7.83878833e+00,\n",
    "  -8.27116100e-01,\n",
    "  3.19484293e+00, \n",
    "  -4.37903432e+00, \n",
    "  -1.75214813e-10, \n",
    "  -1.83669770e-15, \n",
    "  -7.58848480e+00, \n",
    "  2.29423303e-05, \n",
    "  -2.04721003e-06, \n",
    "  -1.59792834e-08,\n",
    "  9.98214034e-10]\n",
    "#x = get_errors(SECRET_KEY, list(a))\n",
    "y = submit(SECRET_KEY, list(a))\n",
    "print(y)\n",
    "#print(x)\n",
    "# 1, 2, 3, 4\n",
    "# 1, 2\n",
    "#89"
   ]
  },
  {
   "cell_type": "code",
   "execution_count": 6,
   "metadata": {},
   "outputs": [
    {
     "name": "stdout",
     "output_type": "stream",
     "text": [
      "successfully submitted\n",
      "[14670596103.382584, 350627975902.7358]\n"
     ]
    }
   ],
   "source": [
    "a = [-2.33617593e+00,\n",
    "  6.27937040e+00,\n",
    "  4.50931369e+00, \n",
    "  -7.86082958e-01, \n",
    "  -1.75214813e-10, \n",
    "  -1.83669770e-15,\n",
    "  8.52944060e-16,\n",
    "  2.29423303e-05, \n",
    "  -2.04721003e-06, \n",
    "  -1.59792834e-08,\n",
    "  9.98214034e-10]\n",
    "x = get_errors(SECRET_KEY, list(a))\n",
    "y = submit(SECRET_KEY, list(a))\n",
    "print(y)\n",
    "print(x)\n",
    "# rank 82 better than above"
   ]
  },
  {
   "cell_type": "code",
   "execution_count": 7,
   "metadata": {},
   "outputs": [
    {
     "name": "stdout",
     "output_type": "stream",
     "text": [
      "successfully submitted\n",
      "[45757004781.289856, 306638050749.33575]\n"
     ]
    }
   ],
   "source": [
    "a = [-7.83878833e+00,\n",
    " -8.27116100e-01,\n",
    "  3.19484293e+00,\n",
    " -4.37903432e+00,\n",
    " -1.75214813e-10,\n",
    " -1.83669770e-15,\n",
    " -7.58848480e+00,\n",
    "  2.29423303e-05,\n",
    " -2.04721003e-06,\n",
    " -1.59792834e-08,\n",
    "  9.98214034e-10]\n",
    "x = get_errors(SECRET_KEY, list(a))\n",
    "y = submit(SECRET_KEY, list(a))\n",
    "print(y)\n",
    "print(x)\n",
    "# 89"
   ]
  },
  {
   "cell_type": "code",
   "execution_count": 11,
   "metadata": {},
   "outputs": [
    {
     "name": "stdout",
     "output_type": "stream",
     "text": [
      "successfully submitted\n",
      "[60911692609.35195, 309348110195.21643]\n"
     ]
    }
   ],
   "source": [
    "a = [0.00000000e+00,\n",
    " -7.13121383e+00,\n",
    "  -4.57220039e+00,\n",
    "  -5.23714582e+00,\n",
    "  -1.75214813e-10,\n",
    "  -1.83669770e-15,\n",
    "   8.52944060e-16,\n",
    "   2.29423303e-05,\n",
    "  -2.04721003e-06,\n",
    "  -1.59792834e-08,\n",
    "  9.98214034e-10]\n",
    "x = get_errors(SECRET_KEY, list(a))\n",
    "y = submit(SECRET_KEY, list(a))\n",
    "print(y)\n",
    "print(x)\n",
    "#89"
   ]
  },
  {
   "cell_type": "code",
   "execution_count": 5,
   "metadata": {},
   "outputs": [
    {
     "name": "stdout",
     "output_type": "stream",
     "text": [
      "successfully submitted\n",
      "[15450295594.449286, 400741755000.0832]\n"
     ]
    }
   ],
   "source": [
    "a = [0.00000000e+00,\n",
    "     -9.75835723e+00,\n",
    "      -2.28980078e-13,\n",
    "      1.07109860e+00,\n",
    "      -1.75214813e-10,\n",
    "      -1.83669770e-15,\n",
    "       8.52944060e-16,\n",
    "       2.29423303e-05,\n",
    "      -2.04721003e-06,\n",
    "      -1.59792834e-08,\n",
    "      9.98214034e-10]\n",
    "x = get_errors(SECRET_KEY, list(a))\n",
    "y = submit(SECRET_KEY, list(a))\n",
    "print(y)\n",
    "print(x)\n",
    "# 64\n"
   ]
  },
  {
   "cell_type": "code",
   "execution_count": 13,
   "metadata": {},
   "outputs": [
    {
     "name": "stdout",
     "output_type": "stream",
     "text": [
      "successfully submitted\n",
      "[2031280283262.183, 3624979221727.6943]\n"
     ]
    }
   ],
   "source": [
    "a = [0, 0, 0, 0, 0, 0, 0, 0, 0, 0, 0]\n",
    "x = get_errors(SECRET_KEY, list(a))\n",
    "y = submit(SECRET_KEY, list(a))\n",
    "print(y)\n",
    "print(x)\n",
    "# 19 :)"
   ]
  },
  {
   "cell_type": "code",
   "execution_count": 3,
   "metadata": {},
   "outputs": [
    {
     "name": "stdout",
     "output_type": "stream",
     "text": [
      "successfully submitted\n",
      "[124862866199.97807, 345076524326.62897]\n"
     ]
    }
   ],
   "source": [
    "a = [  0.00000000e+00, \n",
    "  -1.01521951e-01, \n",
    "  -2.28980078e-13, \n",
    "  -8.09349783e+00, \n",
    "  -1.75214813e-10, \n",
    "  -1.83669770e-15, \n",
    "  -5.57147756e+00, \n",
    "   2.29423303e-05, \n",
    "  -2.04721003e-06, \n",
    "  -1.59792834e-08, \n",
    "   9.98214034e-10]\n",
    "x = get_errors(SECRET_KEY, list(a))\n",
    "y = submit(SECRET_KEY, list(a))\n",
    "print(y)\n",
    "print(x)\n",
    "# 91"
   ]
  },
  {
   "cell_type": "code",
   "execution_count": 6,
   "metadata": {},
   "outputs": [
    {
     "name": "stdout",
     "output_type": "stream",
     "text": [
      "successfully submitted\n",
      "[152611454414.5255, 368238450208.0652]\n"
     ]
    }
   ],
   "source": [
    "a = [  0.00000000e+00,\n",
    "  -6.61726765e+00,\n",
    "  -2.28980078e-13,\n",
    "  -9.04192680e+00,\n",
    "  -1.75214813e-10,\n",
    "  -1.83669770e-15,\n",
    " -5.57147756e+00,\n",
    " 2.29423303e-05,\n",
    " -2.04721003e-06,\n",
    " -1.59792834e-08,\n",
    " 9.98214034e-10]\n",
    "x = get_errors(SECRET_KEY, list(a))\n",
    "y = submit(SECRET_KEY, list(a))\n",
    "print(y)\n",
    "print(x)"
   ]
  },
  {
   "cell_type": "code",
   "execution_count": 3,
   "metadata": {},
   "outputs": [
    {
     "name": "stdout",
     "output_type": "stream",
     "text": [
      "successfully submitted\n",
      "[41607715870627.66, 79313318026961.45]\n"
     ]
    }
   ],
   "source": [
    "a = [\n",
    "    -1.93727666e-15,\n",
    "    2.29207672e-05,\n",
    "    -2.27026207e-06,\n",
    "    -1.59742729e-08,\n",
    "    9.95416598e-10,\n",
    "    0,\n",
    "    0,\n",
    "    2.29207672e-05,\n",
    "    -2.25026207e-06,\n",
    "    -1.69742729e-08,\n",
    "    7.55416598e-10\n",
    "]\n",
    "x = get_errors(SECRET_KEY, list(a))\n",
    "y = submit(SECRET_KEY, list(a))\n",
    "print(y)\n",
    "print(x)\n",
    "# 6"
   ]
  },
  {
   "cell_type": "code",
   "execution_count": 68,
   "metadata": {},
   "outputs": [
    {
     "name": "stdout",
     "output_type": "stream",
     "text": [
      "successfully submitted\n",
      "[293597901136307.3, 568911242639997.9]\n"
     ]
    }
   ],
   "source": [
    "a = [\n",
    "    0, 0, 0, 0, 0, 0, 0, 0, 0, 0,\n",
    "    7.55416598e-10\n",
    "]\n",
    "x = get_errors(SECRET_KEY, list(a))\n",
    "y = submit(SECRET_KEY, list(a))\n",
    "print(y)\n",
    "print(x)\n",
    "# 19"
   ]
  },
  {
   "cell_type": "code",
   "execution_count": 71,
   "metadata": {},
   "outputs": [
    {
     "name": "stdout",
     "output_type": "stream",
     "text": [
      "[41607715867695.48, 79313318020802.45]\n"
     ]
    }
   ],
   "source": [
    "a = [0, 0, 0, 0, 0, 0, 0,\n",
    "       2.29207672e-05,\n",
    "    -2.25026207e-06,\n",
    "    -1.69742729e-08,\n",
    "    7.55416598e-10]\n",
    "x = get_errors(SECRET_KEY, list(a))\n",
    "#y = submit(SECRET_KEY, list(a))\n",
    "#print(y)\n",
    "print(x)"
   ]
  },
  {
   "cell_type": "code",
   "execution_count": 12,
   "metadata": {},
   "outputs": [
    {
     "name": "stdout",
     "output_type": "stream",
     "text": [
      "successfully submitted\n",
      "[41607715870627.66, 79313318026961.45]\n",
      "4.160772e+13 7.931332e+13\n",
      "6.236401e-01\n"
     ]
    }
   ],
   "source": [
    "a = [\n",
    "    -1.93727666e-15,\n",
    "    2.29207672e-05,\n",
    "    -2.27026207e-06,\n",
    "    -1.59742729e-08,\n",
    "    9.95416598e-10,\n",
    "    0,\n",
    "    0,\n",
    "    2.29207672e-05,\n",
    "    -2.25026207e-06,\n",
    "    -1.69742729e-08,\n",
    "    7.55416598e-10\n",
    "]\n",
    "x = get_errors(SECRET_KEY, list(a))\n",
    "y = submit(SECRET_KEY, list(a))\n",
    "print(y)\n",
    "print(x)\n",
    "print(\"{:e}\".format(int(x[0])), \"{:e}\".format(int(x[1])))\n",
    "print(\"{:e}\".format(abs((x[0] - x[1])/np.mean([x[0], x[1]]))))"
   ]
  },
  {
   "cell_type": "code",
   "execution_count": 9,
   "metadata": {},
   "outputs": [
    {
     "name": "stdout",
     "output_type": "stream",
     "text": [
      "10 11\n",
      "(11, 10)\n"
     ]
    }
   ],
   "source": [
    "params = [[-7.83878833e+00, -7.83878833e+00, -7.83878833e+00, -7.83878833e+00,\n",
    "  -7.83878833e+00, -7.83878833e+00, -7.83878833e+00,  3.57243504e+00,\n",
    "  -7.83878833e+00, -7.83878833e+00],\n",
    " [-8.27116100e-01,  8.30381203e+00,  8.30381203e+00, -8.27116100e-01,\n",
    "   8.30381203e+00,  8.30381203e+00, -8.27116100e-01,  8.30381203e+00,\n",
    "   8.30381203e+00,  8.30381203e+00],\n",
    " [ 3.19484293e+00,  3.19484293e+00,  3.19484293e+00,  3.19484293e+00,\n",
    "   3.19484293e+00,  3.19484293e+00,  3.19484293e+00,  3.19484293e+00,\n",
    "   3.19484293e+00,  3.19484293e+00],\n",
    " [-4.37903432e+00, -3.72370557e+00, -3.72370557e+00, -4.37903432e+00,\n",
    "  -3.72370557e+00, -3.72370557e+00, -4.37903432e+00, -3.72370557e+00,\n",
    "  -3.72370557e+00, -3.72370557e+00],\n",
    " [-1.75214813e-10, -1.75214813e-10, -1.75214813e-10, -1.75214813e-10,\n",
    "   9.28021666e+00, -9.82741237e+00, -1.75214813e-10, -1.75214813e-10,\n",
    "  -1.75214813e-10, -1.75214813e-10],\n",
    " [-1.83669770e-15, -1.83669770e-15, -1.83669770e-15, -1.83669770e-15,\n",
    "  -1.83669770e-15, -1.83669770e-15, -1.83669770e-15, -1.83669770e-15,\n",
    "  -1.83669770e-15, -1.83669770e-15],\n",
    " [-7.58848480e+00, -7.58848480e+00, -7.58848480e+00, -7.58848480e+00,\n",
    "  -7.58848480e+00, -7.58848480e+00,  8.63071069e+00, -7.58848480e+00,\n",
    "  -7.58848480e+00, -7.58848480e+00],\n",
    " [ 2.29423303e-05,  2.29423303e-05,  2.29423303e-05,  2.29423303e-05,\n",
    "   2.29423303e-05,  2.29423303e-05, -3.88193090e+00,  2.29423303e-05,\n",
    "   2.29423303e-05,  2.29423303e-05],\n",
    " [-2.04721003e-06, -2.04721003e-06, -2.04721003e-06, -2.04721003e-06,\n",
    "  -2.04721003e-06, -2.04721003e-06, -2.04721003e-06, -2.87756078e+00,\n",
    "   5.86159126e+00, -2.04721003e-06],\n",
    " [-1.59792834e-08, -1.59792834e-08, -1.59792834e-08, -1.59792834e-08,\n",
    "  -1.59792834e-08, -1.59792834e-08, -1.59792834e-08, -1.59792834e-08,\n",
    "  -1.59792834e-08, -8.05504898e+00],\n",
    " [ 9.98214034e-10,  9.98214034e-10,  9.98214034e-10,  9.98214034e-10,\n",
    "   9.98214034e-10,  9.98214034e-10,  9.98214034e-10,  9.98214034e-10,\n",
    "   9.98214034e-10,  9.98214034e-10]]\n",
    "print(len(params[0]), len(params))\n",
    "params = np.array(params)\n",
    "print(params.shape)"
   ]
  },
  {
   "cell_type": "code",
   "execution_count": null,
   "metadata": {},
   "outputs": [],
   "source": []
  },
  {
   "cell_type": "code",
   "execution_count": 12,
   "metadata": {},
   "outputs": [],
   "source": [
    "init_params = np.zeros(shape=(11, 10), dtype=float)\n",
    "np.copyto(init_params, params)"
   ]
  },
  {
   "cell_type": "code",
   "execution_count": 4,
   "metadata": {},
   "outputs": [
    {
     "name": "stdout",
     "output_type": "stream",
     "text": [
      "Initial params:\n",
      "\n",
      "[[ 0.00000000e+00  0.00000000e+00  0.00000000e+00  0.00000000e+00\n",
      "   0.00000000e+00  0.00000000e+00  0.00000000e+00  0.00000000e+00\n",
      "   0.00000000e+00  0.00000000e+00]\n",
      " [ 6.27937040e+00 -1.45799022e-12 -1.45799022e-12 -9.75835723e+00\n",
      "  -1.45799022e-12 -1.45799022e-12 -8.98587638e+00 -1.45799022e-12\n",
      "  -1.45799022e-12 -1.45799022e-12]\n",
      " [-2.28980078e-13 -2.28980078e-13 -2.17347038e+00 -2.28980078e-13\n",
      "  -2.28980078e-13 -2.28980078e-13 -4.25719383e+00 -2.28980078e-13\n",
      "  -2.28980078e-13  9.72667176e+00]\n",
      " [ 4.62010753e-11  4.62010753e-11  4.62010753e-11  4.62010753e-11\n",
      "   4.62010753e-11  4.62010753e-11  4.62010753e-11 -4.17136006e+00\n",
      "   4.62010753e-11  4.62010753e-11]\n",
      " [-1.75214813e-10 -1.75214813e-10 -1.75214813e-10 -1.75214813e-10\n",
      "  -1.75214813e-10 -1.75214813e-10 -1.75214813e-10 -1.75214813e-10\n",
      "  -1.75214813e-10 -1.75214813e-10]\n",
      " [-1.83669770e-15 -1.83669770e-15 -1.83669770e-15 -1.83669770e-15\n",
      "  -1.83669770e-15 -1.83669770e-15 -1.83669770e-15 -1.83669770e-15\n",
      "  -1.83669770e-15  1.31367627e+00]\n",
      " [ 8.52944060e-16  8.52944060e-16  8.52944060e-16  8.52944060e-16\n",
      "   8.52944060e-16  8.52944060e-16  8.52944060e-16  8.52944060e-16\n",
      "   8.52944060e-16  1.38711103e+00]\n",
      " [ 2.29423303e-05  2.29423303e-05  2.29423303e-05  2.29423303e-05\n",
      "   2.29423303e-05 -1.52574735e+00  2.29423303e-05  2.29423303e-05\n",
      "   2.29423303e-05  2.29423303e-05]\n",
      " [-2.04721003e-06 -2.04721003e-06 -2.04721003e-06 -2.04721003e-06\n",
      "  -2.04721003e-06 -2.04721003e-06 -2.04721003e-06  5.02177686e-01\n",
      "  -2.04721003e-06 -2.04721003e-06]\n",
      " [-1.59792834e-08 -1.59792834e-08 -1.59792834e-08 -1.59792834e-08\n",
      "  -1.59792834e-08 -1.59792834e-08 -1.59792834e-08 -1.59792834e-08\n",
      "  -1.59792834e-08  3.78539345e+00]\n",
      " [ 9.98214034e-10 -6.41889788e+00  9.98214034e-10  8.64520413e+00\n",
      "   9.98214034e-10  9.98214034e-10  9.98214034e-10  9.98214034e-10\n",
      "   9.98214034e-10  9.98214034e-10]]\n",
      "[-5.75567460e+11 -5.65290182e+11 -5.75592446e+11 -5.75567460e+11\n",
      " -5.75567460e+11 -5.80419614e+11]\n",
      "Rank array\n",
      "[ 2  1  8  5  3  7  4  6  9 10]\n",
      "All errors\n",
      "[[150440244719.0558, 363003852363.6715], [124862866252.078, 345076524367.2138], [6.894789189529946e+25, 1.3619049957813203e+26], [150458293131.48248, 363025369378.3856], [150440244719.0558, 363003852363.6715], [189372437795004.03, 361599904076054.75], [150440244719.0558, 363003852363.6715], [37048490264.83297, 308734052262.7828], [1.844807872198451e+29, 3.5108568030270214e+29], [5.755737675441456e+30, 1.1034220571371077e+31]]\n",
      "Best offspring Gen errors\n",
      "[[1.24862866e+11 3.45076524e+11]\n",
      " [0.00000000e+00 0.00000000e+00]\n",
      " [0.00000000e+00 0.00000000e+00]\n",
      " [0.00000000e+00 0.00000000e+00]]\n",
      "What's the matter with you\n",
      "What's the matter with you\n",
      "What's the matter with you\n",
      "What's the matter with you\n",
      "[-5.75567460e+11 -5.65290182e+11 -5.80329228e+11 -5.75567364e+11\n",
      " -5.75567460e+11 -5.75567460e+11]\n",
      "Rank array\n",
      "[ 4  1  8  6  7 10  2  5  9  3]\n",
      "All errors\n",
      "[[150440244719.0558, 363003852363.6715], [124862866252.078, 345076524367.2138], [1.1358856557976172e+31, 2.177585842480626e+31], [151680048164.0483, 366004638220.42255], [4.4844700644847744e+29, 8.597185106297702e+29], [3.4156045095691793e+42, 3.4757413258509236e+42], [150440235021.31134, 363003799436.72266], [150440244719.0558, 363003852363.6715], [4.2025355232687466e+33, 7.950673434915686e+33], [150440244719.0558, 363003852363.6715]]\n",
      "Best offspring Gen errors\n",
      "[[1.24862866e+11 3.45076524e+11]\n",
      " [1.24862866e+11 3.45076524e+11]\n",
      " [0.00000000e+00 0.00000000e+00]\n",
      " [0.00000000e+00 0.00000000e+00]]\n",
      "What's the matter with you\n",
      "What's the matter with you\n",
      "What's the matter with you\n",
      "What's the matter with you\n",
      "[-5.65290182e+11 -5.75567364e+11 -5.75567460e+11 -5.75594043e+11\n",
      " -5.65290182e+11 -5.75567364e+11]\n",
      "Rank array\n",
      "[ 1  3  5  8  6 10  2  7  4  9]\n",
      "All errors\n",
      "[[124862866252.078, 345076524367.2138], [150440235021.31134, 363003799436.72266], [150440244719.0558, 363003852363.6715], [155441931507.42627, 374930701977.3141], [150464514394.4093, 363029278598.42957], [1.3435978640220837e+43, 1.3672539101711236e+43], [124862866252.078, 345076524367.2138], [151680048164.0483, 366004638220.42255], [150440235021.31134, 363003799436.72266], [1.5930632969943835e+31, 3.0540328279636317e+31]]\n",
      "Best offspring Gen errors\n",
      "[[1.24862866e+11 3.45076524e+11]\n",
      " [1.24862866e+11 3.45076524e+11]\n",
      " [1.24862866e+11 3.45076524e+11]\n",
      " [0.00000000e+00 0.00000000e+00]]\n",
      "What's the matter with you\n",
      "What's the matter with you\n",
      "What's the matter with you\n",
      "What's the matter with you\n",
      "[-5.65290182e+11 -5.65290182e+11 -5.65311763e+11 -5.75567364e+11\n",
      " -5.75565497e+11 -5.65290182e+11]\n",
      "Rank array\n",
      "[ 1  2  4  6  5  3  7  8  9 10]\n",
      "All errors\n",
      "[[124862866252.078, 345076524367.2138], [124862866252.078, 345076524367.2138], [124883800739.58731, 345097782046.7677], [150440235021.31134, 363003799436.72266], [150439946197.41037, 363002721690.7989], [124862866252.078, 345076524367.2138], [3.934231436034352e+23, 7.688529411628873e+23], [9.743928609480813e+23, 1.904220915407165e+24], [1.5995271101407334e+30, 3.0623705335858916e+30], [1.5065889389449497e+34, 2.8502785016410257e+34]]\n",
      "Best offspring Gen errors\n",
      "[[1.24862866e+11 3.45076524e+11]\n",
      " [1.24862866e+11 3.45076524e+11]\n",
      " [1.24862866e+11 3.45076524e+11]\n",
      " [1.24862866e+11 3.45076524e+11]]\n",
      "What's the matter with you\n",
      "What's the matter with you\n",
      "What's the matter with you\n",
      "What's the matter with you\n"
     ]
    },
    {
     "name": "stderr",
     "output_type": "stream",
     "text": [
      "/home/vishal/Volume_D/sem_4/Courses/Machine, Data and Learning/Assignments/Assignment2/Vishal/MDL-Project/Assignment2/helpers.py:147: UserWarning: Matplotlib is currently using module://ipykernel.pylab.backend_inline, which is a non-GUI backend, so cannot show the figure.\n",
      "  fig.show()\n"
     ]
    },
    {
     "data": {
      "image/png": "[encoded data removed]",
      "text/plain": [
       "<Figure size 432x288 with 1 Axes>"
      ]
     },
     "metadata": {
      "needs_background": "light"
     },
     "output_type": "display_data"
    }
   ],
   "source": [
    "#init_overfit_params, init_params = initialize_params()\n",
    "NO_OF_GENERATIONS = 4\n",
    "generation_errors = np.zeros(shape=(NO_OF_GENERATIONS, 2), dtype=float)\n",
    "#params = np.zeros(shape=(11, POPULATION_SIZE), dtype=float)\n",
    "#np.copyto(params, init_params)\n",
    "print(\"Initial params:\\n\")\n",
    "print(init_params)\n",
    "target_directory = \"Results/3-04/run2\"\n",
    "mkdir_p(target_directory)\n",
    "f = open(\"{}/params.txt\".format(target_directory), \"w\")\n",
    "#f.write(\"Run 3 of 3rd March is continued, we started with the final parameters of previous run i.e. run3 and simulated x more generations where x =\\n\" + str(NO_OF_GENERATIONS) + \"\\n\")\n",
    "f.write(\"Starting all over again with new root population\\n\")\n",
    "f.write(\"No of generations: \" + str(NO_OF_GENERATIONS) + \"\\n\")\n",
    "f.write(\"Population size: \" + str(POPULATION_SIZE) + \"\\n\")\n",
    "f.write(\"Mutation coefficient: \" + str(MUTATION_COEFF) + \"\\n\")\n",
    "f.write(\"Split point: \" + str(SPLIT_POINT) + \"\\n\")\n",
    "f.write(\"Two offspring per pair\\n\")\n",
    "\n",
    "for i in range(NO_OF_GENERATIONS):\n",
    "    train_validation_errors = None\n",
    "    fitness_score_array = None\n",
    "    rank_array = None\n",
    "    # fitness\n",
    "    train_validation_errors = get_train_validation_errors(SECRET_KEY, POPULATION_SIZE, params)\n",
    "    fitness_score_array = fitness(np.array(train_validation_errors))\n",
    "    rank_array, selection_prob = get_rank_and_probabilities(fitness_score_array)\n",
    "    elite_parents = return_elite(rank_array, POPULATION_SIZE, 2)\n",
    "    final_parents = select_the_best(rank_array, POPULATION_SIZE, int(POPULATION_SIZE*0.6))\n",
    "    parents = []\n",
    "    parent_fitness = np.zeros(shape = (len(final_parents), ), dtype = float)\n",
    "    k = 0\n",
    "    temp_errors = list_to_array(train_validation_errors)\n",
    "    elite_params = []\n",
    "    for j in elite_parents:\n",
    "        elite_params.append(params[:, j])\n",
    "        #parent_fitness[k] = fitness_score_array[j]\n",
    "        #k += 1\n",
    "    for j in final_parents:\n",
    "        parents.append(params[:, j])\n",
    "        parent_fitness[k] = fitness_score_array[j]\n",
    "        k += 1\n",
    "    print(parent_fitness)\n",
    "    # Parents are ready\n",
    "    elite_params = list_to_array(elite_params)\n",
    "    parents = list_to_array(parents)\n",
    "    parent_rank_array, parent_selection_prob = get_rank_and_probabilities(parent_fitness)\n",
    "    \n",
    "    f.write(\"Population:\\n\")\n",
    "    f.write(str(params))\n",
    "    f.write(\"\\nTrain validation errors\\n\")\n",
    "    f.write(str(train_validation_errors))\n",
    "    f.write('\\n')\n",
    "    f.write(\"Selected parents:\\n\")\n",
    "    f.write(str(parents))\n",
    "    for j in range(POPULATION_SIZE):\n",
    "        if rank_array[j]==1:\n",
    "            generation_errors[i, :] += train_validation_errors[j]\n",
    "    print(\"Rank array\")\n",
    "    print(rank_array)\n",
    "    print(\"All errors\")\n",
    "    print(train_validation_errors)\n",
    "    print(\"Best offspring Gen errors\")\n",
    "    print(generation_errors)\n",
    "    # crossover and mutation\n",
    "    temp_count = 2\n",
    "    offspring_params = np.zeros(shape=(11, POPULATION_SIZE), dtype=float)\n",
    "    offspring_params[:, 0] = elite_params[0, :]\n",
    "    offspring_params[:, 1] = elite_params[1, :]\n",
    "    while temp_count < POPULATION_SIZE:\n",
    "        k, l = select_parents(parent_selection_prob)\n",
    "        #print(k, l)\n",
    "        print(\"What's the matter with you\")\n",
    "        offspring1, offspring2 = cross_over(parents[k, :], parents[l, :], SPLIT_POINT)\n",
    "        #print(offspring)\n",
    "        offspring1 = mutate(offspring1)\n",
    "        offspring2 = mutate(offspring2)\n",
    "        #print(offspring)\n",
    "        offspring_params[:, temp_count] += offspring1[:]\n",
    "        offspring_params[:, temp_count+1] += offspring2[:]\n",
    "        #print(offspring_params)\n",
    "        temp_count += 2\n",
    "    #print(\"Errors\")\n",
    "    #print(generation_errors)\n",
    "    #print(\"params\")\n",
    "    #print(offspring_params)\n",
    "    np.copyto(params, offspring_params)\n",
    "f.write('Best offspring gen errors:\\n')\n",
    "f.write(str(generation_errors))\n",
    "f.close()\n",
    "plot_graph(NO_OF_GENERATIONS, generation_errors, target_directory)"
   ]
  },
  {
   "cell_type": "code",
   "execution_count": null,
   "metadata": {},
   "outputs": [],
   "source": [
    "def trash3():\n",
    "    init_overfit_params, init_params = initialize_params()\n",
    "    NO_OF_GENERATIONS = 3\n",
    "    generation_errors = np.zeros(shape=(NO_OF_GENERATIONS, 2), dtype=float)\n",
    "    params = np.zeros(shape=(11, POPULATION_SIZE), dtype=float)\n",
    "    np.copyto(params, init_params)\n",
    "\n",
    "    train_validation_errors = get_train_validation_errors(SECRET_KEY, POPULATION_SIZE, params)\n",
    "    fitness_score_array = fitness(np.array(train_validation_errors))\n",
    "    rank_array, selection_prob = get_rank_and_probabilities(fitness_score_array)\n",
    "    elite_parents = return_elite(rank_array, POPULATION_SIZE, 2)\n",
    "    final_parents = select_the_best(rank_array, POPULATION_SIZE, int(POPULATION_SIZE*0.9))"
   ]
  },
  {
   "cell_type": "code",
   "execution_count": null,
   "metadata": {},
   "outputs": [],
   "source": [
    "def trash2():\n",
    "    train_validation_errors = get_train_validation_errors(SECRET_KEY, POPULATION_SIZE, params)\n",
    "    fitness_score_array = fitness(np.array(train_validation_errors))\n",
    "    rank_array, selection_prob = get_rank_and_probabilities(fitness_score_array)\n",
    "    elite_parents = return_elite(rank_array, POPULATION_SIZE, 2)\n",
    "    final_parents = select_the_best(rank_array, POPULATION_SIZE, int(POPULATION_SIZE*0.4))\n",
    "    parents = []\n",
    "    print(elite_parents)\n",
    "    print(final_parents)\n",
    "    for i in elite_parents:\n",
    "        parents.append(params[:, i])\n",
    "    for i in final_parents:\n",
    "        parents.append(params[:, i])\n",
    "    print(parents)\n",
    "    parents = np.array(parents)\n",
    "    print(parents)"
   ]
  },
  {
   "cell_type": "code",
   "execution_count": null,
   "metadata": {},
   "outputs": [],
   "source": [
    "def trash():\n",
    "    parent_fitness = np.zeros(shape = (len(elite_parents) + len(final_parents), 2), dtype = float)\n",
    "    k = 0\n",
    "    temp_errors = list_to_array(train_validation_errors)\n",
    "    for i in elite_parents:\n",
    "    #parents.append(params[:, i])\n",
    "        parent_fitness[k, :] = temp_errors[i, :]\n",
    "        k += 1\n",
    "    for i in final_parents:\n",
    "        #parents.append(params[:, i])\n",
    "        parent_fitness[k, :] += temp_errors[i, :]\n",
    "        k += 1\n",
    "    print(parent_fitness)"
   ]
  },
  {
   "cell_type": "code",
   "execution_count": null,
   "metadata": {},
   "outputs": [],
   "source": [
    "#elite_parents.size\n",
    "elite_params[1, :]"
   ]
  },
  {
   "cell_type": "code",
   "execution_count": null,
   "metadata": {},
   "outputs": [],
   "source": [
    "train_validation_errors[:][1]"
   ]
  },
  {
   "cell_type": "code",
   "execution_count": null,
   "metadata": {
    "scrolled": true
   },
   "outputs": [],
   "source": [
    "#get_overfit_vector(SECRET_KEY)\n",
    "parent1[0:SPLIT_POINT]"
   ]
  },
  {
   "cell_type": "code",
   "execution_count": null,
   "metadata": {},
   "outputs": [],
   "source": [
    "#get_overfit_vector(SECRET_KEY)\n",
    "parent_fitness.size\n",
    "parent_fitness = np.zeros(shape = (len(elite_parents) + len(final_parents)), dtype = float)\n",
    "parent_fitness.size"
   ]
  },
  {
   "cell_type": "code",
   "execution_count": null,
   "metadata": {},
   "outputs": [],
   "source": [
    "#get_errors()\n",
    "k, l = select_parents(parent_selection_prob)\n",
    "offspring1, offspring2 = cross_over(parents[k, :], parents[l, :], SPLIT_POINT)\n",
    "print(offspring1)"
   ]
  },
  {
   "cell_type": "code",
   "execution_count": null,
   "metadata": {},
   "outputs": [],
   "source": [
    "def dumb():\n",
    "    init_overfit_params, init_params = initialize_params()\n",
    "    NO_OF_GENERATIONS = 3\n",
    "    generation_errors = np.zeros(shape=(NO_OF_GENERATIONS, 2), dtype=float)\n",
    "    params = np.zeros(shape=(11, POPULATION_SIZE), dtype=float)\n",
    "    np.copyto(params, init_params)\n",
    "    print(\"Initial params:\\n\")\n",
    "    print(init_params)\n",
    "    target_directory = \"Results/3-01/run9\"\n",
    "    mkdir_p(target_directory)\n",
    "    f = open(\"{}/params.txt\".format(target_directory), \"w\")\n",
    "    #f.write(\"Run 1 of 27th feb is continued, we started with the final parameters of previous run i.e. run4 and simulated x more generations where x =\\n\" + str(NO_OF_GENERATIONS) + \"\\n\")\n",
    "    f.write(\"Starting all over again with new root population\\n\")\n",
    "    f.write(\"No of generations: \" + str(NO_OF_GENERATIONS) + \"\\n\")\n",
    "    f.write(\"Population size: \" + str(POPULATION_SIZE) + \"\\n\")\n",
    "    f.write(\"Mutation coefficient: \" + str(MUTATION_COEFF) + \"\\n\")\n",
    "    f.write(\"Split point: \" + str(SPLIT_POINT) + \"\\n\")\n",
    "    f.write(\"One offspring per pair\\n\")\n",
    "\n",
    "    for i in range(NO_OF_GENERATIONS):\n",
    "        train_validation_errors = None\n",
    "        fitness_score_array = None\n",
    "        rank_array = None\n",
    "        # fitness\n",
    "        train_validation_errors = get_train_validation_errors(SECRET_KEY, POPULATION_SIZE, params)\n",
    "        fitness_score_array = fitness(np.array(train_validation_errors))\n",
    "        rank_array, selection_prob = get_rank_and_probabilities(fitness_score_array)\n",
    "        f.write(\"Population:\\n\")\n",
    "        f.write(str(params))\n",
    "        f.write(\"\\nTrain validation errors\\n\")\n",
    "        f.write(str(train_validation_errors))\n",
    "        f.write('\\n')\n",
    "        for j in range(POPULATION_SIZE):\n",
    "            if rank_array[j]==1:\n",
    "                generation_errors[i, :] += train_validation_errors[j]\n",
    "        print(\"Rank array\")\n",
    "        print(rank_array)\n",
    "        print(\"All errors\")\n",
    "        print(train_validation_errors)\n",
    "        print(\"Best offspring Gen errors\")\n",
    "        print(generation_errors)\n",
    "        # crossover and mutation\n",
    "        temp_count = 0\n",
    "        offspring_params = np.zeros(shape=(11, POPULATION_SIZE), dtype=float)\n",
    "        while temp_count < POPULATION_SIZE:\n",
    "            k, l = select_parents(selection_prob)\n",
    "            #print(k, l)\n",
    "            offspring1, offspring2 = cross_over(params[:, k], params[:, l], SPLIT_POINT)\n",
    "            #print(offspring)\n",
    "            offspring1 = mutate(offspring1)\n",
    "            offspring2 = mutate(offspring2)\n",
    "            #print(offspring)\n",
    "            offspring_params[:, temp_count] += offspring1[:]\n",
    "            offspring_params[:, temp_count+1] += offspring2[:]\n",
    "            #print(offspring_params)\n",
    "            temp_count += 2\n",
    "        #print(\"Errors\")\n",
    "        #print(generation_errors)\n",
    "        #print(\"params\")\n",
    "        #print(offspring_params)\n",
    "        np.copyto(params, offspring_params)\n",
    "\n",
    "    f.close()\n",
    "    plot_graph(NO_OF_GENERATIONS, generation_errors, target_directory)"
   ]
  }
 ],
 "metadata": {
  "kernelspec": {
   "display_name": "science2_env",
   "language": "python",
   "name": "science2_env"
  },
  "language_info": {
   "codemirror_mode": {
    "name": "ipython",
    "version": 3
   },
   "file_extension": ".py",
   "mimetype": "text/x-python",
   "name": "python",
   "nbconvert_exporter": "python",
   "pygments_lexer": "ipython3",
   "version": "3.8.5"
  }
 },
 "nbformat": 4,
 "nbformat_minor": 4
}
