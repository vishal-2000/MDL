{
 "cells": [
  {
   "cell_type": "code",
   "execution_count": 1,
   "metadata": {},
   "outputs": [],
   "source": [
    "# A generic genetic algorithm\n",
    "import random\n",
    "import numpy as np\n",
    "import matplotlib.pyplot as plt\n",
    "from client import get_errors, get_overfit_vector, submit\n",
    "from io import StringIO\n",
    "from config import SECRET_KEY\n",
    "from utils import POPULATION_SIZE, SPLIT_POINT, FEATURE_VECTOR_SIZE, MUTATION_COEFF\n",
    "from helpers import mkdir_p, get_train_validation_errors, get_rank_and_probabilities, fitness, select_parents, cross_over, mutate, plot_graph, initialize_params, select_the_best, return_elite, list_to_array, file_name, return_order, single_mutate\n",
    "\n",
    "from errno import EEXIST\n",
    "from os import makedirs, path"
   ]
  },
  {
   "cell_type": "code",
   "execution_count": null,
   "metadata": {},
   "outputs": [],
   "source": [
    "def get_vec(a, i): # gets ith vector\n",
    "    "
   ]
  },
  {
   "cell_type": "code",
   "execution_count": 13,
   "metadata": {},
   "outputs": [
    {
     "name": "stdout",
     "output_type": "stream",
     "text": [
      "successfully submitted\n",
      "1.351072e+10 3.682966e+11\n",
      "Difference - 3.547859e+11\n"
     ]
    }
   ],
   "source": [
    "a = [0.0, -1.45799022e-12, -2.28980078e-13,  4.62010753e-11, -1.75214813e-10, -1.83669770e-15,  8.52944060e-16,  2.29423303e-05, -2.04721003e-06, -1.59792834e-08,  9.98214034e-10]\n",
    "x = get_errors(SECRET_KEY, list(a))\n",
    "y = submit(SECRET_KEY, list(a))\n",
    "print(y)\n",
    "print(\"{:e}\".format(int(x[0])), \"{:e}\".format(int(x[1])))\n",
    "print(\"Difference - {:e}\".format(abs(x[0]-x[1])))\n",
    "# 37778024344010.36 - Initial overfit vector"
   ]
  },
  {
   "cell_type": "code",
   "execution_count": 2,
   "metadata": {},
   "outputs": [
    {
     "name": "stdout",
     "output_type": "stream",
     "text": [
      "successfully submitted\n",
      "1.488671e+12 3.620115e+12\n",
      "Difference - 2.131444e+12\n"
     ]
    }
   ],
   "source": [
    "a = [-7.66864824e-01,\n",
    "  -2.88341461e-12,\n",
    "  -2.62271319e-13,\n",
    "   4.62010753e-11,\n",
    "  -1.30750534e-10,\n",
    "  -1.83669770e-15,\n",
    "   8.54007205e-16,\n",
    "   2.40994191e-05,\n",
    "  -2.04721003e-06,\n",
    "  -7.75431992e-09,\n",
    "   8.66774584e-10]\n",
    "x = get_errors(SECRET_KEY, list(a))\n",
    "y = submit(SECRET_KEY, list(a))\n",
    "print(y)\n",
    "print(\"{:e}\".format(int(x[0])), \"{:e}\".format(int(x[1])))\n",
    "print(\"Difference - {:e}\".format(abs(x[0]-x[1])))\n",
    "# 1258064075839.984 rank - 41 1e12"
   ]
  },
  {
   "cell_type": "code",
   "execution_count": null,
   "metadata": {},
   "outputs": [],
   "source": []
  },
  {
   "cell_type": "code",
   "execution_count": 3,
   "metadata": {},
   "outputs": [
    {
     "name": "stdout",
     "output_type": "stream",
     "text": [
      "successfully submitted\n",
      "3.455311e+12 8.520232e+12\n",
      "Difference - 5.064921e+12\n"
     ]
    }
   ],
   "source": [
    "a = [0.00000000e+00,\n",
    "  -1.45799022e-12,\n",
    "  -2.85271995e-13,\n",
    "   4.06797610e-11,\n",
    "  -1.80991365e-10,\n",
    "  -2.05338557e-15,\n",
    "   7.34851835e-16,\n",
    "   2.29423303e-05,\n",
    "  -2.13618885e-06,\n",
    "  -7.03680904e-09,\n",
    "   9.39439452e-10]\n",
    "x = get_errors(SECRET_KEY, list(a))\n",
    "y = submit(SECRET_KEY, list(a))\n",
    "print(y)\n",
    "print(\"{:e}\".format(int(x[0])), \"{:e}\".format(int(x[1])))\n",
    "print(\"Difference - {:e}\".format(abs(x[0]-x[1])))\n",
    "# 1652450458080.0762 rank 44 1e12"
   ]
  },
  {
   "cell_type": "code",
   "execution_count": 25,
   "metadata": {},
   "outputs": [
    {
     "name": "stdout",
     "output_type": "stream",
     "text": [
      "successfully submitted\n",
      "8.586011e+11 4.988239e+11\n",
      "Difference - 3.597772e+11\n"
     ]
    }
   ],
   "source": [
    "a = [-5.27818614e-01,\n",
    "  -1.45799022e-12,\n",
    "  -2.28980078e-13,\n",
    "  4.96789628e-11,\n",
    "  -5.60555202e-11,\n",
    "  -1.83669770e-15,\n",
    "  9.05771208e-16,\n",
    "  2.84400774e-05,\n",
    "  -2.06266293e-06,\n",
    "  -1.44001662e-08,\n",
    "  8.87207442e-10]\n",
    "x = get_errors(SECRET_KEY, list(a))\n",
    "y = submit(SECRET_KEY, list(a))\n",
    "print(y)\n",
    "print(\"{:e}\".format(int(x[0])), \"{:e}\".format(int(x[1])))\n",
    "print(\"Difference - {:e}\".format(abs(x[0]-x[1])))\n",
    "# 5931131664760.863 rank 59 1e12"
   ]
  },
  {
   "cell_type": "code",
   "execution_count": 26,
   "metadata": {},
   "outputs": [
    {
     "name": "stdout",
     "output_type": "stream",
     "text": [
      "successfully submitted\n",
      "2.268456e+12 2.075717e+12\n",
      "Difference - 1.927389e+11\n"
     ]
    }
   ],
   "source": [
    "a = [-5.68633399e-01,\n",
    "  -1.58867405e-12,\n",
    "  -2.92698190e-13,\n",
    "   5.18810623e-11,\n",
    "  -2.15674243e-10,\n",
    "  -9.17346178e-16,\n",
    "   9.55861996e-16,\n",
    "   2.29423303e-05,\n",
    "  -2.58738367e-06,\n",
    "  -7.55777686e-09,\n",
    "   9.84737859e-10]\n",
    "x = get_errors(SECRET_KEY, list(a))\n",
    "y = submit(SECRET_KEY, list(a))\n",
    "print(y)\n",
    "print(\"{:e}\".format(int(x[0])), \"{:e}\".format(int(x[1])))\n",
    "print(\"Difference - {:e}\".format(abs(x[0]-x[1])))\n",
    "# 7491341078561.458 rank - 68 - 1e12"
   ]
  },
  {
   "cell_type": "code",
   "execution_count": 7,
   "metadata": {},
   "outputs": [
    {
     "name": "stdout",
     "output_type": "stream",
     "text": [
      "successfully submitted\n",
      "5.704327e+12 8.530728e+12\n",
      "Difference - 2.826400e+12\n"
     ]
    }
   ],
   "source": [
    "a = [2.29755889e-01\n",
    "  ,-1.77745891e-12\n",
    "  ,-2.28980078e-13\n",
    "  ,5.11135825e-11\n",
    "   ,-2.28325761e-10\n",
    "  ,-1.83669770e-15\n",
    "  ,8.71001054e-16\n",
    "   ,2.29423303e-05\n",
    "   ,-2.27629341e-06\n",
    "  ,-1.44001662e-08\n",
    "  ,9.52001877e-10]\n",
    "x = get_errors(SECRET_KEY, list(a))\n",
    "y = submit(SECRET_KEY, list(a))\n",
    "print(y)\n",
    "print(\"{:e}\".format(int(x[0])), \"{:e}\".format(int(x[1])))\n",
    "print(\"Difference - {:e}\".format(abs(x[0]-x[1])))\n",
    "# 7897326199126.166 rank - 68 - 1e12"
   ]
  },
  {
   "cell_type": "code",
   "execution_count": 9,
   "metadata": {},
   "outputs": [
    {
     "name": "stdout",
     "output_type": "stream",
     "text": [
      "successfully submitted\n",
      "5.999224e+11 1.983016e+12\n",
      "Difference - 1.383094e+12\n"
     ]
    }
   ],
   "source": [
    "a = [-5.68633399e-01,\n",
    "  -1.45799022e-12,\n",
    "  -1.83739356e-13,\n",
    "   5.14594807e-11,\n",
    "  -1.74467562e-10,\n",
    "  -1.83669770e-15,\n",
    "   9.13757823e-16,\n",
    "   2.29423303e-05 ,\n",
    "  -2.04721003e-06,\n",
    "  -1.07032306e-08,\n",
    "   9.20719736e-10]\n",
    "x = get_errors(SECRET_KEY, list(a))\n",
    "y = submit(SECRET_KEY, list(a))\n",
    "print(y)\n",
    "print(\"{:e}\".format(int(x[0])), \"{:e}\".format(int(x[1])))\n",
    "print(\"Difference - {:e}\".format(abs(x[0]-x[1])))\n",
    "# 7008916707719.016 rank - 68 1e12"
   ]
  },
  {
   "cell_type": "code",
   "execution_count": 22,
   "metadata": {},
   "outputs": [
    {
     "name": "stdout",
     "output_type": "stream",
     "text": [
      "successfully submitted\n",
      "3.597480e+11 3.292586e+11\n",
      "Difference - 3.048942e+10\n"
     ]
    }
   ],
   "source": [
    "a = [ 7.44554467e-01, -7.63383729e-13, -2.14317956e-13  ,4.36367676e-11,\n",
    "  -1.80991365e-10, -1.06800633e-15,  9.13757823e-16 , 2.29423303e-05,\n",
    "  -2.01955966e-06, -1.27635688e-08 , 8.77601572e-10]\n",
    "x = get_errors(SECRET_KEY, list(a))\n",
    "y = submit(SECRET_KEY, list(a))\n",
    "print(y)\n",
    "print(\"{:e}\".format(int(x[0])), \"{:e}\".format(int(x[1])))\n",
    "print(\"Difference - {:e}\".format(abs(x[0]-x[1])))\n",
    "# rank 69 - gooood"
   ]
  },
  {
   "cell_type": "code",
   "execution_count": 8,
   "metadata": {},
   "outputs": [
    {
     "name": "stdout",
     "output_type": "stream",
     "text": [
      "successfully submitted\n",
      "3.499386e+12 5.591454e+12\n",
      "Difference - 2.092068e+12\n"
     ]
    }
   ],
   "source": [
    "a = [-5.68633399e-01\n",
    "  , -2.29440194e-12\n",
    " ,-2.05412226e-13\n",
    "  , 5.38443788e-11\n",
    "   ,-2.20626342e-10\n",
    "  ,-1.10837392e-15\n",
    "  ,8.19617556e-16\n",
    "   ,2.27309582e-05\n",
    "   ,-2.25661128e-06\n",
    "  ,-1.44001662e-08\n",
    "  ,9.52001877e-10]\n",
    "x = get_errors(SECRET_KEY, list(a))\n",
    "y = submit(SECRET_KEY, list(a))\n",
    "print(y)\n",
    "print(\"{:e}\".format(int(x[0])), \"{:e}\".format(int(x[1])))\n",
    "print(\"Difference - {:e}\".format(abs(x[0]-x[1])))\n",
    "# 8963218049205.11 rank - 70 - 1e12"
   ]
  },
  {
   "cell_type": "code",
   "execution_count": 10,
   "metadata": {},
   "outputs": [
    {
     "name": "stdout",
     "output_type": "stream",
     "text": [
      "successfully submitted\n",
      "1.710771e+12 1.363873e+12\n",
      "Difference - 3.468984e+11\n"
     ]
    }
   ],
   "source": [
    "a = [-4.98138646e-01,\n",
    "  -2.53138851e-12,\n",
    "  -2.28980078e-13,\n",
    " 4.96789628e-11,\n",
    "  -5.35690270e-11,\n",
    "  -2.57646449e-15,\n",
    "  9.05771208e-16,\n",
    "  2.61581210e-05,\n",
    "  -2.01955966e-06,\n",
    "  -1.44001662e-08,\n",
    "  8.87207442e-10]\n",
    "x = get_errors(SECRET_KEY, list(a))\n",
    "y = submit(SECRET_KEY, list(a))\n",
    "print(y)\n",
    "print(\"{:e}\".format(int(x[0])), \"{:e}\".format(int(x[1])))\n",
    "print(\"Difference - {:e}\".format(abs(x[0]-x[1])))\n",
    "# 9757269601758.062 rank - 72"
   ]
  },
  {
   "cell_type": "code",
   "execution_count": 11,
   "metadata": {},
   "outputs": [
    {
     "name": "stdout",
     "output_type": "stream",
     "text": [
      "successfully submitted\n",
      "2.961853e+12 7.818155e+12\n",
      "Difference - 4.856302e+12\n"
     ]
    }
   ],
   "source": [
    "a = [0.00000000e+00,\n",
    "  -1.45799022e-12,\n",
    "  -1.85212170e-13,\n",
    "   4.05006906e-11,\n",
    "  -1.07077231e-10,\n",
    "  -1.83669770e-15,\n",
    "   9.13757823e-16,\n",
    "   2.12147040e-05,\n",
    "  -2.04721003e-06,\n",
    "  -9.61377833e-09,\n",
    "   9.61740049e-10]\n",
    "x = get_errors(SECRET_KEY, list(a))\n",
    "y = submit(SECRET_KEY, list(a))\n",
    "print(y)\n",
    "print(\"{:e}\".format(int(x[0])), \"{:e}\".format(int(x[1])))\n",
    "print(\"Difference - {:e}\".format(abs(x[0]-x[1])))\n",
    "# 10612249660568.438 rank 72 1e13"
   ]
  },
  {
   "cell_type": "code",
   "execution_count": 20,
   "metadata": {},
   "outputs": [
    {
     "name": "stdout",
     "output_type": "stream",
     "text": [
      "successfully submitted\n",
      "2.953186e+12 2.679682e+12\n",
      "Difference - 2.735040e+11\n"
     ]
    }
   ],
   "source": [
    "a = [-4.59411449e-01, -1.77878712e-12, -2.96524551e-13,  3.10056368e-11,\n",
    "  -7.74365001e-11, -2.59835189e-15,  8.42629940e-16,  3.43406874e-05,\n",
    "  -2.01955966e-06, -1.82532952e-08,  8.77718244e-10]\n",
    "x = get_errors(SECRET_KEY, list(a))\n",
    "y = submit(SECRET_KEY, list(a))\n",
    "print(y)\n",
    "print(\"{:e}\".format(int(x[0])), \"{:e}\".format(int(x[1])))\n",
    "print(\"Difference - {:e}\".format(abs(x[0]-x[1])))\n",
    "# rank - 72 promising 1e12 - better than this 7008916707719.016 rank - 53 1e12"
   ]
  },
  {
   "cell_type": "code",
   "execution_count": 12,
   "metadata": {},
   "outputs": [
    {
     "name": "stdout",
     "output_type": "stream",
     "text": [
      "successfully submitted\n",
      "6.919030e+11 2.353180e+12\n",
      "Difference - 1.661277e+12\n"
     ]
    }
   ],
   "source": [
    "a = [ -6.31687240e-01\n",
    " , -2.26154910e-12\n",
    " , -2.28980078e-13\n",
    "  ,  5.10207709e-11\n",
    "   , -2.41329710e-10\n",
    "  , -1.83669770e-15\n",
    ",  8.95648980e-16\n",
    "  ,  3.08923167e-05\n",
    "   , -2.01955966e-06\n",
    "  , -1.59792834e-08\n",
    "  ,9.52001877e-10]\n",
    "x = get_errors(SECRET_KEY, list(a))\n",
    "y = submit(SECRET_KEY, list(a))\n",
    "print(y)\n",
    "print(\"{:e}\".format(int(x[0])), \"{:e}\".format(int(x[1])))\n",
    "print(\"Difference - {:e}\".format(abs(x[0]-x[1])))\n",
    "# 17014937638995.855 rank - 84 1e13"
   ]
  },
  {
   "cell_type": "code",
   "execution_count": null,
   "metadata": {},
   "outputs": [],
   "source": []
  },
  {
   "cell_type": "code",
   "execution_count": null,
   "metadata": {},
   "outputs": [],
   "source": []
  },
  {
   "cell_type": "code",
   "execution_count": null,
   "metadata": {},
   "outputs": [],
   "source": []
  },
  {
   "cell_type": "code",
   "execution_count": null,
   "metadata": {},
   "outputs": [],
   "source": []
  },
  {
   "cell_type": "code",
   "execution_count": null,
   "metadata": {},
   "outputs": [],
   "source": []
  },
  {
   "cell_type": "code",
   "execution_count": null,
   "metadata": {},
   "outputs": [],
   "source": []
  },
  {
   "cell_type": "code",
   "execution_count": 13,
   "metadata": {},
   "outputs": [
    {
     "name": "stdout",
     "output_type": "stream",
     "text": [
      "successfully submitted\n",
      "8.430587e+10 6.286351e+11\n",
      "Difference - 5.443293e+11\n"
     ]
    }
   ],
   "source": [
    "a = [0.00000000e+00,\n",
    "  -1.45799022e-12,\n",
    "  -2.85271995e-13,\n",
    "  4.29319782e-11,\n",
    "  -1.17162629e-10,\n",
    "  -1.98086983e-15,\n",
    "  7.73198732e-16,\n",
    "  2.29423303e-05,\n",
    "  -2.01955966e-06,\n",
    "  -1.31875562e-08,\n",
    "  9.40255586e-10]\n",
    "x = get_errors(SECRET_KEY, list(a))\n",
    "y = submit(SECRET_KEY, list(a))\n",
    "print(y)\n",
    "print(\"{:e}\".format(int(x[0])), \"{:e}\".format(int(x[1])))\n",
    "print(\"Difference - {:e}\".format(abs(x[0]-x[1])))\n",
    "# 17442280913180.068 rank - 85 - 1e13"
   ]
  },
  {
   "cell_type": "code",
   "execution_count": 14,
   "metadata": {},
   "outputs": [
    {
     "name": "stdout",
     "output_type": "stream",
     "text": [
      "successfully submitted\n",
      "1.373972e+11 1.604119e+11\n",
      "Difference - 2.301467e+10\n"
     ]
    }
   ],
   "source": [
    "a = [  -5.04459814e-01,\n",
    "  -1.61483533e-12,\n",
    "  -2.28980078e-13,\n",
    "   4.48644641e-11,\n",
    "  -1.80991365e-10,\n",
    "  -1.83669770e-15,\n",
    "   9.51655647e-16,\n",
    "   2.29423303e-05,\n",
    "  -2.01955966e-06,\n",
    "  -1.44001662e-08,\n",
    "   9.38594820e-10]\n",
    "x = get_errors(SECRET_KEY, list(a))\n",
    "y = submit(SECRET_KEY, list(a))\n",
    "print(y)\n",
    "print(\"{:e}\".format(int(x[0])), \"{:e}\".format(int(x[1])))\n",
    "print(\"Difference - {:e}\".format(abs(x[0]-x[1])))\n",
    "# 21366927436349.996 rank 90 - 1e13"
   ]
  },
  {
   "cell_type": "code",
   "execution_count": 15,
   "metadata": {},
   "outputs": [
    {
     "name": "stdout",
     "output_type": "stream",
     "text": [
      "successfully submitted\n",
      "5.139076e+10 5.842607e+11\n",
      "Difference - 5.328699e+11\n"
     ]
    }
   ],
   "source": [
    "a = [-2.62722513e-01,-1.45799022e-12,-2.28980078e-13,  4.62010753e-11,-1.11881811e-10 ,-1.83669770e-15,8.52944060e-16,2.29423303e-05,-2.04721003e-06,-1.44121402e-08,9.73201690e-10]\n",
    "x = get_errors(SECRET_KEY, list(a))\n",
    "y = submit(SECRET_KEY, list(a))\n",
    "print(y)\n",
    "print(\"{:e}\".format(int(x[0])), \"{:e}\".format(int(x[1])))\n",
    "print(\"Difference - {:e}\".format(abs(x[0]-x[1])))\n",
    "# \t25492566043837.168 rank - 94 1e13"
   ]
  },
  {
   "cell_type": "code",
   "execution_count": 16,
   "metadata": {},
   "outputs": [
    {
     "name": "stdout",
     "output_type": "stream",
     "text": [
      "successfully submitted\n",
      "2.924344e+10 3.016227e+11\n",
      "Difference - 2.723793e+11\n"
     ]
    }
   ],
   "source": [
    "a = [ -5.68633399e-01,\n",
    "  -1.45799022e-12,\n",
    "  -2.28980078e-13,\n",
    "  4.62010753e-11,\n",
    "  -1.80991365e-10,\n",
    "  -1.83669770e-15,\n",
    "  9.13757823e-16,\n",
    "  2.29423303e-05,\n",
    "  -2.01955966e-06,\n",
    "  -1.44001662e-08,\n",
    "  9.52001877e-10]\n",
    "x = get_errors(SECRET_KEY, list(a))\n",
    "y = submit(SECRET_KEY, list(a))\n",
    "print(y)\n",
    "print(\"{:e}\".format(int(x[0])), \"{:e}\".format(int(x[1])))\n",
    "print(\"Difference - {:e}\".format(abs(x[0]-x[1])))\n",
    "# 23763790796267.46 rank - 92 - 1e13"
   ]
  },
  {
   "cell_type": "code",
   "execution_count": 17,
   "metadata": {},
   "outputs": [
    {
     "name": "stdout",
     "output_type": "stream",
     "text": [
      "successfully submitted\n",
      "8.405416e+11 1.368953e+12\n",
      "Difference - 5.284114e+11\n"
     ]
    }
   ],
   "source": [
    "a = [-6.10270969e-01\n",
    ",-2.29440194e-12\n",
    ",-2.55302735e-13\n",
    ",4.56360385e-11\n",
    ",-1.28255307e-10\n",
    ",-9.69631610e-16\n",
    ",7.85465239e-16\n",
    ", 2.38244361e-05\n",
    ",-2.29014691e-06\n",
    ",-1.59792834e-08\n",
    ",  1.03250906e-09]\n",
    "x = get_errors(SECRET_KEY, list(a))\n",
    "y = submit(SECRET_KEY, list(a))\n",
    "print(y)\n",
    "print(\"{:e}\".format(int(x[0])), \"{:e}\".format(int(x[1])))\n",
    "print(\"Difference - {:e}\".format(abs(x[0]-x[1])))\n",
    "# 21337204701964.9 rank - 90 1e13"
   ]
  },
  {
   "cell_type": "code",
   "execution_count": 18,
   "metadata": {},
   "outputs": [
    {
     "name": "stdout",
     "output_type": "stream",
     "text": [
      "successfully submitted\n",
      "3.835399e+12 4.518256e+12\n",
      "Difference - 6.828576e+11\n"
     ]
    }
   ],
   "source": [
    "a = [-5.68633399e-01\n",
    "  ,-1.45799022e-12,-1.56144918e-13,4.62010753e-11,-2.02018234e-10,-2.57646449e-15,9.05213261e-16\n",
    "  ,2.82097959e-05,-2.09367665e-06,-1.85126145e-08,9.52001877e-10]\n",
    "x = get_errors(SECRET_KEY, list(a))\n",
    "y = submit(SECRET_KEY, list(a))\n",
    "print(y)\n",
    "print(\"{:e}\".format(int(x[0])), \"{:e}\".format(int(x[1])))\n",
    "print(\"Difference - {:e}\".format(abs(x[0]-x[1])))\n",
    "# 24672407592469.223 rank - 70 1e13"
   ]
  },
  {
   "cell_type": "code",
   "execution_count": 11,
   "metadata": {},
   "outputs": [
    {
     "name": "stdout",
     "output_type": "stream",
     "text": [
      "successfully submitted\n",
      "1.673058e+12 4.847871e+12\n",
      "Difference - 3.174813e+12\n"
     ]
    }
   ],
   "source": [
    "a = [-5.68633399e-01,\n",
    "  -1.45799022e-12,\n",
    "  -2.85271995e-13,\n",
    "   4.29319782e-11,\n",
    "  -1.80991365e-10,\n",
    "  -1.66284976e-15,\n",
    "   9.13757823e-16,\n",
    "   2.29423303e-05,\n",
    "  -2.01955966e-06,\n",
    "  -1.31875562e-08,\n",
    "   9.84737859e-10]\n",
    "x = get_errors(SECRET_KEY, list(a))\n",
    "y = submit(SECRET_KEY, list(a))\n",
    "print(y)\n",
    "print(\"{:e}\".format(int(x[0])), \"{:e}\".format(int(x[1])))\n",
    "print(\"Difference - {:e}\".format(abs(x[0]-x[1])))\n",
    "# 25115624598532.1 rank - 71 - 1e13"
   ]
  },
  {
   "cell_type": "code",
   "execution_count": 34,
   "metadata": {},
   "outputs": [
    {
     "name": "stdout",
     "output_type": "stream",
     "text": [
      "successfully submitted\n",
      "2.037136e+12 2.089572e+12\n",
      "Difference - 5.243587e+10\n"
     ]
    }
   ],
   "source": [
    "a = [-5.17282889e-01,\n",
    "  -2.08678731e-12,\n",
    "  -2.96524551e-13,\n",
    "  5.47452804e-11,\n",
    "  -1.34763174e-10,\n",
    "  -2.71716631e-15,\n",
    "  8.42629940e-16,\n",
    "  1.80386099e-05,\n",
    "  -2.01955966e-06,\n",
    "  -1.31450989e-08,\n",
    "  9.27270839e-10]\n",
    "x = get_errors(SECRET_KEY, list(a))\n",
    "y = submit(SECRET_KEY, list(a))\n",
    "print(y)\n",
    "print(\"{:e}\".format(int(x[0])), \"{:e}\".format(int(x[1])))\n",
    "print(\"Difference - {:e}\".format(abs(x[0]-x[1])))\n",
    "# \t22753313288364.55 rank - 71"
   ]
  },
  {
   "cell_type": "code",
   "execution_count": 20,
   "metadata": {},
   "outputs": [
    {
     "name": "stdout",
     "output_type": "stream",
     "text": [
      "successfully submitted\n",
      "5.760850e+11 7.603520e+11\n",
      "Difference - 1.842670e+11\n"
     ]
    }
   ],
   "source": [
    "a = [0.00000000e+00,-1.77745891e-12,-2.28980078e-13,5.39109940e-11, -1.59442085e-10\n",
    "  ,-1.83669770e-15,8.52944060e-16,2.29423303e-05,-2.27629341e-06,-1.59792834e-08,1.06096881e-09]\n",
    "x = get_errors(SECRET_KEY, list(a))\n",
    "y = submit(SECRET_KEY, list(a))\n",
    "print(y)\n",
    "print(\"{:e}\".format(int(x[0])), \"{:e}\".format(int(x[1])))\n",
    "print(\"Difference - {:e}\".format(abs(x[0]-x[1])))\n",
    "# \t29354064052614.74 rank 76 1e13"
   ]
  },
  {
   "cell_type": "code",
   "execution_count": null,
   "metadata": {},
   "outputs": [],
   "source": []
  },
  {
   "cell_type": "code",
   "execution_count": null,
   "metadata": {},
   "outputs": [],
   "source": []
  }
 ],
 "metadata": {
  "kernelspec": {
   "display_name": "science2_env",
   "language": "python",
   "name": "science2_env"
  },
  "language_info": {
   "codemirror_mode": {
    "name": "ipython",
    "version": 3
   },
   "file_extension": ".py",
   "mimetype": "text/x-python",
   "name": "python",
   "nbconvert_exporter": "python",
   "pygments_lexer": "ipython3",
   "version": "3.8.5"
  }
 },
 "nbformat": 4,
 "nbformat_minor": 4
}
