{
 "cells": [
  {
   "cell_type": "code",
   "execution_count": 5,
   "metadata": {},
   "outputs": [],
   "source": [
    "# A generic genetic algorithm\n",
    "import random\n",
    "import numpy as np\n",
    "import matplotlib.pyplot as plt\n",
    "from client import get_errors, get_overfit_vector, submit\n",
    "from io import StringIO\n",
    "from config import SECRET_KEY\n",
    "from utils import POPULATION_SIZE, SPLIT_POINT, FEATURE_VECTOR_SIZE, MUTATION_COEFF\n",
    "from helpers import mkdir_p, get_train_validation_errors, get_rank_and_probabilities, fitness, select_parents, cross_over, mutate, plot_graph, initialize_params, select_the_best, return_elite, list_to_array, file_name, return_order, single_mutate\n",
    "\n",
    "from errno import EEXIST\n",
    "from os import makedirs, path"
   ]
  },
  {
   "cell_type": "code",
   "execution_count": 7,
   "metadata": {},
   "outputs": [
    {
     "name": "stdout",
     "output_type": "stream",
     "text": [
      "10 11\n",
      "(11, 10)\n"
     ]
    }
   ],
   "source": [
    "params = [[ 0.00000000e+00, -5.68633399e-01, -5.17282889e-01, -6.41463106e-01,\n",
    "  -5.98672565e-01, -5.97929196e-01, -6.26492274e-01, -5.68633399e-01,\n",
    "  -6.53569495e-01,  0.00000000e+00],\n",
    " [-1.76734494e-12, -1.45799022e-12, -2.08678731e-12, -2.08678731e-12,\n",
    "  -1.77878712e-12, -1.91960804e-12, -1.70299886e-12, -1.70695779e-12,\n",
    "  -1.76734494e-12, -2.53152510e-12],\n",
    " [-2.28980078e-13, -2.28980078e-13, -2.96524551e-13, -2.99562728e-13,\n",
    "  -2.31322864e-13, -2.26710394e-13, -2.28980078e-13, -2.28980078e-13,\n",
    "  -2.72002907e-13, -2.28980078e-13],\n",
    " [ 4.62010753e-11,  4.62010753e-11,  5.47452804e-11,  4.62010753e-11,\n",
    "   3.94290600e-11,  4.62010753e-11,  5.05459385e-11,  5.22893435e-11,\n",
    "   4.62010753e-11,  4.71069867e-11],\n",
    " [-1.30750534e-10, -1.80991365e-10, -1.34763174e-10, -2.69663554e-10,\n",
    "  -1.80991365e-10, -2.59374976e-10, -1.30750534e-10, -2.10388150e-10,\n",
    "  -1.30750534e-10, -1.80991365e-10],\n",
    " [-1.83669770e-15, -1.83669770e-15, -2.71716631e-15, -2.71716631e-15,\n",
    "  -2.59835189e-15, -1.47106155e-15, -1.83669770e-15, -1.16398653e-15,\n",
    "  -2.51641806e-15, -1.83669770e-15],\n",
    " [ 8.19617556e-16,  9.13757823e-16,  8.42629940e-16,  8.19617556e-16,\n",
    "   9.39349682e-16,  9.13757823e-16,  8.73371704e-16,  8.34754390e-16,\n",
    "   9.13757823e-16,  9.13757823e-16],\n",
    " [ 2.29423303e-05,  2.29423303e-05,  1.80386099e-05,  2.73916806e-05,\n",
    "   3.43406874e-05,  1.83839004e-05,  2.29423303e-05,  2.29423303e-05,\n",
    "   2.29423303e-05,  3.14682824e-05],\n",
    " [-2.04721003e-06, -2.01955966e-06, -2.01955966e-06, -1.77209003e-06,\n",
    "  -1.77265950e-06, -2.01955966e-06, -2.04721003e-06, -1.84126283e-06,\n",
    "  -1.30150493e-06, -2.01955966e-06],\n",
    " [-1.59792834e-08, -1.44001662e-08, -1.31450989e-08, -1.31450989e-08,\n",
    "  -1.82532952e-08, -2.12693460e-08, -1.75772562e-08, -8.70138742e-09,\n",
    "  -2.45251138e-08, -1.44001662e-08],\n",
    " [ 9.98214034e-10,  9.52001877e-10,  9.27270839e-10,  9.52001877e-10,\n",
    "   9.61020826e-10,  9.52001877e-10,  9.98214034e-10,  9.52001877e-10,\n",
    "   9.11227342e-10,  1.02790280e-09]]\n",
    "print(len(params[0]), len(params))\n",
    "params = np.array(params)\n",
    "print(params.shape)"
   ]
  },
  {
   "cell_type": "code",
   "execution_count": 6,
   "metadata": {},
   "outputs": [
    {
     "name": "stdout",
     "output_type": "stream",
     "text": [
      "[-2.15295851e+11 -1.59524424e+11 -2.24860035e+12 -4.77654336e+12\n",
      " -6.92767302e+12 -9.24321512e+11]\n",
      "Rank array\n",
      "[ 2  1  4  5 10  9  7  6  3  8]\n",
      "All errors\n",
      "[[215295851100.63748, 352399237241.1149], [159524423850.7365, 172043915843.48886], [2248600347452.5396, 6032518918837.536], [4776543358992.06, 6432962528949.902], [73828344426971.81, 146926878297015.03], [59063347858673.46, 109749490577341.1], [38350009416495.96, 80081020281725.9], [6927673023198.585, 15557134627620.754], [924321511717.2819, 1918784439286.239], [56822754522372.55, 109268522261288.52]]\n",
      "Best offspring Gen errors\n",
      "[[1.59524424e+11 1.72043916e+11]\n",
      " [0.00000000e+00 0.00000000e+00]\n",
      " [0.00000000e+00 0.00000000e+00]\n",
      " [0.00000000e+00 0.00000000e+00]\n",
      " [0.00000000e+00 0.00000000e+00]]\n",
      "What's the matter with you\n",
      "What's the matter with you\n",
      "What's the matter with you\n",
      "What's the matter with you\n",
      "[-2.15295851e+11 -1.59524424e+11 -5.11127748e+10 -1.78785537e+11\n",
      " -3.28048886e+12 -6.08276693e+11]\n",
      "Rank array\n",
      "[ 4  2  1  3  6  5 10  7  8  9]\n",
      "All errors\n",
      "[[215295851100.63748, 352399237241.1149], [159524423850.7365, 172043915843.48886], [51112774753.491646, 321721705468.5919], [178785537357.3556, 607084423678.8528], [3280488858893.652, 3796711282274.229], [608276693196.0172, 631313843286.5774], [349337580252573.44, 672555531648706.5], [4327170187247.8633, 9293158913902.584], [4623235598186.146, 11072391946930.578], [10223172866366.52, 22261498967264.88]]\n",
      "Best offspring Gen errors\n",
      "[[1.59524424e+11 1.72043916e+11]\n",
      " [5.11127748e+10 3.21721705e+11]\n",
      " [0.00000000e+00 0.00000000e+00]\n",
      " [0.00000000e+00 0.00000000e+00]\n",
      " [0.00000000e+00 0.00000000e+00]]\n",
      "What's the matter with you\n",
      "What's the matter with you\n",
      "What's the matter with you\n",
      "What's the matter with you\n",
      "[-1.59524424e+11 -5.11127748e+10 -1.82217091e+11 -2.65135183e+12\n",
      " -2.83174088e+12 -6.81327846e+12]\n",
      "Rank array\n",
      "[ 2  1  7  3  4  9 10  8  5  6]\n",
      "All errors\n",
      "[[159524423850.7365, 172043915843.48886], [51112774753.491646, 321721705468.5919], [12044530325005.254, 19423688241744.79], [182217090543.7572, 202535684546.57156], [2651351829833.3735, 6611873362806.492], [62384739324362.02, 129718972914681.1], [73043857547040.47, 158096611064526.56], [33876322747436.15, 57004976636127.11], [2831740884295.8306, 3896655569653.1016], [6813278455952.069, 11291138243842.135]]\n",
      "Best offspring Gen errors\n",
      "[[1.59524424e+11 1.72043916e+11]\n",
      " [5.11127748e+10 3.21721705e+11]\n",
      " [5.11127748e+10 3.21721705e+11]\n",
      " [0.00000000e+00 0.00000000e+00]\n",
      " [0.00000000e+00 0.00000000e+00]]\n",
      "What's the matter with you\n",
      "What's the matter with you\n",
      "What's the matter with you\n",
      "What's the matter with you\n",
      "[-1.59524424e+11 -5.11127748e+10 -3.69967266e+11 -1.30943603e+12\n",
      " -5.32070793e+12 -3.02475302e+12]\n",
      "Rank array\n",
      "[ 2  1  8 10  3  7  9  4  6  5]\n",
      "All errors\n",
      "[[159524423850.7365, 172043915843.48886], [51112774753.491646, 321721705468.5919], [13991474675949.72, 31293804501319.383], [88208787098992.78, 162862464931430.16], [369967266192.4027, 1323324896873.8972], [12291207475705.71, 19581317984846.44], [14509970133176.824, 23788944014100.805], [1309436029802.8584, 1420626496002.424], [5320707933717.949, 11707000172937.652], [3024753016585.833, 4670114319094.152]]\n",
      "Best offspring Gen errors\n",
      "[[1.59524424e+11 1.72043916e+11]\n",
      " [5.11127748e+10 3.21721705e+11]\n",
      " [5.11127748e+10 3.21721705e+11]\n",
      " [5.11127748e+10 3.21721705e+11]\n",
      " [0.00000000e+00 0.00000000e+00]]\n",
      "What's the matter with you\n",
      "What's the matter with you\n",
      "What's the matter with you\n",
      "What's the matter with you\n",
      "[-1.59524424e+11 -5.11127748e+10 -1.18573857e+12 -6.35487008e+11\n",
      " -6.42266412e+11 -8.83855645e+10]\n",
      "Rank array\n",
      "[ 3  1  7  6  4  5 10  2  8  9]\n",
      "All errors\n",
      "[[159524423850.7365, 172043915843.48886], [51112774753.491646, 321721705468.5919], [14100800737681.598, 24762149478924.137], [1185738570917.8394, 990928573224.3743], [635487007668.7834, 229566015760.66534], [642266412234.2676, 691071839829.8865], [137651037241881.45, 265071594714656.25], [88385564472.86227, 631391450168.7366], [14932340542062.775, 24774457804598.027], [15913963472750.865, 36912953422704.69]]\n",
      "Best offspring Gen errors\n",
      "[[1.59524424e+11 1.72043916e+11]\n",
      " [5.11127748e+10 3.21721705e+11]\n",
      " [5.11127748e+10 3.21721705e+11]\n",
      " [5.11127748e+10 3.21721705e+11]\n",
      " [5.11127748e+10 3.21721705e+11]]\n",
      "What's the matter with you\n",
      "What's the matter with you\n",
      "What's the matter with you\n",
      "What's the matter with you\n"
     ]
    },
    {
     "name": "stderr",
     "output_type": "stream",
     "text": [
      "/home/vishal/Volume_D/sem_4/Courses/Machine, Data and Learning/Assignments/Official Github Repo/MDL/Genetic Assignment/helpers.py:192: UserWarning: Matplotlib is currently using module://ipykernel.pylab.backend_inline, which is a non-GUI backend, so cannot show the figure.\n",
      "  fig.show()\n"
     ]
    },
    {
     "data": {
      "image/png": "[encoded data removed]",
      "text/plain": [
       "<Figure size 432x288 with 1 Axes>"
      ]
     },
     "metadata": {
      "needs_background": "light"
     },
     "output_type": "display_data"
    }
   ],
   "source": [
    "init_overfit_params, init_params = initialize_params()\n",
    "NO_OF_GENERATIONS = 5\n",
    "generation_errors = np.zeros(shape=(NO_OF_GENERATIONS, 2), dtype=float)\n",
    "params = np.zeros(shape=(11, POPULATION_SIZE), dtype=float)\n",
    "np.copyto(params, init_params)\n",
    "print(\"Initial params:\\n\")\n",
    "print(init_params)\n",
    "#target_directory = \"Results/3-04/run2\"\n",
    "target_directory = file_name()\n",
    "mkdir_p(target_directory)\n",
    "f = open(\"{}/params.txt\".format(target_directory), \"w\")\n",
    "#f.write(\"Run 3 of 3rd March is continued, we started with the final parameters of previous run i.e. run3 and simulated x more generations where x =\\n\" + str(NO_OF_GENERATIONS) + \"\\n\")\n",
    "f.write(\"Fitness funtion: -1 * (train_error)\\n\")\n",
    "f.write(\"Initialed with the best that we have until now\\n\")\n",
    "f.write(\"Starting all over again with new root population\\n\")\n",
    "f.write(\"No of generations: \" + str(NO_OF_GENERATIONS) + \"\\n\")\n",
    "f.write(\"Population size: \" + str(POPULATION_SIZE) + \"\\n\")\n",
    "f.write(\"Mutation coefficient: \" + str(MUTATION_COEFF) + \"\\n\")\n",
    "f.write(\"Split point: \" + str(SPLIT_POINT) + \"\\n\")\n",
    "f.write(\"Two offspring per pair\\n\")\n",
    "\n",
    "Col_vec = np.zeros(shape=(NO_OF_GENERATIONS, POPULATION_SIZE, 11), dtype=float)\n",
    "for i in range(NO_OF_GENERATIONS):\n",
    "    Col_vec[i, :, :] += np.transpose(np.array(params))\n",
    "    train_validation_errors = None\n",
    "    fitness_score_array = None\n",
    "    rank_array = None\n",
    "    # fitness\n",
    "    train_validation_errors = get_train_validation_errors(SECRET_KEY, POPULATION_SIZE, params)\n",
    "    fitness_score_array = fitness(np.array(train_validation_errors))\n",
    "    rank_array, selection_prob = get_rank_and_probabilities(fitness_score_array)\n",
    "    elite_parents = return_elite(rank_array, POPULATION_SIZE, 2)\n",
    "    final_parents = select_the_best(rank_array, POPULATION_SIZE, int(POPULATION_SIZE*0.6))\n",
    "    parents = []\n",
    "    parent_fitness = np.zeros(shape = (len(final_parents), ), dtype = float)\n",
    "    k = 0\n",
    "    temp_errors = list_to_array(train_validation_errors)\n",
    "    elite_params = []\n",
    "    for j in elite_parents:\n",
    "        elite_params.append(params[:, j])\n",
    "        #parent_fitness[k] = fitness_score_array[j]\n",
    "        #k += 1\n",
    "    for j in final_parents:\n",
    "        parents.append(params[:, j])\n",
    "        parent_fitness[k] = fitness_score_array[j]\n",
    "        k += 1\n",
    "    print(parent_fitness)\n",
    "    # Parents are ready\n",
    "    elite_params = list_to_array(elite_params)\n",
    "    parents = list_to_array(parents)\n",
    "    parent_rank_array, parent_selection_prob = get_rank_and_probabilities(parent_fitness)\n",
    "    \n",
    "    f.write(\"\\nPopulation:\\n\")\n",
    "    f.write(str(np.transpose(np.array(params))))\n",
    "    f.write(\"\\nTrain validation errors\\n\")\n",
    "    f.write(str(np.array(train_validation_errors)))\n",
    "    f.write(\"\\nSelected parents:\\n\")\n",
    "    f.write(str(np.transpose(np.array(parents))))\n",
    "    for j in range(POPULATION_SIZE):\n",
    "        if rank_array[j]==1:\n",
    "            generation_errors[i, :] += train_validation_errors[j]\n",
    "    print(\"Rank array\")\n",
    "    print(rank_array)\n",
    "    print(\"All errors\")\n",
    "    print(train_validation_errors)\n",
    "    print(\"Best offspring Gen errors\")\n",
    "    print(generation_errors)\n",
    "    # crossover and mutation\n",
    "    temp_count = 2\n",
    "    offspring_params = np.zeros(shape=(11, POPULATION_SIZE), dtype=float)\n",
    "    offspring_params[:, 0] = elite_params[0, :]\n",
    "    offspring_params[:, 1] = elite_params[1, :]\n",
    "    cross_over_offspring_and_parents = np.zeros(shape=(POPULATION_SIZE, 3, 11))\n",
    "    while temp_count < POPULATION_SIZE:\n",
    "        k, l = select_parents(parent_selection_prob)\n",
    "        #print(k, l)\n",
    "        print(\"What's the matter with you\")\n",
    "        offspring1, offspring2 = cross_over(parents[k, :], parents[l, :], SPLIT_POINT)\n",
    "        #print(offspring)\n",
    "        offspring1 = mutate(offspring1)\n",
    "        offspring2 = mutate(offspring2)\n",
    "        #print(offspring)\n",
    "        offspring_params[:, temp_count] += offspring1[:]\n",
    "        offspring_params[:, temp_count+1] += offspring2[:]\n",
    "        #print(offspring_params)\n",
    "        temp_count += 2\n",
    "    #print(\"Errors\")\n",
    "    #print(generation_errors)\n",
    "    #print(\"params\")\n",
    "    #print(offspring_params)\n",
    "    f.write(\"\\nAfter cross over and mutation:\\n\")\n",
    "    f.write(str(np.transpose(np.array(offspring_params))))\n",
    "    np.copyto(params, offspring_params)\n",
    "f.write('Best offspring gen errors:\\n')\n",
    "f.write(str(generation_errors))\n",
    "f.close()\n",
    "plot_graph(NO_OF_GENERATIONS, generation_errors, target_directory)"
   ]
  },
  {
   "cell_type": "code",
   "execution_count": 7,
   "metadata": {},
   "outputs": [
    {
     "data": {
      "text/plain": [
       "array([[[-8.82646063e-01, -1.40551374e-12, -2.72328283e-13,\n",
       "          4.30878207e-11, -2.28864960e-10, -1.20809573e-15,\n",
       "          8.57463659e-16,  2.29423303e-05, -2.04721003e-06,\n",
       "         -1.77183268e-08,  9.98214034e-10],\n",
       "        [-8.82646063e-01, -3.04240243e-12, -2.78631790e-13,\n",
       "          6.04360560e-11, -2.28864960e-10, -1.86060132e-15,\n",
       "          8.87078986e-16,  2.39063190e-05, -2.04721003e-06,\n",
       "         -1.54381848e-08,  9.61918560e-10],\n",
       "        [-8.82646063e-01, -2.94015583e-12, -2.68160228e-13,\n",
       "          6.39839277e-11, -3.05168992e-10, -1.34904782e-15,\n",
       "          7.90679648e-16,  3.25485004e-05, -1.87338177e-06,\n",
       "         -2.00363604e-08,  9.81420891e-10],\n",
       "        [-8.82646063e-01, -2.94015583e-12, -2.68160228e-13,\n",
       "          6.39839277e-11, -2.38207864e-10, -1.80244727e-15,\n",
       "          9.68735505e-16,  3.13255070e-05, -2.50413596e-06,\n",
       "         -3.16009089e-09,  9.24647083e-10],\n",
       "        [-8.82646063e-01, -2.26674827e-12, -2.43268043e-13,\n",
       "          7.01542457e-11, -2.02152538e-10, -7.77514035e-16,\n",
       "          8.49738440e-16,  2.05450900e-05, -1.05839759e-06,\n",
       "         -1.54381848e-08,  9.61918560e-10],\n",
       "        [-8.82646063e-01, -1.32648809e-12, -2.76189646e-13,\n",
       "          6.04360560e-11, -1.73491070e-10, -1.11924807e-15,\n",
       "          8.49738440e-16,  2.41641846e-05, -2.59829604e-06,\n",
       "         -2.03590004e-08,  9.31860189e-10],\n",
       "        [-9.28907999e-01, -8.14332342e-13, -2.44936232e-13,\n",
       "          4.30878207e-11, -2.28864960e-10, -1.20809573e-15,\n",
       "          8.24971831e-16,  2.49014829e-05, -1.68446374e-06,\n",
       "         -9.77650433e-09,  9.74958789e-10],\n",
       "        [-8.82646063e-01, -2.94015583e-12, -2.94299108e-13,\n",
       "          6.04360560e-11, -2.22977507e-10, -1.11924807e-15,\n",
       "          8.44299127e-16,  3.13255070e-05, -2.04721003e-06,\n",
       "         -1.78188603e-08,  1.06771889e-09],\n",
       "        [-8.82646063e-01, -3.67298285e-12, -2.94299108e-13,\n",
       "          6.04360560e-11, -2.22977507e-10, -1.11924807e-15,\n",
       "          8.44553953e-16,  3.85053301e-05, -1.69140840e-06,\n",
       "         -2.97679053e-08,  1.01051837e-09],\n",
       "        [-8.82646063e-01, -3.04240243e-12, -2.32989112e-13,\n",
       "          6.98918643e-11, -2.28864960e-10, -1.19968627e-15,\n",
       "          8.79941915e-16,  1.80446807e-05, -2.04721003e-06,\n",
       "         -2.24910531e-08,  1.50662204e-09]],\n",
       "\n",
       "       [[-8.82646063e-01, -1.40551374e-12, -2.72328283e-13,\n",
       "          4.30878207e-11, -2.28864960e-10, -1.20809573e-15,\n",
       "          8.57463659e-16,  2.29423303e-05, -2.04721003e-06,\n",
       "         -1.77183268e-08,  9.98214034e-10],\n",
       "        [-8.82646063e-01, -3.04240243e-12, -2.78631790e-13,\n",
       "          6.04360560e-11, -2.28864960e-10, -1.86060132e-15,\n",
       "          8.87078986e-16,  2.39063190e-05, -2.04721003e-06,\n",
       "         -1.54381848e-08,  9.61918560e-10],\n",
       "        [-8.39084496e-01, -2.94015583e-12, -2.50496764e-13,\n",
       "          6.04360560e-11, -2.22977507e-10, -1.11924807e-15,\n",
       "          8.14453410e-16,  2.39063190e-05, -2.04721003e-06,\n",
       "         -1.54381848e-08,  9.61918560e-10],\n",
       "        [-8.82646063e-01, -3.93300196e-12, -3.39538104e-13,\n",
       "          6.90304606e-11, -2.28864960e-10, -6.76023819e-16,\n",
       "          9.63898225e-16,  2.39063190e-05, -2.04721003e-06,\n",
       "         -1.54381848e-08,  9.61918560e-10],\n",
       "        [-8.82646063e-01, -3.04240243e-12, -3.30353966e-13,\n",
       "          6.04360560e-11, -2.83877973e-10, -2.65228776e-15,\n",
       "          9.41341340e-16,  2.39063190e-05, -2.04721003e-06,\n",
       "         -1.77183268e-08,  9.61918560e-10],\n",
       "        [-8.50140457e-01, -1.78337291e-12, -2.72328283e-13,\n",
       "          4.30878207e-11, -2.28864960e-10, -1.86060132e-15,\n",
       "          9.03131366e-16,  2.29423303e-05, -2.04721003e-06,\n",
       "         -1.77183268e-08,  9.98214034e-10],\n",
       "        [-8.82646063e-01, -1.40551374e-12, -2.72328283e-13,\n",
       "          3.73036755e-11, -2.28864960e-10, -1.11924807e-15,\n",
       "          8.57463659e-16,  2.29423303e-05, -1.69140840e-06,\n",
       "         -2.15163839e-08,  1.81701562e-09],\n",
       "        [-8.82646063e-01, -3.67298285e-12, -2.23109732e-13,\n",
       "          6.04360560e-11, -1.65267896e-10, -1.11924807e-15,\n",
       "          7.67780978e-16,  3.85053301e-05, -2.89245549e-06,\n",
       "         -2.97679053e-08,  1.57866155e-09],\n",
       "        [-8.37013953e-01, -3.80066442e-12, -3.76860213e-13,\n",
       "          6.39839277e-11, -2.29009749e-10, -1.34904782e-15,\n",
       "          8.44299127e-16,  3.13255070e-05, -2.04721003e-06,\n",
       "         -1.86302503e-08,  1.06771889e-09],\n",
       "        [-9.22217079e-01, -2.94015583e-12, -2.68160228e-13,\n",
       "          6.04360560e-11, -3.50885629e-10, -1.34904782e-15,\n",
       "          7.55171528e-16,  3.13255070e-05, -1.47689618e-06,\n",
       "         -2.40192142e-08,  9.81420891e-10]],\n",
       "\n",
       "       [[-8.82646063e-01, -3.04240243e-12, -2.78631790e-13,\n",
       "          6.04360560e-11, -2.28864960e-10, -1.86060132e-15,\n",
       "          8.87078986e-16,  2.39063190e-05, -2.04721003e-06,\n",
       "         -1.54381848e-08,  9.61918560e-10],\n",
       "        [-8.39084496e-01, -2.94015583e-12, -2.50496764e-13,\n",
       "          6.04360560e-11, -2.22977507e-10, -1.11924807e-15,\n",
       "          8.14453410e-16,  2.39063190e-05, -2.04721003e-06,\n",
       "         -1.54381848e-08,  9.61918560e-10],\n",
       "        [-8.82646063e-01, -3.93300196e-12, -1.90536527e-13,\n",
       "          4.06630394e-11, -2.28864960e-10, -2.06309113e-15,\n",
       "          9.13655351e-16,  2.29423303e-05, -2.24888911e-06,\n",
       "         -1.77183268e-08,  9.61918560e-10],\n",
       "        [-8.45812082e-01, -1.78337291e-12, -3.39538104e-13,\n",
       "          3.90113210e-11, -2.70401476e-10, -1.86060132e-15,\n",
       "          9.45842134e-16,  2.29423303e-05, -2.04721003e-06,\n",
       "         -1.54381848e-08,  9.68370426e-10],\n",
       "        [-8.82646063e-01, -3.87577120e-12, -3.39538104e-13,\n",
       "          5.62876434e-11, -2.28864960e-10, -1.24439621e-15,\n",
       "          8.91640547e-16,  2.79835403e-05, -2.04721003e-06,\n",
       "         -1.54381848e-08,  1.00338567e-09],\n",
       "        [-8.52865046e-01, -3.20213300e-12, -2.78631790e-13,\n",
       "          6.04360560e-11, -1.82481417e-10, -1.65964644e-15,\n",
       "          8.29508107e-16,  2.54161739e-05, -1.31074660e-06,\n",
       "         -1.54381848e-08,  1.01825975e-09],\n",
       "        [-8.50140457e-01, -1.78337291e-12, -2.19260784e-13,\n",
       "          3.56142258e-11, -2.28864960e-10, -2.65228776e-15,\n",
       "          9.03131366e-16,  2.96391389e-05, -1.45231390e-06,\n",
       "         -1.05426464e-08,  9.98214034e-10],\n",
       "        [-8.10834379e-01, -3.04240243e-12, -3.30353966e-13,\n",
       "          6.04360560e-11, -2.70565093e-10, -2.65228776e-15,\n",
       "          9.41341340e-16,  2.29423303e-05, -2.48424942e-06,\n",
       "         -1.77183268e-08,  9.66850521e-10],\n",
       "        [-8.39084496e-01, -2.94015583e-12, -3.00754544e-13,\n",
       "          5.84478191e-11, -2.28864960e-10, -1.85397207e-15,\n",
       "          9.47121752e-16,  2.19689054e-05, -2.04721003e-06,\n",
       "         -1.93760708e-08,  9.98214034e-10],\n",
       "        [-8.37496683e-01, -1.40551374e-12, -2.72328283e-13,\n",
       "          5.43612208e-11, -2.22977507e-10, -1.20809573e-15,\n",
       "          8.14453410e-16,  2.44695477e-05, -2.04721003e-06,\n",
       "         -2.38325038e-08,  1.00836127e-09]],\n",
       "\n",
       "       [[-8.82646063e-01, -3.04240243e-12, -2.78631790e-13,\n",
       "          6.04360560e-11, -2.28864960e-10, -1.86060132e-15,\n",
       "          8.87078986e-16,  2.39063190e-05, -2.04721003e-06,\n",
       "         -1.54381848e-08,  9.61918560e-10],\n",
       "        [-8.39084496e-01, -2.94015583e-12, -2.50496764e-13,\n",
       "          6.04360560e-11, -2.22977507e-10, -1.11924807e-15,\n",
       "          8.14453410e-16,  2.39063190e-05, -2.04721003e-06,\n",
       "         -1.54381848e-08,  9.61918560e-10],\n",
       "        [-9.20940160e-01, -3.34089383e-12, -3.68203093e-13,\n",
       "          6.04360560e-11, -2.28864960e-10, -1.86060132e-15,\n",
       "          8.87078986e-16,  2.90551465e-05, -1.39754716e-06,\n",
       "         -2.18617217e-08,  9.61918560e-10],\n",
       "        [-7.63281422e-01, -2.82166387e-12, -2.94761633e-13,\n",
       "          6.67553759e-11, -2.77047918e-10, -1.85397207e-15,\n",
       "          8.87078986e-16,  2.07473013e-05, -2.80199766e-06,\n",
       "         -2.09420377e-08,  9.98214034e-10],\n",
       "        [-8.93661911e-01, -3.87577120e-12, -2.97642648e-13,\n",
       "          4.85365289e-11, -2.83232867e-10, -1.08626753e-15,\n",
       "          8.91640547e-16,  2.18421359e-05, -2.04721003e-06,\n",
       "         -1.54381848e-08,  1.00338567e-09],\n",
       "        [-8.39084496e-01, -2.68740781e-12, -2.83042447e-13,\n",
       "          5.45903143e-11, -2.10287582e-10, -1.85397207e-15,\n",
       "          9.24125333e-16,  2.19689054e-05, -2.04721003e-06,\n",
       "         -2.74483489e-08,  1.08131334e-09],\n",
       "        [-8.82646063e-01, -3.04240243e-12, -3.53407887e-13,\n",
       "          6.04360560e-11, -2.28864960e-10, -1.86060132e-15,\n",
       "          8.52583479e-16,  2.51349933e-05, -2.04721003e-06,\n",
       "         -2.38325038e-08,  9.61918560e-10],\n",
       "        [-8.37496683e-01, -2.19483971e-12, -3.48977146e-13,\n",
       "          5.43612208e-11, -2.75549384e-10, -1.86060132e-15,\n",
       "          8.14453410e-16,  2.44695477e-05, -2.08844429e-06,\n",
       "         -1.53804827e-08,  9.37862350e-10],\n",
       "        [-7.75938191e-01, -9.16376932e-13, -2.78631790e-13,\n",
       "          3.94098375e-11, -3.36635818e-10, -1.19673353e-15,\n",
       "          8.87078986e-16,  2.39063190e-05, -2.04721003e-06,\n",
       "         -7.73904459e-09,  9.08573320e-10],\n",
       "        [-8.45812082e-01, -3.04240243e-12, -3.39538104e-13,\n",
       "          6.04360560e-11, -2.28864960e-10, -1.28959462e-15,\n",
       "          8.08855931e-16,  2.29423303e-05, -2.04721003e-06,\n",
       "         -2.10006043e-08,  1.00657588e-09]],\n",
       "\n",
       "       [[-8.82646063e-01, -3.04240243e-12, -2.78631790e-13,\n",
       "          6.04360560e-11, -2.28864960e-10, -1.86060132e-15,\n",
       "          8.87078986e-16,  2.39063190e-05, -2.04721003e-06,\n",
       "         -1.54381848e-08,  9.61918560e-10],\n",
       "        [-8.39084496e-01, -2.94015583e-12, -2.50496764e-13,\n",
       "          6.04360560e-11, -2.22977507e-10, -1.11924807e-15,\n",
       "          8.14453410e-16,  2.39063190e-05, -2.04721003e-06,\n",
       "         -1.54381848e-08,  9.61918560e-10],\n",
       "        [-8.93661911e-01, -3.87577120e-12, -2.97642648e-13,\n",
       "          4.85365289e-11, -2.64471098e-10, -1.40887032e-15,\n",
       "          9.47051861e-16,  2.18421359e-05, -2.57607052e-06,\n",
       "         -1.53804827e-08,  1.03424077e-09],\n",
       "        [-8.37496683e-01, -2.19483971e-12, -3.12289172e-13,\n",
       "          5.43612208e-11, -2.75549384e-10, -2.41715231e-15,\n",
       "          8.42083537e-16,  2.44695477e-05, -2.04721003e-06,\n",
       "         -1.53804827e-08,  9.37862350e-10],\n",
       "        [-8.82646063e-01, -3.72118162e-12, -2.78631790e-13,\n",
       "          6.04360560e-11, -2.28864960e-10, -1.08626753e-15,\n",
       "          8.87078986e-16,  2.39063190e-05, -2.04721003e-06,\n",
       "         -7.34988004e-09,  7.94160013e-10],\n",
       "        [-8.93661911e-01, -3.72241519e-12, -3.04865891e-13,\n",
       "          5.15889922e-11, -2.57255120e-10, -1.11404770e-15,\n",
       "          8.40417963e-16,  1.50198276e-05, -2.04721003e-06,\n",
       "         -1.97082711e-08,  1.11206326e-09],\n",
       "        [-7.89117523e-01, -2.19039732e-12, -2.97642648e-13,\n",
       "          6.04360560e-11, -2.22977507e-10, -4.44020538e-16,\n",
       "          8.07231572e-16,  2.39063190e-05, -2.04721003e-06,\n",
       "         -1.51354985e-08,  1.48696663e-09],\n",
       "        [-8.04397122e-01, -3.50325907e-12, -2.97642648e-13,\n",
       "          6.04360560e-11, -2.83232867e-10, -1.47795346e-15,\n",
       "          8.91640547e-16,  2.18421359e-05, -2.04721003e-06,\n",
       "         -1.67833897e-08,  1.02469977e-09],\n",
       "        [-8.90542067e-01, -1.79712005e-12, -3.48977146e-13,\n",
       "          6.48504007e-11, -2.75549384e-10, -1.86060132e-15,\n",
       "          8.14453410e-16,  2.44695477e-05, -2.20886146e-06,\n",
       "         -1.91829809e-08,  9.37862350e-10],\n",
       "        [-9.19500859e-01, -2.94015583e-12, -2.15784695e-13,\n",
       "          4.68567363e-11, -1.77867077e-10, -2.35085372e-15,\n",
       "          7.27733929e-16,  2.44695477e-05, -1.48867558e-06,\n",
       "         -1.67591964e-08,  9.61918560e-10]]])"
      ]
     },
     "execution_count": 7,
     "metadata": {},
     "output_type": "execute_result"
    }
   ],
   "source": [
    "Col_vec[:,:, :]"
   ]
  },
  {
   "cell_type": "code",
   "execution_count": 4,
   "metadata": {},
   "outputs": [
    {
     "name": "stdout",
     "output_type": "stream",
     "text": [
      "successfully submitted\n",
      "8.962593e+10 3.225954e+11\n",
      "Ratio - 2.778277e-01\n"
     ]
    }
   ],
   "source": [
    "a = [ 2.69969038e+00, -8.98587638e+00, -5.91113586e+00, -6.63182532e+00,\n",
    "  -1.75214813e-10, -1.83669770e-15,  8.52944060e-16,  2.29423303e-05,\n",
    "  -2.04721003e-06, -1.59792834e-08,  9.98214034e-10,]\n",
    "x = get_errors(SECRET_KEY, list(a))\n",
    "y = submit(SECRET_KEY, list(a))\n",
    "print(y)\n",
    "print(\"{:e}\".format(int(x[0])), \"{:e}\".format(int(x[1])))\n",
    "print(\"Ratio - {:e}\".format(x[0]/x[1]))\n",
    "#print(x)\n",
    "#print(len(str(int(x[1]))))\n",
    "# 98 \n",
    "# 40677381991550.33"
   ]
  },
  {
   "cell_type": "code",
   "execution_count": 6,
   "metadata": {},
   "outputs": [
    {
     "name": "stdout",
     "output_type": "stream",
     "text": [
      "4.067738e+13\n"
     ]
    }
   ],
   "source": [
    "print(\"{:e}\".format(int(40677381991550.33)))"
   ]
  },
  {
   "cell_type": "code",
   "execution_count": 7,
   "metadata": {},
   "outputs": [
    {
     "name": "stdout",
     "output_type": "stream",
     "text": [
      "successfully submitted\n",
      "3.675183e+10 3.087506e+11\n",
      "Ratio - 1.190340e-01\n"
     ]
    }
   ],
   "source": [
    "a = [ 0.00000000e+00,  6.27937040e+00,  3.19484293e+00, -3.72370557e+00,\n",
    "  -1.75214813e-10, -1.83669770e-15, -7.58848480e+00,  2.29423303e-05,\n",
    "  -2.04721003e-06, -1.59792834e-08,  9.98214034e-10,]\n",
    "x = get_errors(SECRET_KEY, list(a))\n",
    "y = submit(SECRET_KEY, list(a))\n",
    "print(y)\n",
    "print(\"{:e}\".format(int(x[0])), \"{:e}\".format(int(x[1])))\n",
    "print(\"Ratio - {:e}\".format(x[0]/x[1]))\n",
    "#96"
   ]
  },
  {
   "cell_type": "code",
   "execution_count": 8,
   "metadata": {},
   "outputs": [
    {
     "name": "stdout",
     "output_type": "stream",
     "text": [
      "3.944504e+13\n"
     ]
    }
   ],
   "source": [
    "print(\"{:e}\".format(int(39445042416209.52)))"
   ]
  },
  {
   "cell_type": "code",
   "execution_count": 8,
   "metadata": {},
   "outputs": [
    {
     "name": "stdout",
     "output_type": "stream",
     "text": [
      "successfully submitted\n"
     ]
    }
   ],
   "source": [
    "a = [-7.83878833e+00,\n",
    "  -8.27116100e-01,\n",
    "  3.19484293e+00, \n",
    "  -4.37903432e+00, \n",
    "  -1.75214813e-10, \n",
    "  -1.83669770e-15, \n",
    "  -7.58848480e+00, \n",
    "  2.29423303e-05, \n",
    "  -2.04721003e-06, \n",
    "  -1.59792834e-08,\n",
    "  9.98214034e-10]\n",
    "#x = get_errors(SECRET_KEY, list(a))\n",
    "y = submit(SECRET_KEY, list(a))\n",
    "print(y)\n",
    "#print(x)\n",
    "# 1, 2, 3, 4\n",
    "# 1, 2\n",
    "#89"
   ]
  },
  {
   "cell_type": "code",
   "execution_count": 6,
   "metadata": {},
   "outputs": [
    {
     "name": "stdout",
     "output_type": "stream",
     "text": [
      "successfully submitted\n",
      "[14670596103.382584, 350627975902.7358]\n"
     ]
    }
   ],
   "source": [
    "a = [-2.33617593e+00,\n",
    "  6.27937040e+00,\n",
    "  4.50931369e+00, \n",
    "  -7.86082958e-01, \n",
    "  -1.75214813e-10, \n",
    "  -1.83669770e-15,\n",
    "  8.52944060e-16,\n",
    "  2.29423303e-05, \n",
    "  -2.04721003e-06, \n",
    "  -1.59792834e-08,\n",
    "  9.98214034e-10]\n",
    "x = get_errors(SECRET_KEY, list(a))\n",
    "y = submit(SECRET_KEY, list(a))\n",
    "print(y)\n",
    "print(x)\n",
    "# rank 82 better than above"
   ]
  },
  {
   "cell_type": "code",
   "execution_count": 7,
   "metadata": {},
   "outputs": [
    {
     "name": "stdout",
     "output_type": "stream",
     "text": [
      "successfully submitted\n",
      "[45757004781.289856, 306638050749.33575]\n"
     ]
    }
   ],
   "source": [
    "a = [-7.83878833e+00,\n",
    " -8.27116100e-01,\n",
    "  3.19484293e+00,\n",
    " -4.37903432e+00,\n",
    " -1.75214813e-10,\n",
    " -1.83669770e-15,\n",
    " -7.58848480e+00,\n",
    "  2.29423303e-05,\n",
    " -2.04721003e-06,\n",
    " -1.59792834e-08,\n",
    "  9.98214034e-10]\n",
    "x = get_errors(SECRET_KEY, list(a))\n",
    "y = submit(SECRET_KEY, list(a))\n",
    "print(y)\n",
    "print(x)\n",
    "# 89"
   ]
  },
  {
   "cell_type": "code",
   "execution_count": 11,
   "metadata": {},
   "outputs": [
    {
     "name": "stdout",
     "output_type": "stream",
     "text": [
      "successfully submitted\n",
      "[60911692609.35195, 309348110195.21643]\n"
     ]
    }
   ],
   "source": [
    "a = [0.00000000e+00,\n",
    " -7.13121383e+00,\n",
    "  -4.57220039e+00,\n",
    "  -5.23714582e+00,\n",
    "  -1.75214813e-10,\n",
    "  -1.83669770e-15,\n",
    "   8.52944060e-16,\n",
    "   2.29423303e-05,\n",
    "  -2.04721003e-06,\n",
    "  -1.59792834e-08,\n",
    "  9.98214034e-10]\n",
    "x = get_errors(SECRET_KEY, list(a))\n",
    "y = submit(SECRET_KEY, list(a))\n",
    "print(y)\n",
    "print(x)\n",
    "#89"
   ]
  },
  {
   "cell_type": "code",
   "execution_count": 2,
   "metadata": {
    "scrolled": true
   },
   "outputs": [
    {
     "name": "stdout",
     "output_type": "stream",
     "text": [
      "successfully submitted\n",
      "1.545030e+10 4.007418e+11\n",
      "Ratio - 3.855424e-02\n"
     ]
    }
   ],
   "source": [
    "a = [0.00000000e+00,\n",
    "     -9.75835723e+00,\n",
    "      -2.28980078e-13,\n",
    "      1.07109860e+00,\n",
    "      -1.75214813e-10,\n",
    "      -1.83669770e-15,\n",
    "       8.52944060e-16,\n",
    "       2.29423303e-05,\n",
    "      -2.04721003e-06,\n",
    "      -1.59792834e-08,\n",
    "      9.98214034e-10]\n",
    "x = get_errors(SECRET_KEY, list(a))\n",
    "y = submit(SECRET_KEY, list(a))\n",
    "print(y)\n",
    "print(\"{:e}\".format(int(x[0])), \"{:e}\".format(int(x[1])))\n",
    "print(\"Ratio - {:e}\".format(x[0]/x[1]))\n",
    "# 89\n"
   ]
  },
  {
   "cell_type": "code",
   "execution_count": 10,
   "metadata": {
    "scrolled": true
   },
   "outputs": [
    {
     "name": "stdout",
     "output_type": "stream",
     "text": [
      "3.731888e+13\n"
     ]
    }
   ],
   "source": [
    "print(\"{:e}\".format(int(37318879869717.83)))"
   ]
  },
  {
   "cell_type": "code",
   "execution_count": 13,
   "metadata": {},
   "outputs": [
    {
     "name": "stdout",
     "output_type": "stream",
     "text": [
      "successfully submitted\n",
      "[2031280283262.183, 3624979221727.6943]\n"
     ]
    }
   ],
   "source": [
    "a = [0, 0, 0, 0, 0, 0, 0, 0, 0, 0, 0]\n",
    "x = get_errors(SECRET_KEY, list(a))\n",
    "y = submit(SECRET_KEY, list(a))\n",
    "print(y)\n",
    "print(x)\n",
    "# 19 :)"
   ]
  },
  {
   "cell_type": "code",
   "execution_count": 3,
   "metadata": {},
   "outputs": [
    {
     "name": "stdout",
     "output_type": "stream",
     "text": [
      "successfully submitted\n",
      "[124862866199.97807, 345076524326.62897]\n"
     ]
    }
   ],
   "source": [
    "a = [  0.00000000e+00, \n",
    "  -1.01521951e-01, \n",
    "  -2.28980078e-13, \n",
    "  -8.09349783e+00, \n",
    "  -1.75214813e-10, \n",
    "  -1.83669770e-15, \n",
    "  -5.57147756e+00, \n",
    "   2.29423303e-05, \n",
    "  -2.04721003e-06, \n",
    "  -1.59792834e-08, \n",
    "   9.98214034e-10]\n",
    "x = get_errors(SECRET_KEY, list(a))\n",
    "y = submit(SECRET_KEY, list(a))\n",
    "print(y)\n",
    "print(x)\n",
    "# 91"
   ]
  },
  {
   "cell_type": "code",
   "execution_count": 6,
   "metadata": {},
   "outputs": [
    {
     "name": "stdout",
     "output_type": "stream",
     "text": [
      "successfully submitted\n",
      "[152611454414.5255, 368238450208.0652]\n"
     ]
    }
   ],
   "source": [
    "a = [  0.00000000e+00,\n",
    "  -6.61726765e+00,\n",
    "  -2.28980078e-13,\n",
    "  -9.04192680e+00,\n",
    "  -1.75214813e-10,\n",
    "  -1.83669770e-15,\n",
    " -5.57147756e+00,\n",
    " 2.29423303e-05,\n",
    " -2.04721003e-06,\n",
    " -1.59792834e-08,\n",
    " 9.98214034e-10]\n",
    "x = get_errors(SECRET_KEY, list(a))\n",
    "y = submit(SECRET_KEY, list(a))\n",
    "print(y)\n",
    "print(x)"
   ]
  },
  {
   "cell_type": "code",
   "execution_count": 3,
   "metadata": {
    "scrolled": true
   },
   "outputs": [
    {
     "name": "stdout",
     "output_type": "stream",
     "text": [
      "successfully submitted\n",
      "4.160772e+13 7.931332e+13\n",
      "Ratio - 5.245994e-01\n"
     ]
    }
   ],
   "source": [
    "a = [\n",
    "    -1.93727666e-15,\n",
    "    2.29207672e-05,\n",
    "    -2.27026207e-06,\n",
    "    -1.59742729e-08,\n",
    "    9.95416598e-10,\n",
    "    0,\n",
    "    0,\n",
    "    2.29207672e-05,\n",
    "    -2.25026207e-06,\n",
    "    -1.69742729e-08,\n",
    "    7.55416598e-10\n",
    "]\n",
    "x = get_errors(SECRET_KEY, list(a))\n",
    "y = submit(SECRET_KEY, list(a))\n",
    "print(y)\n",
    "print(\"{:e}\".format(int(x[0])), \"{:e}\".format(int(x[1])))\n",
    "print(\"Ratio - {:e}\".format(x[0]/x[1]))\n",
    "# 13"
   ]
  },
  {
   "cell_type": "code",
   "execution_count": 68,
   "metadata": {},
   "outputs": [
    {
     "name": "stdout",
     "output_type": "stream",
     "text": [
      "successfully submitted\n",
      "[293597901136307.3, 568911242639997.9]\n"
     ]
    }
   ],
   "source": [
    "a = [\n",
    "    0, 0, 0, 0, 0, 0, 0, 0, 0, 0,\n",
    "    7.55416598e-10\n",
    "]\n",
    "x = get_errors(SECRET_KEY, list(a))\n",
    "y = submit(SECRET_KEY, list(a))\n",
    "print(y)\n",
    "print(x)\n",
    "# 19"
   ]
  },
  {
   "cell_type": "code",
   "execution_count": 71,
   "metadata": {},
   "outputs": [
    {
     "name": "stdout",
     "output_type": "stream",
     "text": [
      "[41607715867695.48, 79313318020802.45]\n"
     ]
    }
   ],
   "source": [
    "a = [0, 0, 0, 0, 0, 0, 0,\n",
    "       2.29207672e-05,\n",
    "    -2.25026207e-06,\n",
    "    -1.69742729e-08,\n",
    "    7.55416598e-10]\n",
    "x = get_errors(SECRET_KEY, list(a))\n",
    "#y = submit(SECRET_KEY, list(a))\n",
    "#print(y)\n",
    "print(x)"
   ]
  },
  {
   "cell_type": "code",
   "execution_count": 12,
   "metadata": {},
   "outputs": [
    {
     "name": "stdout",
     "output_type": "stream",
     "text": [
      "successfully submitted\n",
      "[41607715870627.66, 79313318026961.45]\n",
      "4.160772e+13 7.931332e+13\n",
      "6.236401e-01\n"
     ]
    }
   ],
   "source": [
    "a = [\n",
    "    -1.93727666e-15,\n",
    "    2.29207672e-05,\n",
    "    -2.27026207e-06,\n",
    "    -1.59742729e-08,\n",
    "    9.95416598e-10,\n",
    "    0,\n",
    "    0,\n",
    "    2.29207672e-05,\n",
    "    -2.25026207e-06,\n",
    "    -1.69742729e-08,\n",
    "    7.55416598e-10\n",
    "]\n",
    "x = get_errors(SECRET_KEY, list(a))\n",
    "y = submit(SECRET_KEY, list(a))\n",
    "print(y)\n",
    "print(x)\n",
    "print(\"{:e}\".format(int(x[0])), \"{:e}\".format(int(x[1])))\n",
    "print(\"{:e}\".format(abs((x[0] - x[1])/np.mean([x[0], x[1]]))))"
   ]
  },
  {
   "cell_type": "code",
   "execution_count": 4,
   "metadata": {},
   "outputs": [
    {
     "name": "stdout",
     "output_type": "stream",
     "text": [
      "successfully submitted\n",
      "4.171454e+12 9.750932e+12\n",
      "Ratio - 4.278005e-01\n"
     ]
    }
   ],
   "source": [
    "a = [0.00000000e+00,\n",
    "  1.77968504e+00,\n",
    "  -9.45049799e+00,\n",
    "   4.62010753e-11, \n",
    "  1.11145475e+00, \n",
    "  -1.83669770e-15, \n",
    "  -4.04401088e+00, \n",
    "  2.29423303e-05, \n",
    "  -2.04721003e-06,\n",
    " -1.59792834e-08, \n",
    " 9.98214034e-10]\n",
    "x = get_errors(SECRET_KEY, list(a))\n",
    "y = submit(SECRET_KEY, list(a))\n",
    "print(y)\n",
    "print(\"{:e}\".format(int(x[0])), \"{:e}\".format(int(x[1])))\n",
    "print(\"Ratio - {:e}\".format(x[0]/x[1]))\n",
    "# 100\n",
    "# 65079706095525.54 - test error"
   ]
  },
  {
   "cell_type": "code",
   "execution_count": 3,
   "metadata": {},
   "outputs": [
    {
     "name": "stdout",
     "output_type": "stream",
     "text": [
      "successfully submitted\n",
      "[31391012188.005615, 311794984999.42786]\n",
      "3.139101e+10 3.117950e+11\n",
      "1.634122e+00\n"
     ]
    }
   ],
   "source": [
    "a = [8.47566786e+00, \n",
    "    -9.75835723e+00,\n",
    "  -1.93937592e+00,\n",
    "  -3.22406354e+00,\n",
    "  -1.75214813e-10,\n",
    "  -1.83669770e-15, \n",
    "  8.52944060e-16,\n",
    "  2.29423303e-05,\n",
    "  -2.04721003e-06,\n",
    "  -1.59792834e-08,\n",
    "  9.98214034e-10]\n",
    "x = get_errors(SECRET_KEY, list(a))\n",
    "y = submit(SECRET_KEY, list(a))\n",
    "print(y)\n",
    "print(x)\n",
    "print(\"{:e}\".format(int(x[0])), \"{:e}\".format(int(x[1])))\n",
    "print(\"{:e}\".format(abs((x[0] - x[1])/np.mean([x[0], x[1]]))))\n",
    "# 96\n",
    "# 39176699278403.67"
   ]
  },
  {
   "cell_type": "code",
   "execution_count": 4,
   "metadata": {},
   "outputs": [
    {
     "name": "stdout",
     "output_type": "stream",
     "text": [
      "successfully submitted\n",
      "2.478977e+10 3.176574e+11\n",
      "Ratio - 7.803933e-02\n"
     ]
    }
   ],
   "source": [
    "a = [ 9.05691340e+00,   -1.45799022e-12,  -7.01389535e+00, -2.53489167e+00, -1.75214813e-10,  \n",
    "  -1.83669770e-15,  8.38742005e+00,  2.29423303e-05, -2.04721003e-06,  -1.59792834e-08, 9.98214034e-10 ]\n",
    "x = get_errors(SECRET_KEY, list(a))\n",
    "y = submit(SECRET_KEY, list(a))\n",
    "print(y)\n",
    "print(\"{:e}\".format(int(x[0])), \"{:e}\".format(int(x[1])))\n",
    "print(\"Ratio - {:e}\".format(x[0]/x[1]))\n",
    "# 38821357054407.305"
   ]
  },
  {
   "cell_type": "code",
   "execution_count": 4,
   "metadata": {},
   "outputs": [
    {
     "name": "stdout",
     "output_type": "stream",
     "text": [
      "successfully submitted\n",
      "1.005810e+13 4.077578e+12\n",
      "Ratio - 2.466684e+00\n"
     ]
    }
   ],
   "source": [
    "a = [ 0.00000000e+00,\n",
    "  -6.58215072e-13,\n",
    "  -2.28980078e-13,\n",
    "  7.15318140e-12,\n",
    "  -2.84907530e-11,\n",
    "  -1.83669770e-15,\n",
    "  -9.81843988e-18,\n",
    "  -8.68780583e-07, \n",
    "  7.60605804e-07, \n",
    "  -1.59792834e-08, -5.30204612e-11]\n",
    "x = get_errors(SECRET_KEY, list(a))\n",
    "y = submit(SECRET_KEY, list(a))\n",
    "print(y)\n",
    "print(\"{:e}\".format(int(x[0])), \"{:e}\".format(int(x[1])))\n",
    "print(\"Ratio - {:e}\".format(x[0]/x[1]))\n",
    "# 213897858350339.03"
   ]
  },
  {
   "cell_type": "code",
   "execution_count": null,
   "metadata": {},
   "outputs": [],
   "source": []
  },
  {
   "cell_type": "code",
   "execution_count": 12,
   "metadata": {},
   "outputs": [],
   "source": [
    "init_params = np.zeros(shape=(11, 10), dtype=float)\n",
    "np.copyto(init_params, params)"
   ]
  },
  {
   "cell_type": "code",
   "execution_count": null,
   "metadata": {},
   "outputs": [],
   "source": [
    "def trash3():\n",
    "    init_overfit_params, init_params = initialize_params()\n",
    "    NO_OF_GENERATIONS = 3\n",
    "    generation_errors = np.zeros(shape=(NO_OF_GENERATIONS, 2), dtype=float)\n",
    "    params = np.zeros(shape=(11, POPULATION_SIZE), dtype=float)\n",
    "    np.copyto(params, init_params)\n",
    "\n",
    "    train_validation_errors = get_train_validation_errors(SECRET_KEY, POPULATION_SIZE, params)\n",
    "    fitness_score_array = fitness(np.array(train_validation_errors))\n",
    "    rank_array, selection_prob = get_rank_and_probabilities(fitness_score_array)\n",
    "    elite_parents = return_elite(rank_array, POPULATION_SIZE, 2)\n",
    "    final_parents = select_the_best(rank_array, POPULATION_SIZE, int(POPULATION_SIZE*0.9))"
   ]
  },
  {
   "cell_type": "code",
   "execution_count": null,
   "metadata": {},
   "outputs": [],
   "source": [
    "def trash2():\n",
    "    train_validation_errors = get_train_validation_errors(SECRET_KEY, POPULATION_SIZE, params)\n",
    "    fitness_score_array = fitness(np.array(train_validation_errors))\n",
    "    rank_array, selection_prob = get_rank_and_probabilities(fitness_score_array)\n",
    "    elite_parents = return_elite(rank_array, POPULATION_SIZE, 2)\n",
    "    final_parents = select_the_best(rank_array, POPULATION_SIZE, int(POPULATION_SIZE*0.4))\n",
    "    parents = []\n",
    "    print(elite_parents)\n",
    "    print(final_parents)\n",
    "    for i in elite_parents:\n",
    "        parents.append(params[:, i])\n",
    "    for i in final_parents:\n",
    "        parents.append(params[:, i])\n",
    "    print(parents)\n",
    "    parents = np.array(parents)\n",
    "    print(parents)"
   ]
  },
  {
   "cell_type": "code",
   "execution_count": null,
   "metadata": {},
   "outputs": [],
   "source": [
    "def trash():\n",
    "    parent_fitness = np.zeros(shape = (len(elite_parents) + len(final_parents), 2), dtype = float)\n",
    "    k = 0\n",
    "    temp_errors = list_to_array(train_validation_errors)\n",
    "    for i in elite_parents:\n",
    "    #parents.append(params[:, i])\n",
    "        parent_fitness[k, :] = temp_errors[i, :]\n",
    "        k += 1\n",
    "    for i in final_parents:\n",
    "        #parents.append(params[:, i])\n",
    "        parent_fitness[k, :] += temp_errors[i, :]\n",
    "        k += 1\n",
    "    print(parent_fitness)"
   ]
  },
  {
   "cell_type": "code",
   "execution_count": null,
   "metadata": {},
   "outputs": [],
   "source": [
    "#elite_parents.size\n",
    "elite_params[1, :]"
   ]
  },
  {
   "cell_type": "code",
   "execution_count": null,
   "metadata": {},
   "outputs": [],
   "source": [
    "train_validation_errors[:][1]"
   ]
  },
  {
   "cell_type": "code",
   "execution_count": null,
   "metadata": {
    "scrolled": true
   },
   "outputs": [],
   "source": [
    "#get_overfit_vector(SECRET_KEY)\n",
    "parent1[0:SPLIT_POINT]"
   ]
  },
  {
   "cell_type": "code",
   "execution_count": null,
   "metadata": {},
   "outputs": [],
   "source": [
    "#get_overfit_vector(SECRET_KEY)\n",
    "parent_fitness.size\n",
    "parent_fitness = np.zeros(shape = (len(elite_parents) + len(final_parents)), dtype = float)\n",
    "parent_fitness.size"
   ]
  },
  {
   "cell_type": "code",
   "execution_count": null,
   "metadata": {},
   "outputs": [],
   "source": [
    "#get_errors()\n",
    "k, l = select_parents(parent_selection_prob)\n",
    "offspring1, offspring2 = cross_over(parents[k, :], parents[l, :], SPLIT_POINT)\n",
    "print(offspring1)"
   ]
  },
  {
   "cell_type": "code",
   "execution_count": null,
   "metadata": {},
   "outputs": [],
   "source": [
    "def dumb():\n",
    "    init_overfit_params, init_params = initialize_params()\n",
    "    NO_OF_GENERATIONS = 3\n",
    "    generation_errors = np.zeros(shape=(NO_OF_GENERATIONS, 2), dtype=float)\n",
    "    params = np.zeros(shape=(11, POPULATION_SIZE), dtype=float)\n",
    "    np.copyto(params, init_params)\n",
    "    print(\"Initial params:\\n\")\n",
    "    print(init_params)\n",
    "    target_directory = \"Results/3-01/run9\"\n",
    "    mkdir_p(target_directory)\n",
    "    f = open(\"{}/params.txt\".format(target_directory), \"w\")\n",
    "    #f.write(\"Run 1 of 27th feb is continued, we started with the final parameters of previous run i.e. run4 and simulated x more generations where x =\\n\" + str(NO_OF_GENERATIONS) + \"\\n\")\n",
    "    f.write(\"Starting all over again with new root population\\n\")\n",
    "    f.write(\"No of generations: \" + str(NO_OF_GENERATIONS) + \"\\n\")\n",
    "    f.write(\"Population size: \" + str(POPULATION_SIZE) + \"\\n\")\n",
    "    f.write(\"Mutation coefficient: \" + str(MUTATION_COEFF) + \"\\n\")\n",
    "    f.write(\"Split point: \" + str(SPLIT_POINT) + \"\\n\")\n",
    "    f.write(\"One offspring per pair\\n\")\n",
    "\n",
    "    for i in range(NO_OF_GENERATIONS):\n",
    "        train_validation_errors = None\n",
    "        fitness_score_array = None\n",
    "        rank_array = None\n",
    "        # fitness\n",
    "        train_validation_errors = get_train_validation_errors(SECRET_KEY, POPULATION_SIZE, params)\n",
    "        fitness_score_array = fitness(np.array(train_validation_errors))\n",
    "        rank_array, selection_prob = get_rank_and_probabilities(fitness_score_array)\n",
    "        f.write(\"Population:\\n\")\n",
    "        f.write(str(params))\n",
    "        f.write(\"\\nTrain validation errors\\n\")\n",
    "        f.write(str(train_validation_errors))\n",
    "        f.write('\\n')\n",
    "        temp_min_avg = 1.00e+27\n",
    "        for j in range(POPULATION_SIZE):\n",
    "            if ((train_validation_errors[:, 0] + train_validation_errors[:, 1])/2)<=temp_min_avg:\n",
    "                temp_min_avg = ((train_validation_errors[:, 0] + train_validation_errors[:, 1])/2)\n",
    "                generation_errors[i, :] = train_validation_errors[j]\n",
    "        print(\"Rank array\")\n",
    "        print(rank_array)\n",
    "        print(\"All errors\")\n",
    "        print(train_validation_errors)\n",
    "        print(\"Best offspring Gen errors\")\n",
    "        print(generation_errors)\n",
    "        # crossover and mutation\n",
    "        temp_count = 0\n",
    "        offspring_params = np.zeros(shape=(11, POPULATION_SIZE), dtype=float)\n",
    "        while temp_count < POPULATION_SIZE:\n",
    "            k, l = select_parents(selection_prob)\n",
    "            #print(k, l)\n",
    "            offspring1, offspring2 = cross_over(params[:, k], params[:, l], SPLIT_POINT)\n",
    "            #print(offspring)\n",
    "            offspring1 = mutate(offspring1)\n",
    "            offspring2 = mutate(offspring2)\n",
    "            #print(offspring)\n",
    "            offspring_params[:, temp_count] += offspring1[:]\n",
    "            offspring_params[:, temp_count+1] += offspring2[:]\n",
    "            #print(offspring_params)\n",
    "            temp_count += 2\n",
    "        #print(\"Errors\")\n",
    "        #print(generation_errors)\n",
    "        #print(\"params\")\n",
    "        #print(offspring_params)\n",
    "        np.copyto(params, offspring_params)\n",
    "\n",
    "    f.close()\n",
    "    plot_graph(NO_OF_GENERATIONS, generation_errors, target_directory)"
   ]
  },
  {
   "cell_type": "code",
   "execution_count": 3,
   "metadata": {},
   "outputs": [
    {
     "name": "stdout",
     "output_type": "stream",
     "text": [
      "successfully submitted\n",
      "1.121354e+11 3.341928e+11\n",
      "Ratio - 3.355410e-01\n"
     ]
    }
   ],
   "source": [
    "a = [ 0.00000000e+00, 8.13349423e+00, 3.83867322e+00, \n",
    "  -7.65709325e+00, -1.75214813e-10, \n",
    " -1.83669770e-15, 2.59680065e+00, 2.29423303e-05, -2.04721003e-06, -1.59792834e-08, 9.98214034e-10 ]\n",
    "x = get_errors(SECRET_KEY, list(a))\n",
    "y = submit(SECRET_KEY, list(a))\n",
    "print(y)\n",
    "print(\"{:e}\".format(int(x[0])), \"{:e}\".format(int(x[1])))\n",
    "print(\"Ratio - {:e}\".format(x[0]/x[1]))\n",
    "# 41241648166170.71"
   ]
  },
  {
   "cell_type": "code",
   "execution_count": 3,
   "metadata": {},
   "outputs": [
    {
     "name": "stdout",
     "output_type": "stream",
     "text": [
      "successfully submitted\n",
      "1.351072e+10 3.682966e+11\n",
      "Ratio - 3.668436e-02\n"
     ]
    }
   ],
   "source": [
    "a = [ 0.00000000e+00,-1.45799022e-12,-2.28980078e-13,4.62010753e-11,\n",
    "  -1.75214813e-10\n",
    "  ,-1.83669770e-15, 8.52944060e-16,2.29423303e-05,-2.04721003e-06,-1.59792834e-08, 9.98214034e-10]\n",
    "x = get_errors(SECRET_KEY, list(a))\n",
    "y = submit(SECRET_KEY, list(a))\n",
    "print(y)\n",
    "print(\"{:e}\".format(int(x[0])), \"{:e}\".format(int(x[1])))\n",
    "print(\"Ratio - {:e}\".format(x[0]/x[1]))\n",
    "# 37778024344010.36"
   ]
  },
  {
   "cell_type": "code",
   "execution_count": 3,
   "metadata": {},
   "outputs": [
    {
     "name": "stdout",
     "output_type": "stream",
     "text": [
      "successfully submitted\n",
      "1.374881e+11 3.552463e+11\n",
      "Ratio - 3.870220e-01\n"
     ]
    }
   ],
   "source": [
    "a = [ 0.00000000e+00,\n",
    "  -1.45799022e-12,\n",
    "  -2.28980078e-13,\n",
    "  -8.54006209e+00,\n",
    "  -1.75214813e-10,\n",
    "  -1.83669770e-15,\n",
    "  -8.68862982e+00,\n",
    "  2.29423303e-05,-2.04721003e-06,-1.59792834e-08,9.98214034e-10]\n",
    "x = get_errors(SECRET_KEY, list(a))\n",
    "y = submit(SECRET_KEY, list(a))\n",
    "print(y)\n",
    "print(\"{:e}\".format(int(x[0])), \"{:e}\".format(int(x[1])))\n",
    "print(\"Ratio - {:e}\".format(x[0]/x[1]))\n",
    "# 41615589416805.38"
   ]
  },
  {
   "cell_type": "code",
   "execution_count": 4,
   "metadata": {},
   "outputs": [
    {
     "name": "stdout",
     "output_type": "stream",
     "text": [
      "0.000000e+00\n"
     ]
    }
   ],
   "source": [
    "print(\"{:e}\".format(0))"
   ]
  },
  {
   "cell_type": "code",
   "execution_count": 5,
   "metadata": {},
   "outputs": [],
   "source": [
    "order = 11\n",
    "s1 = \"-1.00e-{}\".format(order)\n",
    "s2 = \"-1.00e-{}\".format(order)\n",
    "x = np.random.uniform(float(s1), float(s2))"
   ]
  },
  {
   "cell_type": "code",
   "execution_count": 2,
   "metadata": {},
   "outputs": [
    {
     "name": "stdout",
     "output_type": "stream",
     "text": [
      "[ 7.95898555e-01 -2.40753956e-12 -2.76851661e-13  0.00000000e+00\n",
      " -1.24115132e-10 -2.30891518e-15  0.00000000e+00  0.00000000e+00\n",
      "  0.00000000e+00  0.00000000e+00  9.86843119e-10]\n",
      "[0.0, -1.45799022e-12, -2.28980078e-13, -8.54006209, -1.75214813e-10, -1.8366977e-15, -8.68862982, 2.29423303e-05, -2.04721003e-06, -1.59792834e-08, 9.98214034e-10]\n",
      "[-7.95898555e-01  9.49549343e-13  4.78715830e-14 -8.54006209e+00\n",
      " -5.10996811e-11  4.72217476e-16 -8.68862982e+00  2.29423303e-05\n",
      " -2.04721003e-06 -1.59792834e-08  1.13709152e-11]\n"
     ]
    }
   ],
   "source": [
    "a = [ 0.00000000e+00,\n",
    "  -1.45799022e-12,\n",
    "  -2.28980078e-13,\n",
    "  -8.54006209e+00,\n",
    "  -1.75214813e-10,\n",
    "  -1.83669770e-15,\n",
    "  -8.68862982e+00,\n",
    "  2.29423303e-05,-2.04721003e-06,-1.59792834e-08,9.98214034e-10]\n",
    "b = mutate(a)\n",
    "print(a-b)\n",
    "print(a)\n",
    "print(b)"
   ]
  },
  {
   "cell_type": "code",
   "execution_count": 10,
   "metadata": {},
   "outputs": [],
   "source": [
    "x = np.random.uniform(-1.00e-11, 1.00e-12)"
   ]
  },
  {
   "cell_type": "code",
   "execution_count": 2,
   "metadata": {},
   "outputs": [
    {
     "name": "stdout",
     "output_type": "stream",
     "text": [
      "9.982140e-10\n",
      "1 0\n"
     ]
    },
    {
     "data": {
      "text/plain": [
       "10"
      ]
     },
     "execution_count": 2,
     "metadata": {},
     "output_type": "execute_result"
    }
   ],
   "source": [
    "o = return_order(9.98214034e-10)\n",
    "o"
   ]
  },
  {
   "cell_type": "code",
   "execution_count": 7,
   "metadata": {},
   "outputs": [],
   "source": [
    "order = 11\n",
    "s1 = \"-1.00e-{}\".format(order)\n",
    "s2 = \"+1.00e-{}\".format(order)\n",
    "x = np.random.uniform(float(s1), float(s2))"
   ]
  },
  {
   "cell_type": "code",
   "execution_count": 6,
   "metadata": {},
   "outputs": [],
   "source": [
    "a = [ 2.89839006e-01,\n",
    "  -1.45799022e-12,\n",
    "  -2.56414480e-14,\n",
    "  -3.35338108e-12,\n",
    "  -1.75214813e-10,\n",
    "  -1.83669770e-15,\n",
    "  8.52944060e-16,\n",
    "  1.46370563e-06,\n",
    "  7.27926024e-07,\n",
    "  -1.59792834e-08,\n",
    "  -3.29557547e-13]\n",
    "# 222410128012553.7 rank 104"
   ]
  },
  {
   "cell_type": "code",
   "execution_count": 3,
   "metadata": {},
   "outputs": [],
   "source": [
    "import numpy as np\n",
    "POPULATION_SIZE = 10\n",
    "cross_over_offspring_and_parents = np.zeros(shape=(POPULATION_SIZE, 3, 11))"
   ]
  },
  {
   "cell_type": "code",
   "execution_count": 4,
   "metadata": {},
   "outputs": [
    {
     "data": {
      "text/plain": [
       "array([[[0., 0., 0., 0., 0., 0., 0., 0., 0., 0., 0.],\n",
       "        [0., 0., 0., 0., 0., 0., 0., 0., 0., 0., 0.],\n",
       "        [0., 0., 0., 0., 0., 0., 0., 0., 0., 0., 0.]],\n",
       "\n",
       "       [[0., 0., 0., 0., 0., 0., 0., 0., 0., 0., 0.],\n",
       "        [0., 0., 0., 0., 0., 0., 0., 0., 0., 0., 0.],\n",
       "        [0., 0., 0., 0., 0., 0., 0., 0., 0., 0., 0.]],\n",
       "\n",
       "       [[0., 0., 0., 0., 0., 0., 0., 0., 0., 0., 0.],\n",
       "        [0., 0., 0., 0., 0., 0., 0., 0., 0., 0., 0.],\n",
       "        [0., 0., 0., 0., 0., 0., 0., 0., 0., 0., 0.]],\n",
       "\n",
       "       [[0., 0., 0., 0., 0., 0., 0., 0., 0., 0., 0.],\n",
       "        [0., 0., 0., 0., 0., 0., 0., 0., 0., 0., 0.],\n",
       "        [0., 0., 0., 0., 0., 0., 0., 0., 0., 0., 0.]],\n",
       "\n",
       "       [[0., 0., 0., 0., 0., 0., 0., 0., 0., 0., 0.],\n",
       "        [0., 0., 0., 0., 0., 0., 0., 0., 0., 0., 0.],\n",
       "        [0., 0., 0., 0., 0., 0., 0., 0., 0., 0., 0.]],\n",
       "\n",
       "       [[0., 0., 0., 0., 0., 0., 0., 0., 0., 0., 0.],\n",
       "        [0., 0., 0., 0., 0., 0., 0., 0., 0., 0., 0.],\n",
       "        [0., 0., 0., 0., 0., 0., 0., 0., 0., 0., 0.]],\n",
       "\n",
       "       [[0., 0., 0., 0., 0., 0., 0., 0., 0., 0., 0.],\n",
       "        [0., 0., 0., 0., 0., 0., 0., 0., 0., 0., 0.],\n",
       "        [0., 0., 0., 0., 0., 0., 0., 0., 0., 0., 0.]],\n",
       "\n",
       "       [[0., 0., 0., 0., 0., 0., 0., 0., 0., 0., 0.],\n",
       "        [0., 0., 0., 0., 0., 0., 0., 0., 0., 0., 0.],\n",
       "        [0., 0., 0., 0., 0., 0., 0., 0., 0., 0., 0.]],\n",
       "\n",
       "       [[0., 0., 0., 0., 0., 0., 0., 0., 0., 0., 0.],\n",
       "        [0., 0., 0., 0., 0., 0., 0., 0., 0., 0., 0.],\n",
       "        [0., 0., 0., 0., 0., 0., 0., 0., 0., 0., 0.]],\n",
       "\n",
       "       [[0., 0., 0., 0., 0., 0., 0., 0., 0., 0., 0.],\n",
       "        [0., 0., 0., 0., 0., 0., 0., 0., 0., 0., 0.],\n",
       "        [0., 0., 0., 0., 0., 0., 0., 0., 0., 0., 0.]]])"
      ]
     },
     "execution_count": 4,
     "metadata": {},
     "output_type": "execute_result"
    }
   ],
   "source": [
    "cross_over_offspring_and_parents"
   ]
  },
  {
   "cell_type": "code",
   "execution_count": null,
   "metadata": {},
   "outputs": [],
   "source": [
    "init_overfit_params, init_params = initialize_params()\n",
    "NO_OF_GENERATIONS = 5\n",
    "generation_errors = np.zeros(shape=(NO_OF_GENERATIONS, 2), dtype=float)\n",
    "params = np.zeros(shape=(11, POPULATION_SIZE), dtype=float)\n",
    "np.copyto(params, init_params)\n",
    "print(\"Initial params:\\n\")\n",
    "print(init_params)\n",
    "#target_directory = \"Results/3-04/run2\"\n",
    "target_directory = file_name()\n",
    "mkdir_p(target_directory)\n",
    "f = open(\"{}/params.txt\".format(target_directory), \"w\")\n",
    "#f.write(\"Run 3 of 3rd March is continued, we started with the final parameters of previous run i.e. run3 and simulated x more generations where x =\\n\" + str(NO_OF_GENERATIONS) + \"\\n\")\n",
    "f.write(\"Fitness funtion: -1 * (train_error)\\n\")\n",
    "f.write(\"Initialed with the best that we have until now\\n\")\n",
    "f.write(\"Starting all over again with new root population\\n\")\n",
    "f.write(\"No of generations: \" + str(NO_OF_GENERATIONS) + \"\\n\")\n",
    "f.write(\"Population size: \" + str(POPULATION_SIZE) + \"\\n\")\n",
    "f.write(\"Mutation coefficient: \" + str(MUTATION_COEFF) + \"\\n\")\n",
    "f.write(\"Split point: \" + str(SPLIT_POINT) + \"\\n\")\n",
    "f.write(\"Two offspring per pair\\n\")\n",
    "\n",
    "Col_vec = np.zeros(shape=(NO_OF_GENERATIONS, POPULATION_SIZE, 11), dtype=float)\n",
    "for i in range(NO_OF_GENERATIONS):\n",
    "    stri = \"\\n\\nGeneration \" + str(i+1) + \"\\n\\n\"\n",
    "    f.write(stri)\n",
    "    \n",
    "    Col_vec[i, :, :] += np.transpose(np.array(params))\n",
    "    train_validation_errors = None\n",
    "    fitness_score_array = None\n",
    "    rank_array = None\n",
    "    # fitness\n",
    "    train_validation_errors = get_train_validation_errors(SECRET_KEY, POPULATION_SIZE, params)\n",
    "    fitness_score_array = fitness(np.array(train_validation_errors))\n",
    "    rank_array, selection_prob = get_rank_and_probabilities(fitness_score_array)\n",
    "    elite_parents = return_elite(rank_array, POPULATION_SIZE, 2)\n",
    "    final_parents = select_the_best(rank_array, POPULATION_SIZE, int(POPULATION_SIZE*0.6))\n",
    "    parents = []\n",
    "    parent_fitness = np.zeros(shape = (len(final_parents), ), dtype = float)\n",
    "    k = 0\n",
    "    temp_errors = list_to_array(train_validation_errors)\n",
    "    elite_params = []\n",
    "    for j in elite_parents:\n",
    "        elite_params.append(params[:, j])\n",
    "        #parent_fitness[k] = fitness_score_array[j]\n",
    "        #k += 1\n",
    "    for j in final_parents:\n",
    "        parents.append(params[:, j])\n",
    "        parent_fitness[k] = fitness_score_array[j]\n",
    "        k += 1\n",
    "    print(parent_fitness)\n",
    "    # Parents are ready\n",
    "    elite_params = list_to_array(elite_params)\n",
    "    parents = list_to_array(parents)\n",
    "    parent_rank_array, parent_selection_prob = get_rank_and_probabilities(parent_fitness)\n",
    "    \n",
    "    f.write(\"\\nInitial Population of generation:\\n\")\n",
    "    f.write(str(np.transpose(np.array(params))))\n",
    "    #f.write(\"\\nTrain validation errors\\n\")\n",
    "    #f.write(str(np.array(train_validation_errors)))\n",
    "    f.write(\"\\nSelected parents:\\n\")\n",
    "    f.write(str(np.transpose(np.array(parents))))\n",
    "    for j in range(POPULATION_SIZE):\n",
    "        if rank_array[j]==1:\n",
    "            generation_errors[i, :] += train_validation_errors[j]\n",
    "    print(\"Rank array\")\n",
    "    print(rank_array)\n",
    "    print(\"All errors\")\n",
    "    print(train_validation_errors)\n",
    "    print(\"Best offspring Gen errors\")\n",
    "    print(generation_errors)\n",
    "    # crossover and mutation\n",
    "    temp_count = 2\n",
    "    offspring_params = np.zeros(shape=(11, POPULATION_SIZE), dtype=float)\n",
    "    offspring_params[:, 0] = elite_params[0, :]\n",
    "    offspring_params[:, 1] = elite_params[1, :]\n",
    "    \n",
    "    cross_over_offspring_and_parents = np.zeros(shape=(POPULATION_SIZE, 3, 11))\n",
    "    offspring_after_mut = np.zeros(shape=(POPULATION_SIZE, 11))\n",
    "    \n",
    "    pop_count = 0\n",
    "    while temp_count < POPULATION_SIZE:\n",
    "        k, l = select_parents(parent_selection_prob)\n",
    "        #print(k, l)\n",
    "        print(\"What's the matter with you\")\n",
    "        offspring1, offspring2 = cross_over(parents[k, :], parents[l, :], SPLIT_POINT)\n",
    "        #print(offspring)\n",
    "        \n",
    "        cross_over_offspring_and_parents[pop_count, 0, :] = parents[k, :]\n",
    "        cross_over_offspring_and_parents[pop_count, 1, :] = parents[l, :]\n",
    "        cross_over_offspring_and_parents[pop_count, 2, :] = offspring1\n",
    "        \n",
    "        \n",
    "        cross_over_offspring_and_parents[pop_count+1, 0, :] = parents[k, :]\n",
    "        cross_over_offspring_and_parents[pop_count+1, 1, :] = parents[l, :]\n",
    "        cross_over_offspring_and_parents[pop_count+1, 2, :] = offspring2\n",
    "        \n",
    "        offspring1 = mutate(offspring1)\n",
    "        offspring2 = mutate(offspring2)\n",
    "        \n",
    "        offspring_after_mut[pop_count, :] = offspring1\n",
    "        offspring_after_mut[pop_count+1, :] = offspring2\n",
    "        \n",
    "        pop_count += 2\n",
    "        \n",
    "        #print(offspring)\n",
    "        offspring_params[:, temp_count] += offspring1[:]\n",
    "        offspring_params[:, temp_count+1] += offspring2[:]\n",
    "        #print(offspring_params)\n",
    "        temp_count += 2\n",
    "    #print(\"Errors\")\n",
    "    #print(generation_errors)\n",
    "    #print(\"params\")\n",
    "    #print(offspring_params)\n",
    "    f.write(\"\\n\\nParent 1, parent 2 , offspring before mutation:\\n\\n\")\n",
    "    f.write(str(cross_over_offspring_and_parents))\n",
    "    f.write(\"\\n\\nParent 1, parent 2 , offspring before mutation:\\n\\n\")\n",
    "    f.write(str(offspring_after_mut))\n",
    "    \n",
    "    np.copyto(params, offspring_params)\n",
    "#f.write('Best offspring gen errors:\\n')\n",
    "#f.write(str(generation_errors))\n",
    "f.close()\n",
    "plot_graph(NO_OF_GENERATIONS, generation_errors, target_directory)"
   ]
  }
 ],
 "metadata": {
  "kernelspec": {
   "display_name": "science2_env",
   "language": "python",
   "name": "science2_env"
  },
  "language_info": {
   "codemirror_mode": {
    "name": "ipython",
    "version": 3
   },
   "file_extension": ".py",
   "mimetype": "text/x-python",
   "name": "python",
   "nbconvert_exporter": "python",
   "pygments_lexer": "ipython3",
   "version": "3.8.5"
  }
 },
 "nbformat": 4,
 "nbformat_minor": 4
}
