{
 "cells": [
  {
   "cell_type": "code",
   "execution_count": 1,
   "metadata": {},
   "outputs": [],
   "source": [
    "# A generic genetic algorithm\n",
    "import random\n",
    "import numpy as np\n",
    "import matplotlib.pyplot as plt\n",
    "from client import get_errors, get_overfit_vector, submit\n",
    "from io import StringIO\n",
    "from config import SECRET_KEY\n",
    "from utils import POPULATION_SIZE, SPLIT_POINT, FEATURE_VECTOR_SIZE, MUTATION_COEFF\n",
    "from helpers import mkdir_p, get_train_validation_errors, get_rank_and_probabilities, fitness, select_parents, cross_over, mutate, plot_graph, initialize_params, select_the_best, return_elite, list_to_array, file_name, return_order, single_mutate\n",
    "\n",
    "from errno import EEXIST\n",
    "from os import makedirs, path"
   ]
  },
  {
   "cell_type": "code",
   "execution_count": 4,
   "metadata": {},
   "outputs": [
    {
     "name": "stdout",
     "output_type": "stream",
     "text": [
      "successfully submitted\n",
      "8.962593e+10 3.225954e+11\n",
      "Ratio - 2.778277e-01\n"
     ]
    }
   ],
   "source": [
    "a = [ 2.69969038e+00, -8.98587638e+00, -5.91113586e+00, -6.63182532e+00,\n",
    "  -1.75214813e-10, -1.83669770e-15,  8.52944060e-16,  2.29423303e-05,\n",
    "  -2.04721003e-06, -1.59792834e-08,  9.98214034e-10,]\n",
    "x = get_errors(SECRET_KEY, list(a))\n",
    "y = submit(SECRET_KEY, list(a))\n",
    "print(y)\n",
    "print(\"{:e}\".format(int(x[0])), \"{:e}\".format(int(x[1])))\n",
    "print(\"Ratio - {:e}\".format(x[0]/x[1]))\n",
    "#print(x)\n",
    "#print(len(str(int(x[1]))))\n",
    "# 98 \n",
    "# 40677381991550.33"
   ]
  },
  {
   "cell_type": "code",
   "execution_count": 6,
   "metadata": {},
   "outputs": [
    {
     "name": "stdout",
     "output_type": "stream",
     "text": [
      "4.067738e+13\n"
     ]
    }
   ],
   "source": [
    "print(\"{:e}\".format(int(40677381991550.33)))"
   ]
  },
  {
   "cell_type": "code",
   "execution_count": 7,
   "metadata": {},
   "outputs": [
    {
     "name": "stdout",
     "output_type": "stream",
     "text": [
      "successfully submitted\n",
      "3.675183e+10 3.087506e+11\n",
      "Ratio - 1.190340e-01\n"
     ]
    }
   ],
   "source": [
    "a = [ 0.00000000e+00,  6.27937040e+00,  3.19484293e+00, -3.72370557e+00,\n",
    "  -1.75214813e-10, -1.83669770e-15, -7.58848480e+00,  2.29423303e-05,\n",
    "  -2.04721003e-06, -1.59792834e-08,  9.98214034e-10,]\n",
    "x = get_errors(SECRET_KEY, list(a))\n",
    "y = submit(SECRET_KEY, list(a))\n",
    "print(y)\n",
    "print(\"{:e}\".format(int(x[0])), \"{:e}\".format(int(x[1])))\n",
    "print(\"Ratio - {:e}\".format(x[0]/x[1]))\n",
    "#96"
   ]
  },
  {
   "cell_type": "code",
   "execution_count": 8,
   "metadata": {},
   "outputs": [
    {
     "name": "stdout",
     "output_type": "stream",
     "text": [
      "3.944504e+13\n"
     ]
    }
   ],
   "source": [
    "print(\"{:e}\".format(int(39445042416209.52)))"
   ]
  },
  {
   "cell_type": "code",
   "execution_count": 8,
   "metadata": {},
   "outputs": [
    {
     "name": "stdout",
     "output_type": "stream",
     "text": [
      "successfully submitted\n"
     ]
    }
   ],
   "source": [
    "a = [-7.83878833e+00,\n",
    "  -8.27116100e-01,\n",
    "  3.19484293e+00, \n",
    "  -4.37903432e+00, \n",
    "  -1.75214813e-10, \n",
    "  -1.83669770e-15, \n",
    "  -7.58848480e+00, \n",
    "  2.29423303e-05, \n",
    "  -2.04721003e-06, \n",
    "  -1.59792834e-08,\n",
    "  9.98214034e-10]\n",
    "#x = get_errors(SECRET_KEY, list(a))\n",
    "y = submit(SECRET_KEY, list(a))\n",
    "print(y)\n",
    "#print(x)\n",
    "# 1, 2, 3, 4\n",
    "# 1, 2\n",
    "#89"
   ]
  },
  {
   "cell_type": "code",
   "execution_count": 6,
   "metadata": {},
   "outputs": [
    {
     "name": "stdout",
     "output_type": "stream",
     "text": [
      "successfully submitted\n",
      "[14670596103.382584, 350627975902.7358]\n"
     ]
    }
   ],
   "source": [
    "a = [-2.33617593e+00,\n",
    "  6.27937040e+00,\n",
    "  4.50931369e+00, \n",
    "  -7.86082958e-01, \n",
    "  -1.75214813e-10, \n",
    "  -1.83669770e-15,\n",
    "  8.52944060e-16,\n",
    "  2.29423303e-05, \n",
    "  -2.04721003e-06, \n",
    "  -1.59792834e-08,\n",
    "  9.98214034e-10]\n",
    "x = get_errors(SECRET_KEY, list(a))\n",
    "y = submit(SECRET_KEY, list(a))\n",
    "print(y)\n",
    "print(x)\n",
    "# rank 82 better than above"
   ]
  },
  {
   "cell_type": "code",
   "execution_count": 7,
   "metadata": {},
   "outputs": [
    {
     "name": "stdout",
     "output_type": "stream",
     "text": [
      "successfully submitted\n",
      "[45757004781.289856, 306638050749.33575]\n"
     ]
    }
   ],
   "source": [
    "a = [-7.83878833e+00,\n",
    " -8.27116100e-01,\n",
    "  3.19484293e+00,\n",
    " -4.37903432e+00,\n",
    " -1.75214813e-10,\n",
    " -1.83669770e-15,\n",
    " -7.58848480e+00,\n",
    "  2.29423303e-05,\n",
    " -2.04721003e-06,\n",
    " -1.59792834e-08,\n",
    "  9.98214034e-10]\n",
    "x = get_errors(SECRET_KEY, list(a))\n",
    "y = submit(SECRET_KEY, list(a))\n",
    "print(y)\n",
    "print(x)\n",
    "# 89"
   ]
  },
  {
   "cell_type": "code",
   "execution_count": 11,
   "metadata": {},
   "outputs": [
    {
     "name": "stdout",
     "output_type": "stream",
     "text": [
      "successfully submitted\n",
      "[60911692609.35195, 309348110195.21643]\n"
     ]
    }
   ],
   "source": [
    "a = [0.00000000e+00,\n",
    " -7.13121383e+00,\n",
    "  -4.57220039e+00,\n",
    "  -5.23714582e+00,\n",
    "  -1.75214813e-10,\n",
    "  -1.83669770e-15,\n",
    "   8.52944060e-16,\n",
    "   2.29423303e-05,\n",
    "  -2.04721003e-06,\n",
    "  -1.59792834e-08,\n",
    "  9.98214034e-10]\n",
    "x = get_errors(SECRET_KEY, list(a))\n",
    "y = submit(SECRET_KEY, list(a))\n",
    "print(y)\n",
    "print(x)\n",
    "#89"
   ]
  },
  {
   "cell_type": "code",
   "execution_count": 2,
   "metadata": {
    "scrolled": true
   },
   "outputs": [
    {
     "name": "stdout",
     "output_type": "stream",
     "text": [
      "successfully submitted\n",
      "1.545030e+10 4.007418e+11\n",
      "Ratio - 3.855424e-02\n"
     ]
    }
   ],
   "source": [
    "a = [0.00000000e+00,\n",
    "     -9.75835723e+00,\n",
    "      -2.28980078e-13,\n",
    "      1.07109860e+00,\n",
    "      -1.75214813e-10,\n",
    "      -1.83669770e-15,\n",
    "       8.52944060e-16,\n",
    "       2.29423303e-05,\n",
    "      -2.04721003e-06,\n",
    "      -1.59792834e-08,\n",
    "      9.98214034e-10]\n",
    "x = get_errors(SECRET_KEY, list(a))\n",
    "y = submit(SECRET_KEY, list(a))\n",
    "print(y)\n",
    "print(\"{:e}\".format(int(x[0])), \"{:e}\".format(int(x[1])))\n",
    "print(\"Ratio - {:e}\".format(x[0]/x[1]))\n",
    "# 89\n"
   ]
  },
  {
   "cell_type": "code",
   "execution_count": 10,
   "metadata": {
    "scrolled": true
   },
   "outputs": [
    {
     "name": "stdout",
     "output_type": "stream",
     "text": [
      "3.731888e+13\n"
     ]
    }
   ],
   "source": [
    "print(\"{:e}\".format(int(37318879869717.83)))"
   ]
  },
  {
   "cell_type": "code",
   "execution_count": 13,
   "metadata": {},
   "outputs": [
    {
     "name": "stdout",
     "output_type": "stream",
     "text": [
      "successfully submitted\n",
      "[2031280283262.183, 3624979221727.6943]\n"
     ]
    }
   ],
   "source": [
    "a = [0, 0, 0, 0, 0, 0, 0, 0, 0, 0, 0]\n",
    "x = get_errors(SECRET_KEY, list(a))\n",
    "y = submit(SECRET_KEY, list(a))\n",
    "print(y)\n",
    "print(x)\n",
    "# 19 :)"
   ]
  },
  {
   "cell_type": "code",
   "execution_count": 3,
   "metadata": {},
   "outputs": [
    {
     "name": "stdout",
     "output_type": "stream",
     "text": [
      "successfully submitted\n",
      "[124862866199.97807, 345076524326.62897]\n"
     ]
    }
   ],
   "source": [
    "a = [  0.00000000e+00, \n",
    "  -1.01521951e-01, \n",
    "  -2.28980078e-13, \n",
    "  -8.09349783e+00, \n",
    "  -1.75214813e-10, \n",
    "  -1.83669770e-15, \n",
    "  -5.57147756e+00, \n",
    "   2.29423303e-05, \n",
    "  -2.04721003e-06, \n",
    "  -1.59792834e-08, \n",
    "   9.98214034e-10]\n",
    "x = get_errors(SECRET_KEY, list(a))\n",
    "y = submit(SECRET_KEY, list(a))\n",
    "print(y)\n",
    "print(x)\n",
    "# 91"
   ]
  },
  {
   "cell_type": "code",
   "execution_count": 6,
   "metadata": {},
   "outputs": [
    {
     "name": "stdout",
     "output_type": "stream",
     "text": [
      "successfully submitted\n",
      "[152611454414.5255, 368238450208.0652]\n"
     ]
    }
   ],
   "source": [
    "a = [  0.00000000e+00,\n",
    "  -6.61726765e+00,\n",
    "  -2.28980078e-13,\n",
    "  -9.04192680e+00,\n",
    "  -1.75214813e-10,\n",
    "  -1.83669770e-15,\n",
    " -5.57147756e+00,\n",
    " 2.29423303e-05,\n",
    " -2.04721003e-06,\n",
    " -1.59792834e-08,\n",
    " 9.98214034e-10]\n",
    "x = get_errors(SECRET_KEY, list(a))\n",
    "y = submit(SECRET_KEY, list(a))\n",
    "print(y)\n",
    "print(x)"
   ]
  },
  {
   "cell_type": "code",
   "execution_count": 3,
   "metadata": {
    "scrolled": true
   },
   "outputs": [
    {
     "name": "stdout",
     "output_type": "stream",
     "text": [
      "successfully submitted\n",
      "4.160772e+13 7.931332e+13\n",
      "Ratio - 5.245994e-01\n"
     ]
    }
   ],
   "source": [
    "a = [\n",
    "    -1.93727666e-15,\n",
    "    2.29207672e-05,\n",
    "    -2.27026207e-06,\n",
    "    -1.59742729e-08,\n",
    "    9.95416598e-10,\n",
    "    0,\n",
    "    0,\n",
    "    2.29207672e-05,\n",
    "    -2.25026207e-06,\n",
    "    -1.69742729e-08,\n",
    "    7.55416598e-10\n",
    "]\n",
    "x = get_errors(SECRET_KEY, list(a))\n",
    "y = submit(SECRET_KEY, list(a))\n",
    "print(y)\n",
    "print(\"{:e}\".format(int(x[0])), \"{:e}\".format(int(x[1])))\n",
    "print(\"Ratio - {:e}\".format(x[0]/x[1]))\n",
    "# 13"
   ]
  },
  {
   "cell_type": "code",
   "execution_count": 68,
   "metadata": {},
   "outputs": [
    {
     "name": "stdout",
     "output_type": "stream",
     "text": [
      "successfully submitted\n",
      "[293597901136307.3, 568911242639997.9]\n"
     ]
    }
   ],
   "source": [
    "a = [\n",
    "    0, 0, 0, 0, 0, 0, 0, 0, 0, 0,\n",
    "    7.55416598e-10\n",
    "]\n",
    "x = get_errors(SECRET_KEY, list(a))\n",
    "y = submit(SECRET_KEY, list(a))\n",
    "print(y)\n",
    "print(x)\n",
    "# 19"
   ]
  },
  {
   "cell_type": "code",
   "execution_count": 71,
   "metadata": {},
   "outputs": [
    {
     "name": "stdout",
     "output_type": "stream",
     "text": [
      "[41607715867695.48, 79313318020802.45]\n"
     ]
    }
   ],
   "source": [
    "a = [0, 0, 0, 0, 0, 0, 0,\n",
    "       2.29207672e-05,\n",
    "    -2.25026207e-06,\n",
    "    -1.69742729e-08,\n",
    "    7.55416598e-10]\n",
    "x = get_errors(SECRET_KEY, list(a))\n",
    "#y = submit(SECRET_KEY, list(a))\n",
    "#print(y)\n",
    "print(x)"
   ]
  },
  {
   "cell_type": "code",
   "execution_count": 12,
   "metadata": {},
   "outputs": [
    {
     "name": "stdout",
     "output_type": "stream",
     "text": [
      "successfully submitted\n",
      "[41607715870627.66, 79313318026961.45]\n",
      "4.160772e+13 7.931332e+13\n",
      "6.236401e-01\n"
     ]
    }
   ],
   "source": [
    "a = [\n",
    "    -1.93727666e-15,\n",
    "    2.29207672e-05,\n",
    "    -2.27026207e-06,\n",
    "    -1.59742729e-08,\n",
    "    9.95416598e-10,\n",
    "    0,\n",
    "    0,\n",
    "    2.29207672e-05,\n",
    "    -2.25026207e-06,\n",
    "    -1.69742729e-08,\n",
    "    7.55416598e-10\n",
    "]\n",
    "x = get_errors(SECRET_KEY, list(a))\n",
    "y = submit(SECRET_KEY, list(a))\n",
    "print(y)\n",
    "print(x)\n",
    "print(\"{:e}\".format(int(x[0])), \"{:e}\".format(int(x[1])))\n",
    "print(\"{:e}\".format(abs((x[0] - x[1])/np.mean([x[0], x[1]]))))"
   ]
  },
  {
   "cell_type": "code",
   "execution_count": 3,
   "metadata": {},
   "outputs": [
    {
     "name": "stdout",
     "output_type": "stream",
     "text": [
      "successfully submitted\n",
      "[31391012188.005615, 311794984999.42786]\n",
      "3.139101e+10 3.117950e+11\n",
      "1.634122e+00\n"
     ]
    }
   ],
   "source": [
    "a = [8.47566786e+00, \n",
    "    -9.75835723e+00,\n",
    "  -1.93937592e+00,\n",
    "  -3.22406354e+00,\n",
    "  -1.75214813e-10,\n",
    "  -1.83669770e-15, \n",
    "  8.52944060e-16,\n",
    "  2.29423303e-05,\n",
    "  -2.04721003e-06,\n",
    "  -1.59792834e-08,\n",
    "  9.98214034e-10]\n",
    "x = get_errors(SECRET_KEY, list(a))\n",
    "y = submit(SECRET_KEY, list(a))\n",
    "print(y)\n",
    "print(x)\n",
    "print(\"{:e}\".format(int(x[0])), \"{:e}\".format(int(x[1])))\n",
    "print(\"{:e}\".format(abs((x[0] - x[1])/np.mean([x[0], x[1]]))))\n",
    "# 96\n",
    "# 39176699278403.67"
   ]
  },
  {
   "cell_type": "code",
   "execution_count": 6,
   "metadata": {},
   "outputs": [
    {
     "name": "stdout",
     "output_type": "stream",
     "text": [
      "10 11\n",
      "(11, 10)\n"
     ]
    }
   ],
   "source": [
    "params = [[ 0.00000000e+00,  0.00000000e+00,  0.00000000e+00,  0.00000000e+00,\n",
    "   0.00000000e+00,  0.00000000e+00,  9.27440156e-02,  7.59166547e-01,\n",
    "   4.54661132e+00, -4.47107659e+00],\n",
    " [-1.45799022e-12,  1.77968504e+00, -4.02459943e+00, -1.45799022e-12,\n",
    "   3.10262898e+00, 1.77968504e+00, -1.45799022e-12, -5.28150776e+00,\n",
    "   5.54246955e+00, -4.14914478e+00,],\n",
    " [-2.28980078e-13, -9.45049799e+00, -9.45049799e+00,  6.00249634e+00,\n",
    "   6.07336038e+00, -9.45049799e+00, -2.77696548e+00, -2.77696548e+00,\n",
    "   8.01388019e-02, -1.89049195e+00],\n",
    " [ 4.62010753e-11,  4.62010753e-11,  7.11985948e+00,  4.62010753e-11,\n",
    "   4.62010753e-11,  4.62010753e-11,  4.62010753e-11, -6.57909530e+00,\n",
    "   4.62010753e-11,  1.45674278e+00],\n",
    " [-7.07488416e+00,  1.11145475e+00, -7.07488416e+00,  1.11145475e+00,\n",
    "   1.11145475e+00,  8.52312194e+00, -9.79649900e+00, -9.79649900e+00,\n",
    "  -7.07488416e+00, -7.07488416e+00],\n",
    " [-1.83669770e-15, -1.83669770e-15, -1.83669770e-15, -1.83669770e-15,\n",
    "  -1.83669770e-15,  4.92282618e-01, -1.83669770e-15,  6.54921519e+00,\n",
    "  -9.96130680e+00, -5.47945251e-01],\n",
    " [ 2.72089316e+00, -4.04401088e+00,  2.72089316e+00, -4.04401088e+00,\n",
    "   2.72089316e+00, -9.77905618e-01,  6.03991147e+00,  6.09263825e+00,\n",
    "  -9.45481759e+00, -7.98031705e+00],\n",
    " [ 2.29423303e-05,  2.29423303e-05,  2.29423303e-05,  2.29423303e-05,\n",
    "   2.29423303e-05, -2.58466234e+00,  2.29423303e-05, -6.66329611e+00,\n",
    "  -9.75777903e+00,  2.39715201e+00],\n",
    " [-2.04721003e-06, -2.04721003e-06, -2.04721003e-06, -2.04721003e-06,\n",
    "   3.52018026e+00, -2.04721003e-06, -2.04721003e-06,  1.44708094e+00,\n",
    "   8.12803388e+00, 6.88416032e+00],\n",
    " [-1.59792834e-08, -1.59792834e-08, -1.59792834e-08, -3.05379060e+00,\n",
    "  -9.18584497e+00, -1.59792834e-08,  2.51711634e+00, -3.77143531e+00,\n",
    "  -7.44530184e-01,  1.12014836e+00],\n",
    " [ 9.98214034e-10,  9.98214034e-10,  6.47348339e+00,  9.98214034e-10,\n",
    "   9.98214034e-10,  2.20736239e+00,  9.98214034e-10,  9.98214034e-10,\n",
    "   9.98214034e-10,  1.01502717e+00]]\n",
    "print(len(params[0]), len(params))\n",
    "params = np.array(params)\n",
    "print(params.shape)"
   ]
  },
  {
   "cell_type": "code",
   "execution_count": 4,
   "metadata": {},
   "outputs": [
    {
     "name": "stdout",
     "output_type": "stream",
     "text": [
      "successfully submitted\n",
      "4.171454e+12 9.750932e+12\n",
      "Ratio - 4.278005e-01\n"
     ]
    }
   ],
   "source": [
    "a = [0.00000000e+00,\n",
    "  1.77968504e+00,\n",
    "  -9.45049799e+00,\n",
    "   4.62010753e-11, \n",
    "  1.11145475e+00, \n",
    "  -1.83669770e-15, \n",
    "  -4.04401088e+00, \n",
    "  2.29423303e-05, \n",
    "  -2.04721003e-06,\n",
    " -1.59792834e-08, \n",
    " 9.98214034e-10]\n",
    "x = get_errors(SECRET_KEY, list(a))\n",
    "y = submit(SECRET_KEY, list(a))\n",
    "print(y)\n",
    "print(\"{:e}\".format(int(x[0])), \"{:e}\".format(int(x[1])))\n",
    "print(\"Ratio - {:e}\".format(x[0]/x[1]))\n",
    "# 100\n",
    "# 65079706095525.54 - test error"
   ]
  },
  {
   "cell_type": "code",
   "execution_count": 4,
   "metadata": {},
   "outputs": [
    {
     "name": "stdout",
     "output_type": "stream",
     "text": [
      "successfully submitted\n",
      "2.478977e+10 3.176574e+11\n",
      "Ratio - 7.803933e-02\n"
     ]
    }
   ],
   "source": [
    "a = [ 9.05691340e+00,   -1.45799022e-12,  -7.01389535e+00, -2.53489167e+00, -1.75214813e-10,  \n",
    "  -1.83669770e-15,  8.38742005e+00,  2.29423303e-05, -2.04721003e-06,  -1.59792834e-08, 9.98214034e-10 ]\n",
    "x = get_errors(SECRET_KEY, list(a))\n",
    "y = submit(SECRET_KEY, list(a))\n",
    "print(y)\n",
    "print(\"{:e}\".format(int(x[0])), \"{:e}\".format(int(x[1])))\n",
    "print(\"Ratio - {:e}\".format(x[0]/x[1]))\n",
    "# 38821357054407.305"
   ]
  },
  {
   "cell_type": "code",
   "execution_count": 4,
   "metadata": {},
   "outputs": [
    {
     "name": "stdout",
     "output_type": "stream",
     "text": [
      "successfully submitted\n",
      "1.005810e+13 4.077578e+12\n",
      "Ratio - 2.466684e+00\n"
     ]
    }
   ],
   "source": [
    "a = [ 0.00000000e+00,\n",
    "  -6.58215072e-13,\n",
    "  -2.28980078e-13,\n",
    "  7.15318140e-12,\n",
    "  -2.84907530e-11,\n",
    "  -1.83669770e-15,\n",
    "  -9.81843988e-18,\n",
    "  -8.68780583e-07, \n",
    "  7.60605804e-07, \n",
    "  -1.59792834e-08, -5.30204612e-11]\n",
    "x = get_errors(SECRET_KEY, list(a))\n",
    "y = submit(SECRET_KEY, list(a))\n",
    "print(y)\n",
    "print(\"{:e}\".format(int(x[0])), \"{:e}\".format(int(x[1])))\n",
    "print(\"Ratio - {:e}\".format(x[0]/x[1]))\n",
    "# 213897858350339.03"
   ]
  },
  {
   "cell_type": "code",
   "execution_count": null,
   "metadata": {},
   "outputs": [],
   "source": []
  },
  {
   "cell_type": "code",
   "execution_count": 12,
   "metadata": {},
   "outputs": [],
   "source": [
    "init_params = np.zeros(shape=(11, 10), dtype=float)\n",
    "np.copyto(init_params, params)"
   ]
  },
  {
   "cell_type": "code",
   "execution_count": 4,
   "metadata": {},
   "outputs": [
    {
     "name": "stdout",
     "output_type": "stream",
     "text": [
      "Initial params:\n",
      "\n",
      "[[-3.89749305e-01  0.00000000e+00  5.04483508e-01  0.00000000e+00\n",
      "   0.00000000e+00  0.00000000e+00 -2.62722513e-01 -5.68633399e-01\n",
      "  -5.22305135e-01  0.00000000e+00]\n",
      " [-2.33347673e-12 -1.35449878e-12 -1.86960346e-12 -1.77225540e-12\n",
      "  -1.76734494e-12 -1.77745891e-12 -1.45799022e-12 -1.45799022e-12\n",
      "  -1.45799022e-12 -1.78582900e-12]\n",
      " [-2.06438646e-13 -2.85747350e-13 -2.28980078e-13 -2.28980078e-13\n",
      "  -2.28980078e-13 -2.28980078e-13 -2.28980078e-13 -2.28980078e-13\n",
      "  -2.28980078e-13 -1.93235126e-13]\n",
      " [ 4.63062591e-11  4.62010753e-11  4.17961380e-11  4.62010753e-11\n",
      "   4.62010753e-11  5.39109940e-11  4.62010753e-11  4.62010753e-11\n",
      "   4.75633237e-11  4.62010753e-11]\n",
      " [-2.60583637e-10 -1.75214813e-10 -1.28072621e-10 -1.11819061e-10\n",
      "  -1.30750534e-10 -1.59442085e-10 -1.11881811e-10 -1.80991365e-10\n",
      "  -1.75214813e-10 -1.27135138e-10]\n",
      " [-1.83669770e-15 -1.83669770e-15 -2.49447957e-15 -2.20872023e-15\n",
      "  -1.83669770e-15 -1.83669770e-15 -1.83669770e-15 -1.83669770e-15\n",
      "  -1.43804202e-15 -1.83669770e-15]\n",
      " [ 8.52944060e-16  8.52944060e-16  8.73401780e-16  8.52944060e-16\n",
      "   8.19617556e-16  8.52944060e-16  8.52944060e-16  9.13757823e-16\n",
      "   8.52944060e-16  7.94224460e-16]\n",
      " [ 2.36156533e-05  2.29423303e-05  1.89854862e-05  1.44798740e-05\n",
      "   2.29423303e-05  2.29423303e-05  2.29423303e-05  2.29423303e-05\n",
      "   2.29423303e-05  1.61585094e-05]\n",
      " [-1.30380368e-06 -2.77519374e-06 -1.57176544e-06 -2.04721003e-06\n",
      "  -2.04721003e-06 -2.27629341e-06 -2.04721003e-06 -2.01955966e-06\n",
      "  -2.81846595e-06 -1.89752702e-06]\n",
      " [-1.59792834e-08 -2.44537621e-08 -1.59792834e-08 -1.59792834e-08\n",
      "  -1.59792834e-08 -1.59792834e-08 -1.44121402e-08 -1.44001662e-08\n",
      "  -1.59792834e-08 -1.59792834e-08]\n",
      " [ 9.98214034e-10  1.00854469e-09  9.98214034e-10  9.98214034e-10\n",
      "   9.98214034e-10  1.06096881e-09  9.73201690e-10  9.52001877e-10\n",
      "   9.98214034e-10  9.98214034e-10]]\n",
      "[-1.35107233e+10 -2.92434411e+10 -2.94461453e+11 -1.02800118e+12\n",
      " -1.62025137e+12 -1.71077138e+12]\n",
      "Rank array\n",
      "[ 1  2  3 10  8  7  4  5  9  6]\n",
      "All errors\n",
      "[[13510723306.466742, 368296592886.55035], [29243441077.32705, 301622652642.8264], [294461452669.6173, 1494299482183.4006], [44756915225208.33, 74081791712048.89], [9562122982938.098, 16678831895325.441], [5480870479892.382, 11638552711038.842], [1028001180615.1322, 2525759767976.6704], [1620251366421.782, 92862997927.5093], [32924884347039.293, 76883454655514.6], [1710771377785.887, 1363872955476.5874]]\n",
      "Best offspring Gen errors\n",
      "[[1.35107233e+10 3.68296593e+11]\n",
      " [0.00000000e+00 0.00000000e+00]\n",
      " [0.00000000e+00 0.00000000e+00]\n",
      " [0.00000000e+00 0.00000000e+00]\n",
      " [0.00000000e+00 0.00000000e+00]]\n",
      "What's the matter with you\n",
      "What's the matter with you\n",
      "What's the matter with you\n",
      "What's the matter with you\n",
      "[-1.35107233e+10 -2.92434411e+10 -1.49469805e+12 -7.46311344e+10\n",
      " -1.47174701e+12 -8.58601071e+11]\n",
      "Rank array\n",
      "[ 1  2  9 10  6  3  7  5  8  4]\n",
      "All errors\n",
      "[[13510723306.466742, 368296592886.55035], [29243441077.32705, 301622652642.8264], [62957671969905.734, 115458287607961.28], [79245735707563.45, 163421419810724.06], [1494698053497.499, 2052441676964.5918], [74631134384.38797, 461380548542.49426], [4518732291368.873, 10111919729176.658], [1471747009017.7568, 271898950145.04413], [54949895412837.91, 119803313671988.62], [858601071255.3235, 498823872241.7992]]\n",
      "Best offspring Gen errors\n",
      "[[1.35107233e+10 3.68296593e+11]\n",
      " [1.35107233e+10 3.68296593e+11]\n",
      " [0.00000000e+00 0.00000000e+00]\n",
      " [0.00000000e+00 0.00000000e+00]\n",
      " [0.00000000e+00 0.00000000e+00]]\n",
      "What's the matter with you\n",
      "What's the matter with you\n",
      "What's the matter with you\n",
      "What's the matter with you\n",
      "[-1.35107233e+10 -2.92434411e+10 -2.21373281e+13 -1.58039820e+13\n",
      " -6.54255874e+12 -2.32262569e+13]\n",
      "Rank array\n",
      "[ 1  2  5  9  4  3  6  8 10  7]\n",
      "All errors\n",
      "[[13510723306.466742, 368296592886.55035], [29243441077.32705, 301622652642.8264], [22137328089506.32, 48231413120453.58], [46289991696242.62, 98139884173314.38], [15803982018798.213, 25977959014180.883], [6542558736957.848, 7625233802560.8125], [23226256934570.59, 36824696638521.87], [42405052234669.914, 92944706466108.7], [87701154759135.89, 178446383075288.38], [31018132061065.145, 67202340195743.516]]\n",
      "Best offspring Gen errors\n",
      "[[1.35107233e+10 3.68296593e+11]\n",
      " [1.35107233e+10 3.68296593e+11]\n",
      " [1.35107233e+10 3.68296593e+11]\n",
      " [0.00000000e+00 0.00000000e+00]\n",
      " [0.00000000e+00 0.00000000e+00]]\n",
      "What's the matter with you\n",
      "What's the matter with you\n",
      "What's the matter with you\n",
      "What's the matter with you\n",
      "[-1.35107233e+10 -2.92434411e+10 -3.85199292e+11 -1.37633344e+12\n",
      " -5.99922434e+11 -1.80132539e+11]\n",
      "Rank array\n",
      "[ 1  2  7  4  9  8 10  6  5  3]\n",
      "All errors\n",
      "[[13510723306.466742, 368296592886.55035], [29243441077.32705, 301622652642.8264], [1803546756515.9995, 2820100233227.495], [385199291672.1307, 220361137843.99585], [14162044158653.004, 32543125998462.594], [3642207418820.336, 2828214484271.665], [40974556253836.62, 71381752001676.78], [1376333435315.03, 1249992256024.4106], [599922433813.3204, 1983016502569.0786], [180132539075.4202, 190920294854.13104]]\n",
      "Best offspring Gen errors\n",
      "[[1.35107233e+10 3.68296593e+11]\n",
      " [1.35107233e+10 3.68296593e+11]\n",
      " [1.35107233e+10 3.68296593e+11]\n",
      " [1.35107233e+10 3.68296593e+11]\n",
      " [0.00000000e+00 0.00000000e+00]]\n",
      "What's the matter with you\n",
      "What's the matter with you\n",
      "What's the matter with you\n",
      "What's the matter with you\n",
      "[-1.35107233e+10 -2.92434411e+10 -2.03713622e+12 -5.94195158e+12\n",
      " -4.98261638e+11 -2.23565882e+12]\n",
      "Rank array\n",
      "[ 1  2  4  7  6  9  3 10  5  8]\n",
      "All errors\n",
      "[[13510723306.466742, 368296592886.55035], [29243441077.32705, 301622652642.8264], [2037136220966.4778, 2089572132470.3882], [9674084312174.396, 24801696915629.816], [5941951583001.176, 16271642759958.568], [13711220793616.672, 23417129367662.277], [498261637955.3673, 512088283277.72314], [19614002241041.926, 41759615342961.695], [2235658821414.5317, 3260538167657.3955], [10058955899024.52, 23495213036661.816]]\n",
      "Best offspring Gen errors\n",
      "[[1.35107233e+10 3.68296593e+11]\n",
      " [1.35107233e+10 3.68296593e+11]\n",
      " [1.35107233e+10 3.68296593e+11]\n",
      " [1.35107233e+10 3.68296593e+11]\n",
      " [1.35107233e+10 3.68296593e+11]]\n",
      "What's the matter with you\n",
      "What's the matter with you\n",
      "What's the matter with you\n",
      "What's the matter with you\n"
     ]
    },
    {
     "name": "stderr",
     "output_type": "stream",
     "text": [
      "/home/vishal/Volume_D/sem_4/Courses/Machine, Data and Learning/Assignments/Official Github Repo/MDL/Assignment2/helpers.py:192: UserWarning: Matplotlib is currently using module://ipykernel.pylab.backend_inline, which is a non-GUI backend, so cannot show the figure.\n",
      "  fig.show()\n"
     ]
    },
    {
     "data": {
      "image/png": "[encoded data removed]",
      "text/plain": [
       "<Figure size 432x288 with 1 Axes>"
      ]
     },
     "metadata": {
      "needs_background": "light"
     },
     "output_type": "display_data"
    }
   ],
   "source": [
    "#init_overfit_params, init_params = initialize_params()\n",
    "NO_OF_GENERATIONS = 5\n",
    "generation_errors = np.zeros(shape=(NO_OF_GENERATIONS, 2), dtype=float)\n",
    "#params = np.zeros(shape=(11, POPULATION_SIZE), dtype=float)\n",
    "#np.copyto(params, init_params)\n",
    "print(\"Initial params:\\n\")\n",
    "print(init_params)\n",
    "#target_directory = \"Results/3-04/run2\"\n",
    "target_directory = file_name()\n",
    "mkdir_p(target_directory)\n",
    "f = open(\"{}/params.txt\".format(target_directory), \"w\")\n",
    "#f.write(\"Run 3 of 3rd March is continued, we started with the final parameters of previous run i.e. run3 and simulated x more generations where x =\\n\" + str(NO_OF_GENERATIONS) + \"\\n\")\n",
    "f.write(\"Fitness funtion: -1 * (train_validation_error[:, 1] + train_validation_error[:, 0])\\n\")\n",
    "f.write(\"Initialed with the best that we have until now\\n\")\n",
    "f.write(\"Starting all over again with new root population\\n\")\n",
    "f.write(\"No of generations: \" + str(NO_OF_GENERATIONS) + \"\\n\")\n",
    "f.write(\"Population size: \" + str(POPULATION_SIZE) + \"\\n\")\n",
    "f.write(\"Mutation coefficient: \" + str(MUTATION_COEFF) + \"\\n\")\n",
    "f.write(\"Split point: \" + str(SPLIT_POINT) + \"\\n\")\n",
    "f.write(\"Two offspring per pair\\n\")\n",
    "\n",
    "for i in range(NO_OF_GENERATIONS):\n",
    "    train_validation_errors = None\n",
    "    fitness_score_array = None\n",
    "    rank_array = None\n",
    "    # fitness\n",
    "    train_validation_errors = get_train_validation_errors(SECRET_KEY, POPULATION_SIZE, params)\n",
    "    fitness_score_array = fitness(np.array(train_validation_errors))\n",
    "    rank_array, selection_prob = get_rank_and_probabilities(fitness_score_array)\n",
    "    elite_parents = return_elite(rank_array, POPULATION_SIZE, 2)\n",
    "    final_parents = select_the_best(rank_array, POPULATION_SIZE, int(POPULATION_SIZE*0.6))\n",
    "    parents = []\n",
    "    parent_fitness = np.zeros(shape = (len(final_parents), ), dtype = float)\n",
    "    k = 0\n",
    "    temp_errors = list_to_array(train_validation_errors)\n",
    "    elite_params = []\n",
    "    for j in elite_parents:\n",
    "        elite_params.append(params[:, j])\n",
    "        #parent_fitness[k] = fitness_score_array[j]\n",
    "        #k += 1\n",
    "    for j in final_parents:\n",
    "        parents.append(params[:, j])\n",
    "        parent_fitness[k] = fitness_score_array[j]\n",
    "        k += 1\n",
    "    print(parent_fitness)\n",
    "    # Parents are ready\n",
    "    elite_params = list_to_array(elite_params)\n",
    "    parents = list_to_array(parents)\n",
    "    parent_rank_array, parent_selection_prob = get_rank_and_probabilities(parent_fitness)\n",
    "    \n",
    "    f.write(\"Population:\\n\")\n",
    "    f.write(str(params))\n",
    "    f.write(\"\\nTrain validation errors\\n\")\n",
    "    f.write(str(train_validation_errors))\n",
    "    f.write('\\n')\n",
    "    f.write(\"Selected parents:\\n\")\n",
    "    f.write(str(parents))\n",
    "    for j in range(POPULATION_SIZE):\n",
    "        if rank_array[j]==1:\n",
    "            generation_errors[i, :] += train_validation_errors[j]\n",
    "    print(\"Rank array\")\n",
    "    print(rank_array)\n",
    "    print(\"All errors\")\n",
    "    print(train_validation_errors)\n",
    "    print(\"Best offspring Gen errors\")\n",
    "    print(generation_errors)\n",
    "    # crossover and mutation\n",
    "    temp_count = 2\n",
    "    offspring_params = np.zeros(shape=(11, POPULATION_SIZE), dtype=float)\n",
    "    offspring_params[:, 0] = elite_params[0, :]\n",
    "    offspring_params[:, 1] = elite_params[1, :]\n",
    "    while temp_count < POPULATION_SIZE:\n",
    "        k, l = select_parents(parent_selection_prob)\n",
    "        #print(k, l)\n",
    "        print(\"What's the matter with you\")\n",
    "        offspring1, offspring2 = cross_over(parents[k, :], parents[l, :], SPLIT_POINT)\n",
    "        #print(offspring)\n",
    "        offspring1 = mutate(offspring1)\n",
    "        offspring2 = mutate(offspring2)\n",
    "        #print(offspring)\n",
    "        offspring_params[:, temp_count] += offspring1[:]\n",
    "        offspring_params[:, temp_count+1] += offspring2[:]\n",
    "        #print(offspring_params)\n",
    "        temp_count += 2\n",
    "    #print(\"Errors\")\n",
    "    #print(generation_errors)\n",
    "    #print(\"params\")\n",
    "    #print(offspring_params)\n",
    "    np.copyto(params, offspring_params)\n",
    "f.write('Best offspring gen errors:\\n')\n",
    "f.write(str(generation_errors))\n",
    "f.close()\n",
    "plot_graph(NO_OF_GENERATIONS, generation_errors, target_directory)"
   ]
  },
  {
   "cell_type": "code",
   "execution_count": null,
   "metadata": {},
   "outputs": [],
   "source": [
    "def trash3():\n",
    "    init_overfit_params, init_params = initialize_params()\n",
    "    NO_OF_GENERATIONS = 3\n",
    "    generation_errors = np.zeros(shape=(NO_OF_GENERATIONS, 2), dtype=float)\n",
    "    params = np.zeros(shape=(11, POPULATION_SIZE), dtype=float)\n",
    "    np.copyto(params, init_params)\n",
    "\n",
    "    train_validation_errors = get_train_validation_errors(SECRET_KEY, POPULATION_SIZE, params)\n",
    "    fitness_score_array = fitness(np.array(train_validation_errors))\n",
    "    rank_array, selection_prob = get_rank_and_probabilities(fitness_score_array)\n",
    "    elite_parents = return_elite(rank_array, POPULATION_SIZE, 2)\n",
    "    final_parents = select_the_best(rank_array, POPULATION_SIZE, int(POPULATION_SIZE*0.9))"
   ]
  },
  {
   "cell_type": "code",
   "execution_count": null,
   "metadata": {},
   "outputs": [],
   "source": [
    "def trash2():\n",
    "    train_validation_errors = get_train_validation_errors(SECRET_KEY, POPULATION_SIZE, params)\n",
    "    fitness_score_array = fitness(np.array(train_validation_errors))\n",
    "    rank_array, selection_prob = get_rank_and_probabilities(fitness_score_array)\n",
    "    elite_parents = return_elite(rank_array, POPULATION_SIZE, 2)\n",
    "    final_parents = select_the_best(rank_array, POPULATION_SIZE, int(POPULATION_SIZE*0.4))\n",
    "    parents = []\n",
    "    print(elite_parents)\n",
    "    print(final_parents)\n",
    "    for i in elite_parents:\n",
    "        parents.append(params[:, i])\n",
    "    for i in final_parents:\n",
    "        parents.append(params[:, i])\n",
    "    print(parents)\n",
    "    parents = np.array(parents)\n",
    "    print(parents)"
   ]
  },
  {
   "cell_type": "code",
   "execution_count": null,
   "metadata": {},
   "outputs": [],
   "source": [
    "def trash():\n",
    "    parent_fitness = np.zeros(shape = (len(elite_parents) + len(final_parents), 2), dtype = float)\n",
    "    k = 0\n",
    "    temp_errors = list_to_array(train_validation_errors)\n",
    "    for i in elite_parents:\n",
    "    #parents.append(params[:, i])\n",
    "        parent_fitness[k, :] = temp_errors[i, :]\n",
    "        k += 1\n",
    "    for i in final_parents:\n",
    "        #parents.append(params[:, i])\n",
    "        parent_fitness[k, :] += temp_errors[i, :]\n",
    "        k += 1\n",
    "    print(parent_fitness)"
   ]
  },
  {
   "cell_type": "code",
   "execution_count": null,
   "metadata": {},
   "outputs": [],
   "source": [
    "#elite_parents.size\n",
    "elite_params[1, :]"
   ]
  },
  {
   "cell_type": "code",
   "execution_count": null,
   "metadata": {},
   "outputs": [],
   "source": [
    "train_validation_errors[:][1]"
   ]
  },
  {
   "cell_type": "code",
   "execution_count": null,
   "metadata": {
    "scrolled": true
   },
   "outputs": [],
   "source": [
    "#get_overfit_vector(SECRET_KEY)\n",
    "parent1[0:SPLIT_POINT]"
   ]
  },
  {
   "cell_type": "code",
   "execution_count": null,
   "metadata": {},
   "outputs": [],
   "source": [
    "#get_overfit_vector(SECRET_KEY)\n",
    "parent_fitness.size\n",
    "parent_fitness = np.zeros(shape = (len(elite_parents) + len(final_parents)), dtype = float)\n",
    "parent_fitness.size"
   ]
  },
  {
   "cell_type": "code",
   "execution_count": null,
   "metadata": {},
   "outputs": [],
   "source": [
    "#get_errors()\n",
    "k, l = select_parents(parent_selection_prob)\n",
    "offspring1, offspring2 = cross_over(parents[k, :], parents[l, :], SPLIT_POINT)\n",
    "print(offspring1)"
   ]
  },
  {
   "cell_type": "code",
   "execution_count": null,
   "metadata": {},
   "outputs": [],
   "source": [
    "def dumb():\n",
    "    init_overfit_params, init_params = initialize_params()\n",
    "    NO_OF_GENERATIONS = 3\n",
    "    generation_errors = np.zeros(shape=(NO_OF_GENERATIONS, 2), dtype=float)\n",
    "    params = np.zeros(shape=(11, POPULATION_SIZE), dtype=float)\n",
    "    np.copyto(params, init_params)\n",
    "    print(\"Initial params:\\n\")\n",
    "    print(init_params)\n",
    "    target_directory = \"Results/3-01/run9\"\n",
    "    mkdir_p(target_directory)\n",
    "    f = open(\"{}/params.txt\".format(target_directory), \"w\")\n",
    "    #f.write(\"Run 1 of 27th feb is continued, we started with the final parameters of previous run i.e. run4 and simulated x more generations where x =\\n\" + str(NO_OF_GENERATIONS) + \"\\n\")\n",
    "    f.write(\"Starting all over again with new root population\\n\")\n",
    "    f.write(\"No of generations: \" + str(NO_OF_GENERATIONS) + \"\\n\")\n",
    "    f.write(\"Population size: \" + str(POPULATION_SIZE) + \"\\n\")\n",
    "    f.write(\"Mutation coefficient: \" + str(MUTATION_COEFF) + \"\\n\")\n",
    "    f.write(\"Split point: \" + str(SPLIT_POINT) + \"\\n\")\n",
    "    f.write(\"One offspring per pair\\n\")\n",
    "\n",
    "    for i in range(NO_OF_GENERATIONS):\n",
    "        train_validation_errors = None\n",
    "        fitness_score_array = None\n",
    "        rank_array = None\n",
    "        # fitness\n",
    "        train_validation_errors = get_train_validation_errors(SECRET_KEY, POPULATION_SIZE, params)\n",
    "        fitness_score_array = fitness(np.array(train_validation_errors))\n",
    "        rank_array, selection_prob = get_rank_and_probabilities(fitness_score_array)\n",
    "        f.write(\"Population:\\n\")\n",
    "        f.write(str(params))\n",
    "        f.write(\"\\nTrain validation errors\\n\")\n",
    "        f.write(str(train_validation_errors))\n",
    "        f.write('\\n')\n",
    "        temp_min_avg = 1.00e+27\n",
    "        for j in range(POPULATION_SIZE):\n",
    "            if ((train_validation_errors[:, 0] + train_validation_errors[:, 1])/2)<=temp_min_avg:\n",
    "                temp_min_avg = ((train_validation_errors[:, 0] + train_validation_errors[:, 1])/2)\n",
    "                generation_errors[i, :] = train_validation_errors[j]\n",
    "        print(\"Rank array\")\n",
    "        print(rank_array)\n",
    "        print(\"All errors\")\n",
    "        print(train_validation_errors)\n",
    "        print(\"Best offspring Gen errors\")\n",
    "        print(generation_errors)\n",
    "        # crossover and mutation\n",
    "        temp_count = 0\n",
    "        offspring_params = np.zeros(shape=(11, POPULATION_SIZE), dtype=float)\n",
    "        while temp_count < POPULATION_SIZE:\n",
    "            k, l = select_parents(selection_prob)\n",
    "            #print(k, l)\n",
    "            offspring1, offspring2 = cross_over(params[:, k], params[:, l], SPLIT_POINT)\n",
    "            #print(offspring)\n",
    "            offspring1 = mutate(offspring1)\n",
    "            offspring2 = mutate(offspring2)\n",
    "            #print(offspring)\n",
    "            offspring_params[:, temp_count] += offspring1[:]\n",
    "            offspring_params[:, temp_count+1] += offspring2[:]\n",
    "            #print(offspring_params)\n",
    "            temp_count += 2\n",
    "        #print(\"Errors\")\n",
    "        #print(generation_errors)\n",
    "        #print(\"params\")\n",
    "        #print(offspring_params)\n",
    "        np.copyto(params, offspring_params)\n",
    "\n",
    "    f.close()\n",
    "    plot_graph(NO_OF_GENERATIONS, generation_errors, target_directory)"
   ]
  },
  {
   "cell_type": "code",
   "execution_count": 3,
   "metadata": {},
   "outputs": [
    {
     "name": "stdout",
     "output_type": "stream",
     "text": [
      "successfully submitted\n",
      "1.121354e+11 3.341928e+11\n",
      "Ratio - 3.355410e-01\n"
     ]
    }
   ],
   "source": [
    "a = [ 0.00000000e+00, 8.13349423e+00, 3.83867322e+00, \n",
    "  -7.65709325e+00, -1.75214813e-10, \n",
    " -1.83669770e-15, 2.59680065e+00, 2.29423303e-05, -2.04721003e-06, -1.59792834e-08, 9.98214034e-10 ]\n",
    "x = get_errors(SECRET_KEY, list(a))\n",
    "y = submit(SECRET_KEY, list(a))\n",
    "print(y)\n",
    "print(\"{:e}\".format(int(x[0])), \"{:e}\".format(int(x[1])))\n",
    "print(\"Ratio - {:e}\".format(x[0]/x[1]))\n",
    "# 41241648166170.71"
   ]
  },
  {
   "cell_type": "code",
   "execution_count": 3,
   "metadata": {},
   "outputs": [
    {
     "name": "stdout",
     "output_type": "stream",
     "text": [
      "successfully submitted\n",
      "1.351072e+10 3.682966e+11\n",
      "Ratio - 3.668436e-02\n"
     ]
    }
   ],
   "source": [
    "a = [ 0.00000000e+00,-1.45799022e-12,-2.28980078e-13,4.62010753e-11,\n",
    "  -1.75214813e-10\n",
    "  ,-1.83669770e-15, 8.52944060e-16,2.29423303e-05,-2.04721003e-06,-1.59792834e-08, 9.98214034e-10]\n",
    "x = get_errors(SECRET_KEY, list(a))\n",
    "y = submit(SECRET_KEY, list(a))\n",
    "print(y)\n",
    "print(\"{:e}\".format(int(x[0])), \"{:e}\".format(int(x[1])))\n",
    "print(\"Ratio - {:e}\".format(x[0]/x[1]))\n",
    "# 37778024344010.36"
   ]
  },
  {
   "cell_type": "code",
   "execution_count": 3,
   "metadata": {},
   "outputs": [
    {
     "name": "stdout",
     "output_type": "stream",
     "text": [
      "successfully submitted\n",
      "1.374881e+11 3.552463e+11\n",
      "Ratio - 3.870220e-01\n"
     ]
    }
   ],
   "source": [
    "a = [ 0.00000000e+00,\n",
    "  -1.45799022e-12,\n",
    "  -2.28980078e-13,\n",
    "  -8.54006209e+00,\n",
    "  -1.75214813e-10,\n",
    "  -1.83669770e-15,\n",
    "  -8.68862982e+00,\n",
    "  2.29423303e-05,-2.04721003e-06,-1.59792834e-08,9.98214034e-10]\n",
    "x = get_errors(SECRET_KEY, list(a))\n",
    "y = submit(SECRET_KEY, list(a))\n",
    "print(y)\n",
    "print(\"{:e}\".format(int(x[0])), \"{:e}\".format(int(x[1])))\n",
    "print(\"Ratio - {:e}\".format(x[0]/x[1]))\n",
    "# 41615589416805.38"
   ]
  },
  {
   "cell_type": "code",
   "execution_count": 4,
   "metadata": {},
   "outputs": [
    {
     "name": "stdout",
     "output_type": "stream",
     "text": [
      "0.000000e+00\n"
     ]
    }
   ],
   "source": [
    "print(\"{:e}\".format(0))"
   ]
  },
  {
   "cell_type": "code",
   "execution_count": 5,
   "metadata": {},
   "outputs": [],
   "source": [
    "order = 11\n",
    "s1 = \"-1.00e-{}\".format(order)\n",
    "s2 = \"-1.00e-{}\".format(order)\n",
    "x = np.random.uniform(float(s1), float(s2))"
   ]
  },
  {
   "cell_type": "code",
   "execution_count": 2,
   "metadata": {},
   "outputs": [
    {
     "name": "stdout",
     "output_type": "stream",
     "text": [
      "[ 7.95898555e-01 -2.40753956e-12 -2.76851661e-13  0.00000000e+00\n",
      " -1.24115132e-10 -2.30891518e-15  0.00000000e+00  0.00000000e+00\n",
      "  0.00000000e+00  0.00000000e+00  9.86843119e-10]\n",
      "[0.0, -1.45799022e-12, -2.28980078e-13, -8.54006209, -1.75214813e-10, -1.8366977e-15, -8.68862982, 2.29423303e-05, -2.04721003e-06, -1.59792834e-08, 9.98214034e-10]\n",
      "[-7.95898555e-01  9.49549343e-13  4.78715830e-14 -8.54006209e+00\n",
      " -5.10996811e-11  4.72217476e-16 -8.68862982e+00  2.29423303e-05\n",
      " -2.04721003e-06 -1.59792834e-08  1.13709152e-11]\n"
     ]
    }
   ],
   "source": [
    "a = [ 0.00000000e+00,\n",
    "  -1.45799022e-12,\n",
    "  -2.28980078e-13,\n",
    "  -8.54006209e+00,\n",
    "  -1.75214813e-10,\n",
    "  -1.83669770e-15,\n",
    "  -8.68862982e+00,\n",
    "  2.29423303e-05,-2.04721003e-06,-1.59792834e-08,9.98214034e-10]\n",
    "b = mutate(a)\n",
    "print(a-b)\n",
    "print(a)\n",
    "print(b)"
   ]
  },
  {
   "cell_type": "code",
   "execution_count": 10,
   "metadata": {},
   "outputs": [],
   "source": [
    "x = np.random.uniform(-1.00e-11, 1.00e-12)"
   ]
  },
  {
   "cell_type": "code",
   "execution_count": 2,
   "metadata": {},
   "outputs": [
    {
     "name": "stdout",
     "output_type": "stream",
     "text": [
      "9.982140e-10\n",
      "1 0\n"
     ]
    },
    {
     "data": {
      "text/plain": [
       "10"
      ]
     },
     "execution_count": 2,
     "metadata": {},
     "output_type": "execute_result"
    }
   ],
   "source": [
    "o = return_order(9.98214034e-10)\n",
    "o"
   ]
  },
  {
   "cell_type": "code",
   "execution_count": 7,
   "metadata": {},
   "outputs": [],
   "source": [
    "order = 11\n",
    "s1 = \"-1.00e-{}\".format(order)\n",
    "s2 = \"+1.00e-{}\".format(order)\n",
    "x = np.random.uniform(float(s1), float(s2))"
   ]
  },
  {
   "cell_type": "code",
   "execution_count": 6,
   "metadata": {},
   "outputs": [],
   "source": [
    "a = [ 2.89839006e-01,\n",
    "  -1.45799022e-12,\n",
    "  -2.56414480e-14,\n",
    "  -3.35338108e-12,\n",
    "  -1.75214813e-10,\n",
    "  -1.83669770e-15,\n",
    "  8.52944060e-16,\n",
    "  1.46370563e-06,\n",
    "  7.27926024e-07,\n",
    "  -1.59792834e-08,\n",
    "  -3.29557547e-13]\n",
    "# 222410128012553.7 rank 104"
   ]
  },
  {
   "cell_type": "code",
   "execution_count": null,
   "metadata": {},
   "outputs": [],
   "source": []
  }
 ],
 "metadata": {
  "kernelspec": {
   "display_name": "science2_env",
   "language": "python",
   "name": "science2_env"
  },
  "language_info": {
   "codemirror_mode": {
    "name": "ipython",
    "version": 3
   },
   "file_extension": ".py",
   "mimetype": "text/x-python",
   "name": "python",
   "nbconvert_exporter": "python",
   "pygments_lexer": "ipython3",
   "version": "3.8.5"
  }
 },
 "nbformat": 4,
 "nbformat_minor": 4
}
